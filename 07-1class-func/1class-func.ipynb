{
 "cells": [
  {
   "cell_type": "markdown",
   "id": "77e63054-b83c-424d-a45d-30e2f6f7f1fa",
   "metadata": {},
   "source": [
    "# 引言\n",
    "\n",
    "函数是Python的一等(first-class)对象。一等对象作为一个程序实体可以：\n",
    "* 在运行时创建\n",
    "* 分配给数据结构中的变量或元素\n",
    "* 作为函数的参数\n",
    "* 作为函数的返回值\n",
    "\n",
    "整数、字符串和字典是Python其他的一等对象的例子。本章和第三部分的大部分内容探讨了将函数作为对象来处理的实际应用。\n",
    "\n",
    "# 新内容简介\n",
    "\n",
    "无法直接找到对应的旧版本章节，基本上以前章节内容的整合，同时加入了新内容。\n",
    "\n",
    "# 将函数看成对象\n",
    "\n",
    "下面的代码显示了Python函数是对象。这里我们创建一个函数，调用它，读取`__doc__`属性，然后检查函数对象本身是`function`类的实例。"
   ]
  },
  {
   "cell_type": "code",
   "execution_count": 1,
   "id": "c920e319-306b-4487-995a-5bc5fa91ccc7",
   "metadata": {},
   "outputs": [],
   "source": [
    "def factorial(n): # 这是控制台session,所以我们在运行时创建函数\n",
    "    \"\"\"返回 n!\"\"\"\n",
    "    return 1 if n < 2 else n * factorial(n - 1)"
   ]
  },
  {
   "cell_type": "code",
   "execution_count": 2,
   "id": "7251312f-4815-42dc-9f6c-13cd1cf99a5e",
   "metadata": {},
   "outputs": [
    {
     "data": {
      "text/plain": [
       "1405006117752879898543142606244511569936384000000000"
      ]
     },
     "execution_count": 2,
     "metadata": {},
     "output_type": "execute_result"
    }
   ],
   "source": [
    "factorial(42)"
   ]
  },
  {
   "cell_type": "code",
   "execution_count": 3,
   "id": "ec8d5ec3-f393-460c-8436-f383e5a2eb8d",
   "metadata": {},
   "outputs": [
    {
     "data": {
      "text/plain": [
       "'返回 n!'"
      ]
     },
     "execution_count": 3,
     "metadata": {},
     "output_type": "execute_result"
    }
   ],
   "source": [
    "factorial.__doc__ # 是function对象的几个属性之一"
   ]
  },
  {
   "cell_type": "code",
   "execution_count": 4,
   "id": "728f40fe-957c-4bdc-8886-2c0152c4011b",
   "metadata": {},
   "outputs": [
    {
     "data": {
      "text/plain": [
       "function"
      ]
     },
     "execution_count": 4,
     "metadata": {},
     "output_type": "execute_result"
    }
   ],
   "source": [
    "type(factorial) # factorial是function类的一个实例"
   ]
  },
  {
   "cell_type": "code",
   "execution_count": 6,
   "id": "68773f17-a72c-43f7-90b0-73a8c8daf0ba",
   "metadata": {},
   "outputs": [
    {
     "name": "stdout",
     "output_type": "stream",
     "text": [
      "Help on function factorial in module __main__:\n",
      "\n",
      "factorial(n)\n",
      "    返回 n!\n",
      "\n"
     ]
    }
   ],
   "source": [
    "help(factorial) # __doc__属性用于生成对象的帮助文本"
   ]
  },
  {
   "cell_type": "markdown",
   "id": "c2ce1aca-d84d-40f8-ad8f-9e41b8266ee8",
   "metadata": {},
   "source": [
    "下面显示一个函数对象的一等本质。我们可以将它赋值为变量`fact`，然后通过该名称调用它。我们也可以传递`factorial`作为`map`函数的参数。调用`map(function, iterable)`返回一个可迭代对象，其中，每项是将第一个参数（函数）调用到第二个参数（可迭代）的连续元素的结果，本例中为`range(10)`。"
   ]
  },
  {
   "cell_type": "code",
   "execution_count": 7,
   "id": "b69ada8d-cdeb-47a2-97f5-af46df4cf7a0",
   "metadata": {},
   "outputs": [
    {
     "data": {
      "text/plain": [
       "<function __main__.factorial(n)>"
      ]
     },
     "execution_count": 7,
     "metadata": {},
     "output_type": "execute_result"
    }
   ],
   "source": [
    "fact = factorial\n",
    "fact"
   ]
  },
  {
   "cell_type": "code",
   "execution_count": 8,
   "id": "375d1eae-adb5-44d4-8a37-32374de68bf3",
   "metadata": {},
   "outputs": [
    {
     "data": {
      "text/plain": [
       "120"
      ]
     },
     "execution_count": 8,
     "metadata": {},
     "output_type": "execute_result"
    }
   ],
   "source": [
    "fact(5)"
   ]
  },
  {
   "cell_type": "code",
   "execution_count": 9,
   "id": "b19aafd0-6d80-4b93-9f0a-8856a0e3f2a3",
   "metadata": {},
   "outputs": [
    {
     "data": {
      "text/plain": [
       "<map at 0x1c67cda15b0>"
      ]
     },
     "execution_count": 9,
     "metadata": {},
     "output_type": "execute_result"
    }
   ],
   "source": [
    "map(factorial, range(11))"
   ]
  },
  {
   "cell_type": "code",
   "execution_count": 10,
   "id": "c59c8106-fc62-430b-aa23-83034b74bb79",
   "metadata": {},
   "outputs": [
    {
     "data": {
      "text/plain": [
       "[1, 1, 2, 6, 24, 120, 720, 5040, 40320, 362880, 3628800]"
      ]
     },
     "execution_count": 10,
     "metadata": {},
     "output_type": "execute_result"
    }
   ],
   "source": [
    "list(map(factorial, range(11)))"
   ]
  },
  {
   "cell_type": "markdown",
   "id": "d9cc1f0e-5bff-4a0c-ac87-20504f38fb43",
   "metadata": {},
   "source": [
    "具有一等的函数，可以以函数式风格进行编程。函数式编程的特点之一是使用高阶函数，我们的下一个主题介绍。\n",
    "\n",
    "# 高阶函数\n",
    "\n",
    "一个函数如果它能以函数作为参数或能返回函数，那么它就是高阶函数。一个例子就是上面演示的`map`，另一个例子是内置的函数`sorted`:可选的`key`参数可以让你提供一个函数来应用到要排序的每项。比如，要根据单词列表中每个单词的长度排序，将`len`函数作为`key`传递："
   ]
  },
  {
   "cell_type": "code",
   "execution_count": 11,
   "id": "4969a4c3-c782-4f94-b97c-c58b5e69dcca",
   "metadata": {},
   "outputs": [
    {
     "data": {
      "text/plain": [
       "['fig', 'apple', 'cherry', 'banana', 'raspberry', 'strawberry']"
      ]
     },
     "execution_count": 11,
     "metadata": {},
     "output_type": "execute_result"
    }
   ],
   "source": [
    "fruits = ['strawberry', 'fig', 'apple', 'cherry', 'raspberry', 'banana']\n",
    "sorted(fruits, key=len)"
   ]
  },
  {
   "cell_type": "markdown",
   "id": "dd418853-2f98-4469-aff0-3c60e7864440",
   "metadata": {},
   "source": [
    "任何只有一个参数的函数都能作为这个`key`。比如，为了创建一个押韵字典，那么能通过每个单词拼写反向排序时非常有用的。\n",
    "只有它们的逆序拼写作为排序准则，所以这些浆果(berries)出现在一起。"
   ]
  },
  {
   "cell_type": "code",
   "execution_count": 12,
   "id": "2bd0f159-da80-4d9e-9b1b-0b12af8a8a0f",
   "metadata": {},
   "outputs": [
    {
     "data": {
      "text/plain": [
       "'gnitset'"
      ]
     },
     "execution_count": 12,
     "metadata": {},
     "output_type": "execute_result"
    }
   ],
   "source": [
    "def reverse(word):\n",
    "    return word[::-1]\n",
    "\n",
    "reverse('testing')"
   ]
  },
  {
   "cell_type": "code",
   "execution_count": 13,
   "id": "0046ca7f-7225-4740-9fb0-6d4ec5a8b5a6",
   "metadata": {},
   "outputs": [
    {
     "data": {
      "text/plain": [
       "['banana', 'apple', 'fig', 'raspberry', 'strawberry', 'cherry']"
      ]
     },
     "execution_count": 13,
     "metadata": {},
     "output_type": "execute_result"
    }
   ],
   "source": [
    "sorted(fruits, key=reverse)"
   ]
  },
  {
   "cell_type": "markdown",
   "id": "fa6ce90c-e90e-4452-a9fd-bf49e2556405",
   "metadata": {},
   "source": [
    "在函数式编程的范式中，一些最著名的高阶函数是`map`、`filter`、`reduce`和`apply`。其中`apply`已经从Python3中移除。\n",
    "如果你需要带动态参数集的方式调用一个函数，你可以通过`fn(*args, **kwargs)`而不是`apply(fn, args, kwargs)`。\n",
    "\n",
    "`map`、`filter`和`reduce`高阶函数仍然可用，但，如下一节所示，大多数情况下都有更好的替代者。\n",
    "\n",
    "## map,filter和reduce的最新替代者\n",
    "\n",
    "函数式语言通常会提供`map,filter,reduce`等高阶函数。`map`和`filter`函数也是Python3内置的，但自引入了列表推导式和生成器表达式后，它们不再那么重要了。一个列表推导式或生成器表达式同时完成了`map`和`filter`的工作，而且更加可读。"
   ]
  },
  {
   "cell_type": "code",
   "execution_count": 14,
   "id": "5fd63a88-0a32-42d4-90e4-68d08d9f2c3c",
   "metadata": {},
   "outputs": [
    {
     "data": {
      "text/plain": [
       "[1, 1, 2, 6, 24, 120]"
      ]
     },
     "execution_count": 14,
     "metadata": {},
     "output_type": "execute_result"
    }
   ],
   "source": [
    "list(map(factorial, range(6))) # 构建一个阶乘 0!到5!"
   ]
  },
  {
   "cell_type": "code",
   "execution_count": 16,
   "id": "634639ba-9da2-4422-93ed-cab9dd0ab380",
   "metadata": {},
   "outputs": [
    {
     "data": {
      "text/plain": [
       "[1, 1, 2, 6, 24, 120]"
      ]
     },
     "execution_count": 16,
     "metadata": {},
     "output_type": "execute_result"
    }
   ],
   "source": [
    "[factorial(n) for n in range(6)] # 同样的操作，通过列表推导式实现"
   ]
  },
  {
   "cell_type": "code",
   "execution_count": 17,
   "id": "09e1a055-d525-4eb9-a43f-7e5713082665",
   "metadata": {},
   "outputs": [
    {
     "data": {
      "text/plain": [
       "[1, 6, 120]"
      ]
     },
     "execution_count": 17,
     "metadata": {},
     "output_type": "execute_result"
    }
   ],
   "source": [
    "list(map(factorial, filter(lambda n: n % 2, range(6)))) # 使用map和filter实现对奇数计算阶乘，从0到5"
   ]
  },
  {
   "cell_type": "code",
   "execution_count": 18,
   "id": "aa2c7968-31fd-4865-a1af-f869f510a634",
   "metadata": {},
   "outputs": [
    {
     "data": {
      "text/plain": [
       "[1, 6, 120]"
      ]
     },
     "execution_count": 18,
     "metadata": {},
     "output_type": "execute_result"
    }
   ],
   "source": [
    "[factorial(n) for n in range(6) if n % 2] # 列表推导式的实现，可替代map和filter，并且不需要lambda"
   ]
  },
  {
   "cell_type": "markdown",
   "id": "f99d566a-8ed4-4271-b9a5-87eb40188af8",
   "metadata": {},
   "source": [
    "在Python3中，`map`和`filter`返回生成器——一种迭代器形式——所以它们的直接替代者是生成器表达式。\n",
    "\n",
    "`reduce`函数从Python 2中的内置函数降级到Python 3中的`functools`模块。它最常见的用例是，总和(summation)，通过自Python2.3引入的内置函数`sum`来实现更好。可以同时带来可读性和性能的提升。"
   ]
  },
  {
   "cell_type": "code",
   "execution_count": 19,
   "id": "f7c8dcc5-bb12-48b1-970e-9f93d78dee21",
   "metadata": {},
   "outputs": [
    {
     "data": {
      "text/plain": [
       "4950"
      ]
     },
     "execution_count": 19,
     "metadata": {},
     "output_type": "execute_result"
    }
   ],
   "source": [
    "from functools import reduce # 自Python3.0,reduce不再是内置函数\n",
    "from operator import add # 引入add避免创建一个只进行两个数的加法函数\n",
    "reduce(add, range(100)) # 为从0到99的整数求和"
   ]
  },
  {
   "cell_type": "code",
   "execution_count": 20,
   "id": "336aae7b-3e88-45a7-99fc-5c12d377ff67",
   "metadata": {},
   "outputs": [
    {
     "data": {
      "text/plain": [
       "4950"
      ]
     },
     "execution_count": 20,
     "metadata": {},
     "output_type": "execute_result"
    }
   ],
   "source": [
    "sum(range(100)) # 通过sum来完成同样的任务——所以不需要引入和调用reduce和add"
   ]
  },
  {
   "cell_type": "markdown",
   "id": "1921c92f-5afc-4e4c-8fec-4c2d810cf15d",
   "metadata": {},
   "source": [
    "其中内建的reducing函数是`all`和`any`:\n",
    "* `all(iteralbe)` 返回`True`如果`iterable`中没有`False`元素，`all([])`返回`True`。\n",
    "* `any(iterable` 返回`True`如果`iterable`中任意一个元素为`True`，`any([])`返回`False`。\n",
    "\n",
    "要使用高阶函数，有时可以方便地创建一个小的、一次性的函数。这就是为什么匿名函数(anonymous function)存在。接下来我们将介绍它们。\n",
    "\n",
    "# 匿名函数\n",
    "\n",
    "`lambda`关键字可以通过一个Python表达式创建一个匿名函数。\n",
    "\n",
    "然而，简单的语法限制`lambda`函数体只能是纯表达式。即，函数体不能包含其他语句，比如`while`、`try`等。通过`=`赋值语句也是一个语句(statement)，所以它也不能出现在`lambda`表达式中，新的赋值表达式语法——`:=`——可以使用，但你使用它的话，你的`lambda`表达式会非常复杂，从而可读性不好。因此应该使用`def`重构为常规的函数。\n",
    "\n",
    "匿名函数的最佳使用是在高阶函数的参数列表上下文中。比如，下面是通过`lambda`重写的押韵索引例子，不需要定义一个`reverse`函数。"
   ]
  },
  {
   "cell_type": "code",
   "execution_count": 21,
   "id": "e70d96f1-59f1-447a-9844-815c3d3a90ed",
   "metadata": {},
   "outputs": [
    {
     "data": {
      "text/plain": [
       "['banana', 'apple', 'fig', 'raspberry', 'strawberry', 'cherry']"
      ]
     },
     "execution_count": 21,
     "metadata": {},
     "output_type": "execute_result"
    }
   ],
   "source": [
    "fruits = ['strawberry', 'fig', 'apple', 'cherry', 'raspberry', 'banana']\n",
    "sorted(fruits, key=lambda word: word[::-1])"
   ]
  },
  {
   "cell_type": "markdown",
   "id": "379385d8-ac8c-4129-a067-b5b8fcf16828",
   "metadata": {},
   "source": [
    "在高阶函数参数的有限上下文之外，匿名函数在Python中很少有用。语法限制往往使非三元`lambda`不可读或不工作。如果一个`lambda`不可读，强烈推荐遵循Fredrik Lundh的重构建议：\n",
    "\n",
    "1. 写注释来解释一下，lambda到底在做什么\n",
    "2. 研究一下评论，想出一个能抓住评论本质的名称\n",
    "3. 使用该名称将lambda转换为def语句\n",
    "4. 删除评论\n",
    "\n",
    "`lambda`语法只是语法糖：一个`lambda`表达式创建一个就像def语句一样的函数对象。这只是Python中几种可调用对象之一。下面的部分将回顾一下所有的可调用对象。\n",
    "\n",
    "# 九种常用的可调用对象\n",
    "\n",
    "调用操作`()`可以应用到其他非函数对象。为了决定一个对象是否可调用，使用内建的`callable()`函数。正如Python3.9 data model文档中列出的9种可调用类型：\n",
    "\n",
    "* 用户定义的函数 通过`def`语句或`lambda`表达式创建\n",
    "* 内建函数 基于C(CPython)实现的函数，像`len`或`time.strftime`\n",
    "* 内建方法 基于C实现的方法，像`dict.get`\n",
    "* 方法 定义在类中的方法\n",
    "* 类 当调用时，一个类会运行它的`__new__`方法去创建一个实例，然后通过`__init__`去初始化它，最终该实例会返回给调用者。因为Python中无`new`操作符，所以调用一个类就像调用一个函数\n",
    "* 类实例 如果一个类定义了`__call__`方法，那么它的实例可被作为函数调用\n",
    "* 生成器函数 函数或方法中使用了`yield`关键字。当调用时，它们会返回一个生成器对象\n",
    "* 原生协程函数 函数或方法基于`async def`定义。当调用时，它们会返回一个协程对象\n",
    "* 异步生成器函数 函数或方法基于`async def`定义并在方法体中有`yield`关键字。当调用时，它们返回一个异步生成器\n",
    "\n",
    "生成器、原生协程和异步生成器函数与其他可调用对象不同，它们的返回值不是应用数据，而是需要进一步处理以生成应用程序数据或执行有用的工作的对象。生成器函数返回迭代器(iterator)。这两个都会在17章中接收。原生协程函数和异步生成器函数返回的对象只能在异步编程框架中可用，比如`asyncio`。这是第21章的主题。\n",
    "\n",
    "考虑到Python中现有可调用类型的多样性，确定对象是否可调用的最安全方法是使用内建的`callable()`："
   ]
  },
  {
   "cell_type": "code",
   "execution_count": 22,
   "id": "a6a11964-45b3-4d90-a03e-b7d15c0fb646",
   "metadata": {},
   "outputs": [
    {
     "data": {
      "text/plain": [
       "(<function abs(x, /)>, str, 'Ni!')"
      ]
     },
     "execution_count": 22,
     "metadata": {},
     "output_type": "execute_result"
    }
   ],
   "source": [
    "abs, str, 'Ni!'"
   ]
  },
  {
   "cell_type": "code",
   "execution_count": 23,
   "id": "3b2e4e5e-acab-41fd-b4fd-fa0729d4541f",
   "metadata": {},
   "outputs": [
    {
     "data": {
      "text/plain": [
       "[True, True, False]"
      ]
     },
     "execution_count": 23,
     "metadata": {},
     "output_type": "execute_result"
    }
   ],
   "source": [
    "[callable(obj) for obj in (abs, str, 'Ni!')]"
   ]
  },
  {
   "cell_type": "markdown",
   "id": "eb58852f-b8cf-45b7-83d7-1310b9966a76",
   "metadata": {},
   "source": [
    "# 用户定义的可调用类型\n",
    "\n",
    "任意的Python对象的行为都可能和函数一样，只要实现`__call__`实例方法。\n",
    "\n",
    "下面的例子实现了一个`BingoCage`类。实例是由任何可迭代对象构建的，并以随机顺序存储内部`itmes`列表。调用它的实例会弹出其中一个item元素。\n",
    "\n"
   ]
  },
  {
   "cell_type": "code",
   "execution_count": 26,
   "id": "50bd7214-a227-4852-96e0-db455c7cc2a7",
   "metadata": {},
   "outputs": [],
   "source": [
    "import random\n",
    "\n",
    "class BingoCage:\n",
    "    def __init__(self, items):\n",
    "        self._items = list(items)  # __init__方法接收任何可迭代对象，构建一个本地副本\n",
    "        random.shuffle(self._items)  # 对_items进行洗牌\n",
    "        \n",
    "    def pick(self):  # 主要的方法\n",
    "        try:\n",
    "            return self._items.pop()\n",
    "        except IndexError:\n",
    "            raise LookupError('pick from empty BingoCage')  # 如果self._item为空，则抛出异常\n",
    "            \n",
    "    def __call__(self):  # bingo.pick() 等同于 bingo()\n",
    "        return self.pick()"
   ]
  },
  {
   "cell_type": "markdown",
   "id": "b4e9b6b9-31f3-4db6-816a-f85803bb1741",
   "metadata": {},
   "source": [
    "下面来实验一下。注意`bingo`实例可像函数一样被调用，并且`callable()`也知道它是可调用对象："
   ]
  },
  {
   "cell_type": "code",
   "execution_count": 25,
   "id": "2fd3608c-f6b2-493c-9ed5-d606a35bfe71",
   "metadata": {},
   "outputs": [
    {
     "data": {
      "text/plain": [
       "1"
      ]
     },
     "execution_count": 25,
     "metadata": {},
     "output_type": "execute_result"
    }
   ],
   "source": [
    "bingo = BingoCage(range(3))\n",
    "bingo.pick()"
   ]
  },
  {
   "cell_type": "code",
   "execution_count": 27,
   "id": "03a5648e-091c-4e61-bc5a-6cc3ce32206b",
   "metadata": {},
   "outputs": [
    {
     "data": {
      "text/plain": [
       "0"
      ]
     },
     "execution_count": 27,
     "metadata": {},
     "output_type": "execute_result"
    }
   ],
   "source": [
    "bingo()"
   ]
  },
  {
   "cell_type": "code",
   "execution_count": 28,
   "id": "354176ac-59a4-4fc8-9839-70266531d3b0",
   "metadata": {},
   "outputs": [
    {
     "data": {
      "text/plain": [
       "True"
      ]
     },
     "execution_count": 28,
     "metadata": {},
     "output_type": "execute_result"
    }
   ],
   "source": [
    "callable(bingo)"
   ]
  },
  {
   "cell_type": "markdown",
   "id": "0c5ade1c-7fb0-4146-97b5-c120c2c5229f",
   "metadata": {},
   "source": [
    "实现`__call__`的类是一种简单的方式去创建类函数的对象，它们可具有一些在调用之间保存的内部状态，像`BingoCage`中剩下的`items`一样。\n",
    "另一个`__call__`的用例是实现装饰器。装饰器必须是可调用的，而且如果能记住调用间的状态很方便，或将复杂的实现拆分成几个方法。\n",
    "\n",
    "函数式途径创建具有内部状态的函数是闭包(closure)，它和装饰器是第9章的主题。\n",
    "\n",
    "# 从位置到仅关键字参数\n",
    "\n",
    "Python函数的最好特性之一是及其灵活的参数处理机制。密切相关的是，当我们调用一个函数时，使用`*`和`**`将迭代内容和映射解包到单独的参数中。\n",
    "下面通过代码来看一下该特性。\n"
   ]
  },
  {
   "cell_type": "code",
   "execution_count": 29,
   "id": "4984ba56-79fb-4ec2-b870-9398bb4894a9",
   "metadata": {},
   "outputs": [],
   "source": [
    "def tag(name, *content, class_=None, **attrs):\n",
    "    \"\"\"Generate one or more HTML tags\"\"\"\n",
    "    if class_ is not None:\n",
    "        attrs['class'] = class_\n",
    "        \n",
    "    attr_pairs = (f' {attr}=\"{value}\"' for attr, value in sorted(attrs.items()))\n",
    "    attr_str = ''.join(attr_pairs)\n",
    "    \n",
    "    if content:\n",
    "        elements = (f'<{name}{attr_str}>{c}</{name}>' for c in content)\n",
    "        return '\\n'.join(elements)\n",
    "    else:\n",
    "        return f'<{name}{attr_str} />'"
   ]
  },
  {
   "cell_type": "markdown",
   "id": "386f5f32-f4e7-45b7-be48-6825267fe769",
   "metadata": {},
   "source": [
    "`tag`函数可以通过多种方式调用："
   ]
  },
  {
   "cell_type": "code",
   "execution_count": 30,
   "id": "9daf8aeb-046c-437e-a68f-7d1b032bb4cd",
   "metadata": {},
   "outputs": [
    {
     "data": {
      "text/plain": [
       "'<br />'"
      ]
     },
     "execution_count": 30,
     "metadata": {},
     "output_type": "execute_result"
    }
   ],
   "source": [
    "tag('br') # 单个位置位置产生该name对应的空tag"
   ]
  },
  {
   "cell_type": "code",
   "execution_count": 31,
   "id": "ce627ac5-1c72-4d1a-8818-aadff014fd72",
   "metadata": {},
   "outputs": [
    {
     "data": {
      "text/plain": [
       "'<p>hello</p>'"
      ]
     },
     "execution_count": 31,
     "metadata": {},
     "output_type": "execute_result"
    }
   ],
   "source": [
    "tag('p', 'hello') # 在第一个参数之后的任意数量参数由*content捕获为元组"
   ]
  },
  {
   "cell_type": "code",
   "execution_count": 32,
   "id": "42ce0e85-ee57-4e13-b710-931ecdfb9d1f",
   "metadata": {},
   "outputs": [
    {
     "name": "stdout",
     "output_type": "stream",
     "text": [
      "<p>hello</p>\n",
      "<p>world</p>\n"
     ]
    }
   ],
   "source": [
    "print(tag('p', 'hello', 'world'))"
   ]
  },
  {
   "cell_type": "code",
   "execution_count": 33,
   "id": "64435c2c-3a70-41b7-a6a6-94f34279d465",
   "metadata": {},
   "outputs": [
    {
     "data": {
      "text/plain": [
       "'<p id=\"33\">hello</p>'"
      ]
     },
     "execution_count": 33,
     "metadata": {},
     "output_type": "execute_result"
    }
   ],
   "source": [
    "tag('p', 'hello', id=33) # 在tag函数签名中无显示命名的关键字参数由**attrs捕获为字典"
   ]
  },
  {
   "cell_type": "code",
   "execution_count": 34,
   "id": "efbc813e-8f98-4bc3-9500-481a4490887e",
   "metadata": {},
   "outputs": [
    {
     "name": "stdout",
     "output_type": "stream",
     "text": [
      "<p class=\"sidebar\">hello</p>\n",
      "<p class=\"sidebar\">world</p>\n"
     ]
    }
   ],
   "source": [
    "print(tag('p', 'hello', 'world', class_='sidebar')) #  class_参数只能作为关键字参数传入"
   ]
  },
  {
   "cell_type": "code",
   "execution_count": 35,
   "id": "32a284e9-32bb-45ea-9a60-aa0f06c5c9e1",
   "metadata": {},
   "outputs": [
    {
     "data": {
      "text/plain": [
       "'<img content=\"testing\" />'"
      ]
     },
     "execution_count": 35,
     "metadata": {},
     "output_type": "execute_result"
    }
   ],
   "source": [
    "tag(content='testing', name=\"img\") # 第一个位置参数(name)也能通过关键字的形式传入"
   ]
  },
  {
   "cell_type": "code",
   "execution_count": 36,
   "id": "673b6211-2f74-46e2-852a-138a4639bb3e",
   "metadata": {},
   "outputs": [
    {
     "data": {
      "text/plain": [
       "'<img class=\"framed\" src=\"sunset.jpg\" title=\"Sunset Boulevard\" />'"
      ]
     },
     "execution_count": 36,
     "metadata": {},
     "output_type": "execute_result"
    }
   ],
   "source": [
    "my_tag = {'name': 'img', 'title': 'Sunset Boulevard','src': 'sunset.jpg', 'class': 'framed'}\n",
    "# 在字典my_tag前加**会将该字典中所有的项作为分开的参数传入，它们然后会绑定到命名参数，未匹配的会由**attrs捕获。\n",
    "# 这个例子中，my_tag字典中我们可以有一个class关键字，因为它是一个字符串，并且不与类保留词发生冲突。\n",
    "tag(**my_tag)"
   ]
  },
  {
   "cell_type": "markdown",
   "id": "67dd3f54-cef8-46d4-9005-05f07bb8a646",
   "metadata": {},
   "source": [
    "仅关键字(Keyword-only)参数是Python3的特性。在上面的例子中，`class_`参数只能通过关键字参数的形式给定——永远不会捕获未命名的位置参数。\n",
    "为了在定义函数时指定仅关键字参数，将这些参数命名，且放到具有`*`前缀的参数之后。如果你不想支持可变位置参数，但仍想要仅关键字参数，那么将`*`单独放到签名中，像："
   ]
  },
  {
   "cell_type": "code",
   "execution_count": 37,
   "id": "99f4def5-be8f-49c9-aca8-c1f86dee6eb2",
   "metadata": {},
   "outputs": [
    {
     "data": {
      "text/plain": [
       "(1, 2)"
      ]
     },
     "execution_count": 37,
     "metadata": {},
     "output_type": "execute_result"
    }
   ],
   "source": [
    "def f(a, *, b):\n",
    "    return a, b\n",
    "f(1, b=2)"
   ]
  },
  {
   "cell_type": "code",
   "execution_count": 38,
   "id": "13e159b9-ab91-45da-81ff-c1d4a3625ac3",
   "metadata": {},
   "outputs": [
    {
     "ename": "TypeError",
     "evalue": "f() takes 1 positional argument but 2 were given",
     "output_type": "error",
     "traceback": [
      "\u001b[1;31m---------------------------------------------------------------------------\u001b[0m",
      "\u001b[1;31mTypeError\u001b[0m                                 Traceback (most recent call last)",
      "Cell \u001b[1;32mIn [38], line 1\u001b[0m\n\u001b[1;32m----> 1\u001b[0m \u001b[43mf\u001b[49m\u001b[43m(\u001b[49m\u001b[38;5;241;43m1\u001b[39;49m\u001b[43m,\u001b[49m\u001b[38;5;241;43m2\u001b[39;49m\u001b[43m)\u001b[49m\n",
      "\u001b[1;31mTypeError\u001b[0m: f() takes 1 positional argument but 2 were given"
     ]
    }
   ],
   "source": [
    "f(1,2)"
   ]
  },
  {
   "cell_type": "markdown",
   "id": "e9a82e5f-ebbb-41a7-b7b8-4ec936ea4f5f",
   "metadata": {},
   "source": [
    "注意仅关键字参数不需要有默认值：它们可以是强制性的，就像上面的例子。\n",
    "\n",
    "## 仅位置参数\n",
    "\n",
    "自Python3.8以来，用户定义的函数签名可以指定仅位置(positional-only)参数。该特性已经存在于内建函数，比如`divmod(a, b)`，它仅能通过位置参数调用。\n",
    "为了定义一个需要仅位置参数，在参数列表中使用`/`。"
   ]
  },
  {
   "cell_type": "code",
   "execution_count": 39,
   "id": "b797b039-58f6-4487-9220-db4c405a9c06",
   "metadata": {},
   "outputs": [],
   "source": [
    "def divmod(a, b, /):\n",
    "    return (a // b, a % b)"
   ]
  },
  {
   "cell_type": "markdown",
   "id": "b313a25e-3c1c-48cd-adfe-b8aeba1196d1",
   "metadata": {},
   "source": [
    "所有`/`左边的参数都是仅位置参数，在`/`右边，可以指定其他参数。比如，考虑上面的`tag`函数，如果我们想要`name`参数变为仅位置，我们可以增加`/`到`name`后面，像：\n",
    "```py\n",
    "def tag(name, /, *content, class_=None, **attrs):\n",
    "```\n",
    "\n",
    "# 用于函数式编程的包\n",
    "\n",
    "## operator模块\n",
    "\n",
    "通常在函数式编程中，使用算术操作符作为函数是很方便的。例如，假设你想要乘以一个数字序列以计算阶乘，而不使用递归。要执行求和，可以使用`sum`，但是没有乘法的等价函数。你可以使用`reduce`，但这需要一个函数去乘序列中的两项。"
   ]
  },
  {
   "cell_type": "code",
   "execution_count": 40,
   "id": "5a44d779-5c16-419e-8a95-db62ac2f8cd9",
   "metadata": {},
   "outputs": [],
   "source": [
    "from functools import reduce\n",
    "\n",
    "def factorial(n):\n",
    "    return reduce(lambda a, b: a*b, range(1, n+1))"
   ]
  },
  {
   "cell_type": "markdown",
   "id": "285be79f-9c00-4ec5-8fe8-32f5e467c263",
   "metadata": {},
   "source": [
    "`operator`模块为很多操作符提供了等价的函数，所以你不需要编码琐碎的函数像：`lambda a, b: a*b`。我们通过它来重写上面的例子。"
   ]
  },
  {
   "cell_type": "code",
   "execution_count": 41,
   "id": "2e374f55-c36b-4d0e-9689-f5cd47adc7d8",
   "metadata": {},
   "outputs": [],
   "source": [
    "from functools import reduce\n",
    "from operator import mul\n",
    "def factorial(n):\n",
    "    return reduce(mul, range(1, n+1))"
   ]
  },
  {
   "cell_type": "markdown",
   "id": "a7d5c9e1-bc0f-4504-8b41-cf84206b53d7",
   "metadata": {},
   "source": [
    "另一组`lambda`技巧是操作符替换函数从序列中选择项或从对象中读取属性：`itemgetter`和`attrgetter`是实现它的构建自定义函数的工厂。\n",
    "\n",
    "\n",
    "\n",
    "下面显示了`itemgetter`的常用用法：按一个字段的值对元组列表进行排序。在示例中，`cities`按国家代码（字段1）排序。本质上，`itemgetter(1)`创建一个函数，给定一个集合，该函数返回索引1处的项。这比做同样事的`lambda`字段更容易写和读：`fields[1]`。\n",
    "\n",
    "\n"
   ]
  },
  {
   "cell_type": "code",
   "execution_count": 42,
   "id": "c735f130-eb5a-4a69-97e1-0070c39b4955",
   "metadata": {},
   "outputs": [
    {
     "name": "stdout",
     "output_type": "stream",
     "text": [
      "('São Paulo', 'BR', 19.649, (-23.547778, -46.635833))\n",
      "('Delhi NCR', 'IN', 21.935, (28.613889, 77.208889))\n",
      "('Tokyo', 'JP', 36.933, (35.689722, 139.691667))\n",
      "('Mexico City', 'MX', 20.142, (19.433333, -99.133333))\n",
      "('New York-Newark', 'US', 20.104, (40.808611, -74.020386))\n"
     ]
    }
   ],
   "source": [
    "metro_data = [\n",
    "    ('Tokyo', 'JP', 36.933, (35.689722, 139.691667)),\n",
    "    ('Delhi NCR', 'IN', 21.935, (28.613889, 77.208889)),\n",
    "    ('Mexico City', 'MX', 20.142, (19.433333, -99.133333)),\n",
    "    ('New York-Newark', 'US', 20.104, (40.808611, -74.020386)),\n",
    "    ('São Paulo', 'BR', 19.649, (-23.547778, -46.635833)),\n",
    "]\n",
    "\n",
    "from operator import itemgetter\n",
    "\n",
    "for city in sorted(metro_data, key=itemgetter(1)):\n",
    "    print(city)"
   ]
  },
  {
   "cell_type": "markdown",
   "id": "6481ef80-8fb7-4c65-9f83-ef40361404cd",
   "metadata": {},
   "source": [
    "如果你想`itemgetter`中传递多个索引，它会以元组的形式返回对应值，这在基于多`key`排序时很有用："
   ]
  },
  {
   "cell_type": "code",
   "execution_count": 43,
   "id": "86ea820d-d613-4323-990d-9591d648cfeb",
   "metadata": {},
   "outputs": [
    {
     "name": "stdout",
     "output_type": "stream",
     "text": [
      "('JP', 'Tokyo')\n",
      "('IN', 'Delhi NCR')\n",
      "('MX', 'Mexico City')\n",
      "('US', 'New York-Newark')\n",
      "('BR', 'São Paulo')\n"
     ]
    }
   ],
   "source": [
    "cc_name = itemgetter(1, 0)\n",
    "for city in metro_data:\n",
    "    print(cc_name(city))"
   ]
  },
  {
   "cell_type": "markdown",
   "id": "a05bf2c5-b564-4e72-9fdf-34c6ea626f62",
   "metadata": {},
   "source": [
    "因为`itemgetter`使用`[]`操作符，它不仅支持序列，还支持映射和任何实现`__getitem__`的类。\n",
    "\n",
    "与`itemgetter`类似的`attrgetter`，它创建了按名称提取对象属性的函数。如果传递多个属性名称到`attrgetter`中作为参数，它还将返回一个值的元组。\n",
    "此外，如果如果任何参数名称包含一个`.`，`attrgetter`会通过嵌套对象来检索属性。这些行为在下面展示。"
   ]
  },
  {
   "cell_type": "code",
   "execution_count": 44,
   "id": "5154a8de-4831-4b61-ac4b-adb24e5404b3",
   "metadata": {},
   "outputs": [
    {
     "data": {
      "text/plain": [
       "Metropolis(name='Tokyo', cc='JP', pop=36.933, coord=LatLon(lat=35.689722, lon=139.691667))"
      ]
     },
     "execution_count": 44,
     "metadata": {},
     "output_type": "execute_result"
    }
   ],
   "source": [
    "from collections import namedtuple\n",
    "LatLon = namedtuple('LatLon', 'lat lon') #\n",
    "Metropolis = namedtuple('Metropolis', 'name cc pop coord') \n",
    "# 通过 Metropolis实例构建metro_areas列表，注意嵌套的元组拆包抽取(lat,lon)，并使用它们为Metropolis的coord属性构建LatLon\n",
    "metro_areas = [Metropolis(name, cc, pop, LatLon(lat, lon))  \n",
    "    for name, cc, pop, (lat, lon) in metro_data]\n",
    "\n",
    "metro_areas[0]"
   ]
  },
  {
   "cell_type": "code",
   "execution_count": 45,
   "id": "94e03041-3eae-49da-b020-fb994cd076f0",
   "metadata": {},
   "outputs": [
    {
     "data": {
      "text/plain": [
       "35.689722"
      ]
     },
     "execution_count": 45,
     "metadata": {},
     "output_type": "execute_result"
    }
   ],
   "source": [
    "metro_areas[0].coord.lat"
   ]
  },
  {
   "cell_type": "code",
   "execution_count": 47,
   "id": "7956e667-0822-41fe-b4fe-5bb2710379b7",
   "metadata": {},
   "outputs": [
    {
     "name": "stdout",
     "output_type": "stream",
     "text": [
      "('São Paulo', -23.547778)\n",
      "('Mexico City', 19.433333)\n",
      "('Delhi NCR', 28.613889)\n",
      "('Tokyo', 35.689722)\n",
      "('New York-Newark', 40.808611)\n"
     ]
    }
   ],
   "source": [
    "from operator import attrgetter\n",
    "\n",
    "name_lat = attrgetter('name', 'coord.lat') # 定义一个attrgetter来检索name和coord.lat嵌套属性\n",
    "\n",
    "for city in sorted(metro_areas, key=attrgetter('coord.lat')): # 使用attrgetter基于latitude排序列表\n",
    "    print(name_lat(city)) # 用上面定义的attrgetter来限定只显示name和latitude"
   ]
  },
  {
   "cell_type": "markdown",
   "id": "4c0fe8c2-60cb-460b-86e9-ca45c16346e9",
   "metadata": {},
   "source": [
    "下面是在`operator`中定义的部分函数列表："
   ]
  },
  {
   "cell_type": "code",
   "execution_count": 49,
   "id": "7393f916-6c8e-4bbd-947d-a513c229f994",
   "metadata": {},
   "outputs": [
    {
     "data": {
      "text/plain": [
       "['abs',\n",
       " 'add',\n",
       " 'and_',\n",
       " 'attrgetter',\n",
       " 'concat',\n",
       " 'contains',\n",
       " 'countOf',\n",
       " 'delitem',\n",
       " 'eq',\n",
       " 'floordiv',\n",
       " 'ge',\n",
       " 'getitem',\n",
       " 'gt',\n",
       " 'iadd',\n",
       " 'iand',\n",
       " 'iconcat',\n",
       " 'ifloordiv',\n",
       " 'ilshift',\n",
       " 'imatmul',\n",
       " 'imod',\n",
       " 'imul',\n",
       " 'index',\n",
       " 'indexOf',\n",
       " 'inv',\n",
       " 'invert',\n",
       " 'ior',\n",
       " 'ipow',\n",
       " 'irshift',\n",
       " 'is_',\n",
       " 'is_not',\n",
       " 'isub',\n",
       " 'itemgetter',\n",
       " 'itruediv',\n",
       " 'ixor',\n",
       " 'le',\n",
       " 'length_hint',\n",
       " 'lshift',\n",
       " 'lt',\n",
       " 'matmul',\n",
       " 'methodcaller',\n",
       " 'mod',\n",
       " 'mul',\n",
       " 'ne',\n",
       " 'neg',\n",
       " 'not_',\n",
       " 'or_',\n",
       " 'pos',\n",
       " 'pow',\n",
       " 'rshift',\n",
       " 'setitem',\n",
       " 'sub',\n",
       " 'truediv',\n",
       " 'truth',\n",
       " 'xor']"
      ]
     },
     "execution_count": 49,
     "metadata": {},
     "output_type": "execute_result"
    }
   ],
   "source": [
    "import operator\n",
    "[name for name in dir(operator) if not name.startswith('_')]"
   ]
  },
  {
   "cell_type": "markdown",
   "id": "1e830e0a-c51d-45c7-9513-a5cb9cae4d56",
   "metadata": {},
   "source": [
    "以`i`为前缀和另一个运算符的构成的名称——如`iadd`、`iand`等_对应于原地赋值运算符——如`+=`、`&=`等。\n",
    "\n",
    "下面我们介绍`methodcaller`，它有点类似`attrgetter`和`itemgetter`，可以动态地创建一个函数。创建的函数基于`name`调用给定对象中的方法。"
   ]
  },
  {
   "cell_type": "code",
   "execution_count": 50,
   "id": "00108064-5dcc-46d0-8148-96df9b382585",
   "metadata": {},
   "outputs": [
    {
     "data": {
      "text/plain": [
       "'THE TIME HAS COME'"
      ]
     },
     "execution_count": 50,
     "metadata": {},
     "output_type": "execute_result"
    }
   ],
   "source": [
    "from operator import methodcaller\n",
    "s = 'The time has come'\n",
    "upcase = methodcaller('upper')\n",
    "upcase(s) # s.upper()"
   ]
  },
  {
   "cell_type": "code",
   "execution_count": 52,
   "id": "161a87af-7b44-4087-838c-8934e7eda49c",
   "metadata": {},
   "outputs": [
    {
     "data": {
      "text/plain": [
       "'The-time-has-come'"
      ]
     },
     "execution_count": 52,
     "metadata": {},
     "output_type": "execute_result"
    }
   ],
   "source": [
    "hyphenate = methodcaller('replace', ' ', '-')\n",
    "hyphenate(s)"
   ]
  },
  {
   "cell_type": "markdown",
   "id": "088b53a6-cf16-4686-b6d5-2840ad209942",
   "metadata": {},
   "source": [
    "## 用functools.partial冻结参数\n",
    "\n",
    "`functools`模块提供了几个高阶函数。我们已经了解了`reduce`。另一个是`partial`:给定一个可调用对象，它生成一个绑定参数预定值到原来可调用对象的新的可调用对象。这对于将接受一个或多个参数的函数调整到需要具有较少参数的回调的API很有用。"
   ]
  },
  {
   "cell_type": "code",
   "execution_count": 53,
   "id": "4d2cb201-dfb0-4a97-8d11-85bf0b742122",
   "metadata": {},
   "outputs": [
    {
     "data": {
      "text/plain": [
       "21"
      ]
     },
     "execution_count": 53,
     "metadata": {},
     "output_type": "execute_result"
    }
   ],
   "source": [
    "from operator import mul\n",
    "from functools import partial\n",
    "triple = partial(mul, 3) # 从mul创建新的triple函数，并将第一个位置参数绑定到3\n",
    "triple(7) # 测试"
   ]
  },
  {
   "cell_type": "code",
   "execution_count": 54,
   "id": "edf3e302-9afc-496a-a14f-f8b64cb63a75",
   "metadata": {},
   "outputs": [
    {
     "data": {
      "text/plain": [
       "[3, 6, 9, 12, 15, 18, 21, 24, 27]"
      ]
     },
     "execution_count": 54,
     "metadata": {},
     "output_type": "execute_result"
    }
   ],
   "source": [
    "list(map(triple, range(1, 10))) # 在map中使用triple，在该例子中不能使用mul"
   ]
  },
  {
   "cell_type": "markdown",
   "id": "2d4a0ff3-609a-4a2d-ac0e-627bf43519a5",
   "metadata": {},
   "source": [
    "一个更有用的例子涉及到Unicode。如果你使用来自多种语言的文本，你可能需要应用unicode。在比较或存储它之前，对任何字符串应用` unicode.normalize('NFC', s)`。如果你经常这样做，那么要有一个`nfc`函数就很方便了，如示例所示。"
   ]
  },
  {
   "cell_type": "code",
   "execution_count": 55,
   "id": "cd36067b-6b95-43da-9c6b-18c8abad65df",
   "metadata": {},
   "outputs": [
    {
     "data": {
      "text/plain": [
       "('café', 'café')"
      ]
     },
     "execution_count": 55,
     "metadata": {},
     "output_type": "execute_result"
    }
   ],
   "source": [
    "import unicodedata, functools\n",
    "nfc = functools.partial(unicodedata.normalize, 'NFC') # 把NFC绑定到normalize第一个参数\n",
    "\n",
    "s1 = 'café'\n",
    "s2 = 'cafe\\u0301'\n",
    "s1, s2"
   ]
  },
  {
   "cell_type": "code",
   "execution_count": 56,
   "id": "68e3f56d-723a-4a94-94c1-907089db791c",
   "metadata": {},
   "outputs": [
    {
     "data": {
      "text/plain": [
       "False"
      ]
     },
     "execution_count": 56,
     "metadata": {},
     "output_type": "execute_result"
    }
   ],
   "source": [
    "s1 == s2"
   ]
  },
  {
   "cell_type": "code",
   "execution_count": 57,
   "id": "20de5701-50ef-4a39-bd3a-b31f4c061f42",
   "metadata": {},
   "outputs": [
    {
     "data": {
      "text/plain": [
       "True"
      ]
     },
     "execution_count": 57,
     "metadata": {},
     "output_type": "execute_result"
    }
   ],
   "source": [
    "nfc(s1) == nfc(s2)"
   ]
  },
  {
   "cell_type": "markdown",
   "id": "601c1436-2fd7-48a3-a6db-62a6c7d40330",
   "metadata": {},
   "source": [
    "`partial`以可调用对象作为第一个参数，接着是要绑定的任意数量的位置和关键字参数。\n",
    "\n",
    "下面显示使用`partial`在之前的`tag`函数上，来固定一个位置参数和一个关键字参数。"
   ]
  },
  {
   "cell_type": "code",
   "execution_count": 63,
   "id": "5a06e1c9-13e5-4cde-bbfa-806190dc9b8e",
   "metadata": {},
   "outputs": [
    {
     "data": {
      "text/plain": [
       "'<img class=\"pic-frame\" src=\"wumpus.jpeg\" />'"
      ]
     },
     "execution_count": 63,
     "metadata": {},
     "output_type": "execute_result"
    }
   ],
   "source": [
    "from functools import partial\n",
    "picture = partial(tag, 'img', class_='pic-frame') # 通过固定第一个位置参数为`img`，和`class_`关键字参数为`pic-frame`来创建picture函数\n",
    "picture(src='wumpus.jpeg') # 正如期望般的运行"
   ]
  },
  {
   "cell_type": "code",
   "execution_count": 65,
   "id": "7811f40d-4be8-49b8-a75e-3d9038235929",
   "metadata": {},
   "outputs": [
    {
     "data": {
      "text/plain": [
       "functools.partial(<function tag at 0x000001C67D6D69D0>, 'img', class_='pic-frame')"
      ]
     },
     "execution_count": 65,
     "metadata": {},
     "output_type": "execute_result"
    }
   ],
   "source": [
    "picture # partial() 返回一个 functools.partial 对象"
   ]
  },
  {
   "cell_type": "code",
   "execution_count": 66,
   "id": "05991454-b7e1-4a85-9183-07b9d5237e59",
   "metadata": {},
   "outputs": [
    {
     "data": {
      "text/plain": [
       "<function __main__.tag(name, *content, class_=None, **attrs)>"
      ]
     },
     "execution_count": 66,
     "metadata": {},
     "output_type": "execute_result"
    }
   ],
   "source": [
    "picture.func # functools.partial有访问原始函数和固定参数的属性"
   ]
  },
  {
   "cell_type": "code",
   "execution_count": 67,
   "id": "a77dda2f-b24f-424a-9bf1-8719054804d6",
   "metadata": {},
   "outputs": [
    {
     "data": {
      "text/plain": [
       "('img',)"
      ]
     },
     "execution_count": 67,
     "metadata": {},
     "output_type": "execute_result"
    }
   ],
   "source": [
    "picture.args"
   ]
  },
  {
   "cell_type": "code",
   "execution_count": 68,
   "id": "1a23d1c2-f5c8-4e37-8a77-d09faaf8a9d3",
   "metadata": {},
   "outputs": [
    {
     "data": {
      "text/plain": [
       "{'class_': 'pic-frame'}"
      ]
     },
     "execution_count": 68,
     "metadata": {},
     "output_type": "execute_result"
    }
   ],
   "source": [
    "picture.keywords"
   ]
  },
  {
   "cell_type": "markdown",
   "id": "70d57ea6-85be-4822-9b27-c70ee62dea20",
   "metadata": {},
   "source": [
    "`functools.partialmethod`做的事情类似`partial`，但被设计成应用于方法。\n",
    "\n",
    "# 参数总结\n",
    "\n",
    "上文介绍了很多种参数类型，在结束之前，这里做一个总结。参考 https://docs.python.org/3/glossary.html#term-parameter \n",
    "\n",
    "有五种类型的参数：\n",
    "\n",
    "* 位置或关键词(positional-or-keyword)： 指定一个可以作为 位置参数 传入也可以作为 关键字参数 传入的实参。这是默认的形参类型，例如下面的 `foo` 和 `bar`:\n",
    "```py\n",
    "def func(foo, bar=None): ...\n",
    "```\n",
    "* 仅位置(positional-only)： 指定一个只能通过位置传入的参数。 仅限位置形参可通过在函数定义的形参列表中为它们之后包含一个 `/` 字符来定义，例如下面的 `posonly1` 和 `posonly2`:\n",
    "```py\n",
    "def func(posonly1, posonly2, /, positional_or_keyword): ...\n",
    "```\n",
    "* 仅关键字(keyword-only)： 指定一个只能通过关键字传入的参数。仅关键字形参可通过在函数定义的形参列表中包含单个可变位置形参或者在多个可变位置形参之前放一个`*`来定义，例如下面的 `kw_only1` 和 `kw_only2`:\n",
    "```py\n",
    "def func(arg, *, kw_only1, kw_only2): ...\n",
    "```\n",
    "* 可变位置(var-positional)： 指定可以提供由一个任意数量的位置参数构成的序列（附加在其他形参已接受的位置参数之后）。这种形参可通过在形参名称前加`*`来定义，例如下面的 `args`:\n",
    "```py\n",
    "def func(*args, **kwargs): ...\n",
    "```\n",
    "* 可变关键字(var-keyword)： 指定可以提供任意数量的关键字参数（附加在其他形参已接受的关键字参数之后）。这种形参可通过在形参名称前加 `**` 来定义，例如上面的 `kwargs`。"
   ]
  }
 ],
 "metadata": {
  "kernelspec": {
   "display_name": "Python 3 (ipykernel)",
   "language": "python",
   "name": "python3"
  },
  "language_info": {
   "codemirror_mode": {
    "name": "ipython",
    "version": 3
   },
   "file_extension": ".py",
   "mimetype": "text/x-python",
   "name": "python",
   "nbconvert_exporter": "python",
   "pygments_lexer": "ipython3",
   "version": "3.9.13"
  }
 },
 "nbformat": 4,
 "nbformat_minor": 5
}
