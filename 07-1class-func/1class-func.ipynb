{
 "cells": [
  {
   "cell_type": "markdown",
   "id": "77e63054-b83c-424d-a45d-30e2f6f7f1fa",
   "metadata": {},
   "source": [
    "# 引言\n",
    "\n",
    "函数是Python的一等(first-class)对象。一等对象作为一个程序实体可以：\n",
    "* 在运行时创建\n",
    "* 分配给数据结构中的变量或元素\n",
    "* 作为函数的参数\n",
    "* 作为函数的返回值\n",
    "\n",
    "整数、字符串和字典是Python其他的一等对象的例子。本章和第三部分的大部分内容探讨了将函数作为对象来处理的实际应用。\n",
    "\n",
    "# 新内容简介\n",
    "\n",
    "无法直接找到对应的旧版本章节，基本上以前章节内容的整合，同时加入了新内容。\n",
    "\n",
    "# 将函数看成对象\n",
    "\n",
    "下面的代码显示了Python函数是对象。这里我们创建一个函数，调用它，读取`__doc__`属性，然后检查函数对象本身是`function`类的实例。"
   ]
  },
  {
   "cell_type": "code",
   "execution_count": 1,
   "id": "c920e319-306b-4487-995a-5bc5fa91ccc7",
   "metadata": {},
   "outputs": [],
   "source": [
    "def factorial(n): # 这是控制台session,所以我们在运行时创建函数\n",
    "    \"\"\"返回 n!\"\"\"\n",
    "    return 1 if n < 2 else n * factorial(n - 1)"
   ]
  },
  {
   "cell_type": "code",
   "execution_count": 2,
   "id": "7251312f-4815-42dc-9f6c-13cd1cf99a5e",
   "metadata": {},
   "outputs": [
    {
     "data": {
      "text/plain": [
       "1405006117752879898543142606244511569936384000000000"
      ]
     },
     "execution_count": 2,
     "metadata": {},
     "output_type": "execute_result"
    }
   ],
   "source": [
    "factorial(42)"
   ]
  },
  {
   "cell_type": "code",
   "execution_count": 3,
   "id": "ec8d5ec3-f393-460c-8436-f383e5a2eb8d",
   "metadata": {},
   "outputs": [
    {
     "data": {
      "text/plain": [
       "'返回 n!'"
      ]
     },
     "execution_count": 3,
     "metadata": {},
     "output_type": "execute_result"
    }
   ],
   "source": [
    "factorial.__doc__ # 是function对象的几个属性之一"
   ]
  },
  {
   "cell_type": "code",
   "execution_count": 4,
   "id": "728f40fe-957c-4bdc-8886-2c0152c4011b",
   "metadata": {},
   "outputs": [
    {
     "data": {
      "text/plain": [
       "function"
      ]
     },
     "execution_count": 4,
     "metadata": {},
     "output_type": "execute_result"
    }
   ],
   "source": [
    "type(factorial) # factorial是function类的一个实例"
   ]
  },
  {
   "cell_type": "code",
   "execution_count": 6,
   "id": "68773f17-a72c-43f7-90b0-73a8c8daf0ba",
   "metadata": {},
   "outputs": [
    {
     "name": "stdout",
     "output_type": "stream",
     "text": [
      "Help on function factorial in module __main__:\n",
      "\n",
      "factorial(n)\n",
      "    返回 n!\n",
      "\n"
     ]
    }
   ],
   "source": [
    "help(factorial) # __doc__属性用于生成对象的帮助文本"
   ]
  },
  {
   "cell_type": "markdown",
   "id": "c2ce1aca-d84d-40f8-ad8f-9e41b8266ee8",
   "metadata": {},
   "source": [
    "下面显示一个函数对象的一等本质。我们可以将它赋值为变量`fact`，然后通过该名称调用它。我们也可以传递`factorial`作为`map`函数的参数。调用`map(function, iterable)`返回一个可迭代对象，其中，每项是将第一个参数（函数）调用到第二个参数（可迭代）的连续元素的结果，本例中为`range(10)`。"
   ]
  },
  {
   "cell_type": "code",
   "execution_count": 7,
   "id": "b69ada8d-cdeb-47a2-97f5-af46df4cf7a0",
   "metadata": {},
   "outputs": [
    {
     "data": {
      "text/plain": [
       "<function __main__.factorial(n)>"
      ]
     },
     "execution_count": 7,
     "metadata": {},
     "output_type": "execute_result"
    }
   ],
   "source": [
    "fact = factorial\n",
    "fact"
   ]
  },
  {
   "cell_type": "code",
   "execution_count": 8,
   "id": "375d1eae-adb5-44d4-8a37-32374de68bf3",
   "metadata": {},
   "outputs": [
    {
     "data": {
      "text/plain": [
       "120"
      ]
     },
     "execution_count": 8,
     "metadata": {},
     "output_type": "execute_result"
    }
   ],
   "source": [
    "fact(5)"
   ]
  },
  {
   "cell_type": "code",
   "execution_count": 9,
   "id": "b19aafd0-6d80-4b93-9f0a-8856a0e3f2a3",
   "metadata": {},
   "outputs": [
    {
     "data": {
      "text/plain": [
       "<map at 0x1c67cda15b0>"
      ]
     },
     "execution_count": 9,
     "metadata": {},
     "output_type": "execute_result"
    }
   ],
   "source": [
    "map(factorial, range(11))"
   ]
  },
  {
   "cell_type": "code",
   "execution_count": 10,
   "id": "c59c8106-fc62-430b-aa23-83034b74bb79",
   "metadata": {},
   "outputs": [
    {
     "data": {
      "text/plain": [
       "[1, 1, 2, 6, 24, 120, 720, 5040, 40320, 362880, 3628800]"
      ]
     },
     "execution_count": 10,
     "metadata": {},
     "output_type": "execute_result"
    }
   ],
   "source": [
    "list(map(factorial, range(11)))"
   ]
  },
  {
   "cell_type": "markdown",
   "id": "d9cc1f0e-5bff-4a0c-ac87-20504f38fb43",
   "metadata": {},
   "source": [
    "具有一等的函数，可以以函数式风格进行编程。函数式编程的特点之一是使用高阶函数，我们的下一个主题介绍。\n",
    "\n",
    "# 高阶函数\n",
    "\n",
    "一个函数如果它能以函数作为参数或能返回函数，那么它就是高阶函数。一个例子就是上面演示的`map`，另一个例子是内置的函数`sorted`:可选的`key`参数可以让你提供一个函数来应用到要排序的每项。比如，要根据单词列表中每个单词的长度排序，将`len`函数作为`key`传递："
   ]
  },
  {
   "cell_type": "code",
   "execution_count": 11,
   "id": "4969a4c3-c782-4f94-b97c-c58b5e69dcca",
   "metadata": {},
   "outputs": [
    {
     "data": {
      "text/plain": [
       "['fig', 'apple', 'cherry', 'banana', 'raspberry', 'strawberry']"
      ]
     },
     "execution_count": 11,
     "metadata": {},
     "output_type": "execute_result"
    }
   ],
   "source": [
    "fruits = ['strawberry', 'fig', 'apple', 'cherry', 'raspberry', 'banana']\n",
    "sorted(fruits, key=len)"
   ]
  },
  {
   "cell_type": "markdown",
   "id": "dd418853-2f98-4469-aff0-3c60e7864440",
   "metadata": {},
   "source": [
    "任何只有一个参数的函数都能作为这个`key`。比如，为了创建一个押韵字典，那么能通过每个单词拼写反向排序时非常有用的。\n",
    "只有它们的逆序拼写作为排序准则，所以这些浆果(berries)出现在一起。"
   ]
  },
  {
   "cell_type": "code",
   "execution_count": 12,
   "id": "2bd0f159-da80-4d9e-9b1b-0b12af8a8a0f",
   "metadata": {},
   "outputs": [
    {
     "data": {
      "text/plain": [
       "'gnitset'"
      ]
     },
     "execution_count": 12,
     "metadata": {},
     "output_type": "execute_result"
    }
   ],
   "source": [
    "def reverse(word):\n",
    "    return word[::-1]\n",
    "\n",
    "reverse('testing')"
   ]
  },
  {
   "cell_type": "code",
   "execution_count": 13,
   "id": "0046ca7f-7225-4740-9fb0-6d4ec5a8b5a6",
   "metadata": {},
   "outputs": [
    {
     "data": {
      "text/plain": [
       "['banana', 'apple', 'fig', 'raspberry', 'strawberry', 'cherry']"
      ]
     },
     "execution_count": 13,
     "metadata": {},
     "output_type": "execute_result"
    }
   ],
   "source": [
    "sorted(fruits, key=reverse)"
   ]
  },
  {
   "cell_type": "markdown",
   "id": "fa6ce90c-e90e-4452-a9fd-bf49e2556405",
   "metadata": {},
   "source": [
    "在函数式编程的范式中，一些最著名的高阶函数是`map`、`filter`、`reduce`和`apply`。其中`apply`已经从Python3中移除。\n",
    "如果你需要带动态参数集的方式调用一个函数，你可以通过`fn(*args, **kwargs)`而不是`apply(fn, args, kwargs)`。\n",
    "\n",
    "`map`、`filter`和`reduce`高阶函数仍然可用，但，如下一节所示，大多数情况下都有更好的替代者。\n",
    "\n",
    "## map,filter和reduce的最新替代者\n",
    "\n",
    "函数式语言通常会提供`map,filter,reduce`等高阶函数。`map`和`filter`函数也是Python3内置的，但自引入了列表推导式和生成器表达式后，它们不再那么重要了。一个列表推导式或生成器表达式同时完成了`map`和`filter`的工作，而且更加可读。"
   ]
  },
  {
   "cell_type": "code",
   "execution_count": 14,
   "id": "5fd63a88-0a32-42d4-90e4-68d08d9f2c3c",
   "metadata": {},
   "outputs": [
    {
     "data": {
      "text/plain": [
       "[1, 1, 2, 6, 24, 120]"
      ]
     },
     "execution_count": 14,
     "metadata": {},
     "output_type": "execute_result"
    }
   ],
   "source": [
    "list(map(factorial, range(6))) # 构建一个阶乘 0!到5!"
   ]
  },
  {
   "cell_type": "code",
   "execution_count": 16,
   "id": "634639ba-9da2-4422-93ed-cab9dd0ab380",
   "metadata": {},
   "outputs": [
    {
     "data": {
      "text/plain": [
       "[1, 1, 2, 6, 24, 120]"
      ]
     },
     "execution_count": 16,
     "metadata": {},
     "output_type": "execute_result"
    }
   ],
   "source": [
    "[factorial(n) for n in range(6)] # 同样的操作，通过列表推导式实现"
   ]
  },
  {
   "cell_type": "code",
   "execution_count": 17,
   "id": "09e1a055-d525-4eb9-a43f-7e5713082665",
   "metadata": {},
   "outputs": [
    {
     "data": {
      "text/plain": [
       "[1, 6, 120]"
      ]
     },
     "execution_count": 17,
     "metadata": {},
     "output_type": "execute_result"
    }
   ],
   "source": [
    "list(map(factorial, filter(lambda n: n % 2, range(6)))) # 使用map和filter实现对奇数计算阶乘，从0到5"
   ]
  },
  {
   "cell_type": "code",
   "execution_count": 18,
   "id": "aa2c7968-31fd-4865-a1af-f869f510a634",
   "metadata": {},
   "outputs": [
    {
     "data": {
      "text/plain": [
       "[1, 6, 120]"
      ]
     },
     "execution_count": 18,
     "metadata": {},
     "output_type": "execute_result"
    }
   ],
   "source": [
    "[factorial(n) for n in range(6) if n % 2] # 列表推导式的实现，可替代map和filter，并且不需要lambda"
   ]
  },
  {
   "cell_type": "markdown",
   "id": "f99d566a-8ed4-4271-b9a5-87eb40188af8",
   "metadata": {},
   "source": [
    "在Python3中，`map`和`filter`返回生成器——一种迭代器形式——所以它们的直接替代者是生成器表达式。\n",
    "\n",
    "`reduce`函数从Python 2中的内置函数降级到Python 3中的`functools`模块。它最常见的用例是，总和(summation)，通过自Python2.3引入的内置函数`sum`来实现更好。可以同时带来可读性和性能的提升。"
   ]
  },
  {
   "cell_type": "code",
   "execution_count": 19,
   "id": "f7c8dcc5-bb12-48b1-970e-9f93d78dee21",
   "metadata": {},
   "outputs": [
    {
     "data": {
      "text/plain": [
       "4950"
      ]
     },
     "execution_count": 19,
     "metadata": {},
     "output_type": "execute_result"
    }
   ],
   "source": [
    "from functools import reduce # 自Python3.0,reduce不再是内置函数\n",
    "from operator import add # 引入add避免创建一个只进行两个数的加法函数\n",
    "reduce(add, range(100)) # 为从0到99的整数求和"
   ]
  },
  {
   "cell_type": "code",
   "execution_count": 20,
   "id": "336aae7b-3e88-45a7-99fc-5c12d377ff67",
   "metadata": {},
   "outputs": [
    {
     "data": {
      "text/plain": [
       "4950"
      ]
     },
     "execution_count": 20,
     "metadata": {},
     "output_type": "execute_result"
    }
   ],
   "source": [
    "sum(range(100)) # 通过sum来完成同样的任务——所以不需要引入和调用reduce和add"
   ]
  },
  {
   "cell_type": "markdown",
   "id": "1921c92f-5afc-4e4c-8fec-4c2d810cf15d",
   "metadata": {},
   "source": [
    "其中内建的reducing函数是`all`和`any`:\n",
    "* `all(iteralbe)` 返回`True`如果`iterable`中没有`False`元素，`all([])`返回`True`。\n",
    "* `any(iterable` 返回`True`如果`iterable`中任意一个元素为`True`，`any([])`返回`False`。\n",
    "\n",
    "要使用高阶函数，有时可以方便地创建一个小的、一次性的函数。这就是为什么匿名函数(anonymous function)存在。接下来我们将介绍它们。\n",
    "\n",
    "# 匿名函数\n"
   ]
  },
  {
   "cell_type": "code",
   "execution_count": null,
   "id": "c4ac60f1-a803-43a8-bd52-8e404e55074c",
   "metadata": {},
   "outputs": [],
   "source": []
  }
 ],
 "metadata": {
  "kernelspec": {
   "display_name": "Python 3 (ipykernel)",
   "language": "python",
   "name": "python3"
  },
  "language_info": {
   "codemirror_mode": {
    "name": "ipython",
    "version": 3
   },
   "file_extension": ".py",
   "mimetype": "text/x-python",
   "name": "python",
   "nbconvert_exporter": "python",
   "pygments_lexer": "ipython3",
   "version": "3.9.13"
  }
 },
 "nbformat": 4,
 "nbformat_minor": 5
}
