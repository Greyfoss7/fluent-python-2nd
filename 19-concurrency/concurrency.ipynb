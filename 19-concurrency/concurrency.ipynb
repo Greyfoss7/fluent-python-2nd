{
 "cells": [
  {
   "cell_type": "markdown",
   "id": "37bfa478-888e-464f-8f00-9eb9d6c3d8c5",
   "metadata": {},
   "source": [
    "并行(Parallelism)是并发(concurrency)的特例，所有并行的系统都是并发的，但不是所有的并发系统是并行的。\n",
    "\n",
    "为了并行执行200个任务，你需要200个CPU。所以实际上，大多数计算是并发但不是并行的。\n",
    "\n",
    "# 一个并发的Hello World\n",
    "\n",
    "## Spinner with Threads\n",
    "\n"
   ]
  }
 ],
 "metadata": {
  "kernelspec": {
   "display_name": "Python 3 (ipykernel)",
   "language": "python",
   "name": "python3"
  },
  "language_info": {
   "codemirror_mode": {
    "name": "ipython",
    "version": 3
   },
   "file_extension": ".py",
   "mimetype": "text/x-python",
   "name": "python",
   "nbconvert_exporter": "python",
   "pygments_lexer": "ipython3",
   "version": "3.10.9"
  }
 },
 "nbformat": 4,
 "nbformat_minor": 5
}
