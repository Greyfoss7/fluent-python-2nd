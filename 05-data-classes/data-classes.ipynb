{
 "cells": [
  {
   "cell_type": "markdown",
   "id": "d0a3cd9a-4f25-4579-8292-8b2d38c33c3f",
   "metadata": {},
   "source": [
    "# 引言\n",
    "\n",
    "Python提供了一些方法来构建一个只是字段集合的简单类，几乎没有其他功能。该模式被称为一个“数据类”——`dataclasses`是支持该模式的包之一。\n",
    "本文主要介绍三个不同的编写数据类的构建器：\n",
    "\n",
    "* `collections.namedtuple` 最简单的方式——由Python2.6引入\n",
    "* `typing.NamedTuple` 一个需要在字段上的类型提示的替代方案——由Python3.5引入\n",
    "* `@dataclasses.dataclass` 一个类装饰器，允许比以前的替代方案进行更多的定制，增加了许多选项和潜在的复杂性——由Python3.7引入\n",
    "\n",
    "# 新内容简介\n",
    "\n",
    "本章内容几乎是第二版的全新内容。\n",
    "\n",
    "# 数据类构建器概览\n",
    "\n",
    "考虑一个简单的代表经纬度坐标的类："
   ]
  },
  {
   "cell_type": "code",
   "execution_count": 1,
   "id": "872295dc-b500-4413-92e3-4f185e8af562",
   "metadata": {},
   "outputs": [],
   "source": [
    "class Coordinate:\n",
    "    def __init__(self, lat, lon):\n",
    "        self.lat = lat\n",
    "        self.lon = lon"
   ]
  },
  {
   "cell_type": "markdown",
   "id": "4554a702-1e73-4f5e-bf8f-264c11ef4c4f",
   "metadata": {},
   "source": [
    "Coordinate类用于存储经纬度坐标。编写`__init__`样板很快就会变得过时，特别是如果你的类有不止两个属性：每个属性都被提到三次！这种写法并没有给我们提供期望的Python对象的基本特性："
   ]
  },
  {
   "cell_type": "code",
   "execution_count": 2,
   "id": "b53eda97-ebb8-4d87-98eb-c022addb02c5",
   "metadata": {},
   "outputs": [
    {
     "data": {
      "text/plain": [
       "<__main__.Coordinate at 0x7ff60c0a2740>"
      ]
     },
     "execution_count": 2,
     "metadata": {},
     "output_type": "execute_result"
    }
   ],
   "source": [
    "moscow = Coordinate(55.76, 37.62)\n",
    "moscow # 继承自object的 __repr__ 函数并不是很有帮助"
   ]
  },
  {
   "cell_type": "code",
   "execution_count": 3,
   "id": "d0da1b74-5cf3-4e83-b065-f7ea792ee795",
   "metadata": {},
   "outputs": [
    {
     "data": {
      "text/plain": [
       "False"
      ]
     },
     "execution_count": 3,
     "metadata": {},
     "output_type": "execute_result"
    }
   ],
   "source": [
    "location = Coordinate(55.76, 37.62)\n",
    "location == moscow # 无意义的==操作，继承自object的__eq__方法只是比较对象ID"
   ]
  },
  {
   "cell_type": "code",
   "execution_count": 4,
   "id": "200fc11f-8a05-41dc-aa74-1b41439f59a7",
   "metadata": {},
   "outputs": [
    {
     "data": {
      "text/plain": [
       "True"
      ]
     },
     "execution_count": 4,
     "metadata": {},
     "output_type": "execute_result"
    }
   ],
   "source": [
    "(location.lat, location.lon) == (moscow.lat, moscow.lon) # 需要显示比较每个属性"
   ]
  },
  {
   "cell_type": "markdown",
   "id": "2e1ab093-64f4-40c5-ac2a-0f4f4250289d",
   "metadata": {},
   "source": [
    "数据类构建器自动提供了必须的`__init__`、`__repr__`和`__eq__`方法，还有其他有用的特性。\n",
    "\n",
    "下面是通过`namedtuple`构建的`Coordinate`类例子："
   ]
  },
  {
   "cell_type": "code",
   "execution_count": 5,
   "id": "485a7225-5981-4a00-83ea-566a55093bd5",
   "metadata": {},
   "outputs": [
    {
     "data": {
      "text/plain": [
       "True"
      ]
     },
     "execution_count": 5,
     "metadata": {},
     "output_type": "execute_result"
    }
   ],
   "source": [
    "from collections import namedtuple\n",
    "\n",
    "Coordinate = namedtuple('Coordinate', 'lat lon')\n",
    "issubclass(Coordinate, tuple) # 继承自元组"
   ]
  },
  {
   "cell_type": "code",
   "execution_count": 6,
   "id": "a5852562-5d33-4c21-bd97-510680b5c4a4",
   "metadata": {},
   "outputs": [
    {
     "data": {
      "text/plain": [
       "Coordinate(lat=55.756, lon=37.617)"
      ]
     },
     "execution_count": 6,
     "metadata": {},
     "output_type": "execute_result"
    }
   ],
   "source": [
    "moscow = Coordinate(55.756, 37.617)\n",
    "moscow # 有意义的__repr__"
   ]
  },
  {
   "cell_type": "code",
   "execution_count": 7,
   "id": "33bb822a-19ec-48ad-a0a1-3f5c4be84964",
   "metadata": {},
   "outputs": [
    {
     "data": {
      "text/plain": [
       "True"
      ]
     },
     "execution_count": 7,
     "metadata": {},
     "output_type": "execute_result"
    }
   ],
   "source": [
    "moscow == Coordinate(lat=55.756, lon=37.617) # 支持根据属性比较"
   ]
  },
  {
   "cell_type": "markdown",
   "id": "467b808d-1d1b-4a20-ae9e-ba8da4365494",
   "metadata": {},
   "source": [
    "而新的`type.NamedTuple`提供了一些功能，为每个字段添加类型注解："
   ]
  },
  {
   "cell_type": "code",
   "execution_count": 8,
   "id": "ea937c4a-b2cb-494c-b8ca-6c23f1b4ae98",
   "metadata": {},
   "outputs": [
    {
     "data": {
      "text/plain": [
       "True"
      ]
     },
     "execution_count": 8,
     "metadata": {},
     "output_type": "execute_result"
    }
   ],
   "source": [
    "import typing\n",
    "\n",
    "Coordinate = typing.NamedTuple('Coordinate', [('lat', float), ('lon', float)])\n",
    "# 也可以这样构造 Coordinate = typing.NamedTuple('Coordinate', lat=float, lon=float)\n",
    "issubclass(Coordinate, tuple)"
   ]
  },
  {
   "cell_type": "code",
   "execution_count": 9,
   "id": "c9251bf4-856a-4d04-9530-a4458d5ae89c",
   "metadata": {},
   "outputs": [
    {
     "data": {
      "text/plain": [
       "{'lat': float, 'lon': float}"
      ]
     },
     "execution_count": 9,
     "metadata": {},
     "output_type": "execute_result"
    }
   ],
   "source": [
    "typing.get_type_hints(Coordinate)"
   ]
  },
  {
   "cell_type": "markdown",
   "id": "1d8c0442-2ccf-49dd-a9b4-22f49179c45a",
   "metadata": {},
   "source": [
    "自Python3.6之后，`typing.NamedTuple`也能用于类声明中。这样可读性更好，而且很容易重写或增加方法。\n",
    "下面通过自定义`__str__`来格式化输出。"
   ]
  },
  {
   "cell_type": "code",
   "execution_count": 10,
   "id": "b9bc507d-2584-4293-80fd-dac900ae262a",
   "metadata": {},
   "outputs": [],
   "source": [
    "from typing import NamedTuple\n",
    "\n",
    "class Coordinate(NamedTuple):\n",
    "    lat: float\n",
    "    lon: float\n",
    "    def __str__(self):\n",
    "        ns = 'N' if self.lat >= 0 else 'S'\n",
    "        we = 'E' if self.lon >= 0 else 'W'\n",
    "        return f'{abs(self.lat):.1f}°{ns}, {abs(self.lon):.1f}°{we}'"
   ]
  },
  {
   "cell_type": "markdown",
   "id": "8256f5f0-3287-487e-94ce-ac2c496f73e1",
   "metadata": {
    "tags": []
   },
   "source": [
    "虽然`NamedTuple`这样看起来像是父类，但是实际并不是。它使用元类高级特性来自定义用户类的创建："
   ]
  },
  {
   "cell_type": "markdown",
   "id": "f59334f5-7efe-449f-9ad1-04427383d32b",
   "metadata": {},
   "source": [
    "在通过`typing.NamedTuple`生成的`__init__`方法中，字段作为参数出现的顺序与它们在类语句中出现的顺序相同。\n",
    "\n",
    "像`typing.NamedTuple`一样，`dataclass`装饰器支持[PEP 526](https://peps.python.org/pep-0526/)语法来定义实例属性。\n",
    "装饰器读取变量注释，并为你的类自动生成方法。\n",
    "为了比较，检查相等的通过`dataclass`装饰器编写的`Coordinate`类："
   ]
  },
  {
   "cell_type": "code",
   "execution_count": 11,
   "id": "a759e270-a3e4-4d4d-8130-9c6c3a225167",
   "metadata": {},
   "outputs": [],
   "source": [
    "from dataclasses import dataclass\n",
    "\n",
    "@dataclass(frozen=True)\n",
    "class Coordinate:\n",
    "    lat: float\n",
    "    lon: float\n",
    "    def __str__(self):\n",
    "        ns = 'N' if self.lat >= 0 else 'S'\n",
    "        we = 'E' if self.lon >= 0 else 'W'\n",
    "        return f'{abs(self.lat):.1f}°{ns}, {abs(self.lon):.1f}°{we}'"
   ]
  },
  {
   "cell_type": "markdown",
   "id": "64a41156-8dfb-43c7-b10a-d619b730e996",
   "metadata": {},
   "source": [
    "注意这两个类里面的代码是相同的，不同之处在于类定义处。`@dataclass`装饰器并不依赖于继承或元类，所以它不应该干扰你自己对这些机制的使用。上面的Coordinate是object的子类。"
   ]
  },
  {
   "cell_type": "markdown",
   "id": "82244eef-aec5-4ec3-9b7e-3a91d988e827",
   "metadata": {},
   "source": [
    "## 主要特性\n",
    "\n",
    "不同的数据类构建器有很多共同点，如下表所示。\n",
    "\n",
    "|     |  namedtuple  | NamedTuple | dataclass|\n",
    "|  ----  | ----  |----  |----  |\n",
    "| 可变实例  | NO |NO |YES |\n",
    "| 类声明语法  | NO |YES |YES |\n",
    "| 构建字典  | `x._asdict()` |`x._asdict()` |`dataclasses.asdict(x)` |\n",
    "| 获取字段名称  | `x._fields` |`x._fields` |`[f.name for f in dataclasses.fields(x)]` |\n",
    "| 获取默认值  | `x._field_defaults` |`x._field_defaults` |`[f.default for f in dataclasses.fields(x)]` |\n",
    "| 获取字段类型  | N/A |`x.__annotations__` |`x.__annotations__` |\n",
    "| 替换新实例  | `x._replace(…)` |`x._replace(…)` |`dataclasses.replace(x, …)` |\n",
    "| 运行时新类  | `namedtuple(…)` |`NamedTuple(…)` |`dataclasses.make_dataclass(…)` |\n",
    "\n",
    "### 可变实例\n",
    "\n",
    "这些类构建器的核心区别是`collections.namedtuple`和`typing.NamedTuple`构建的是元组的子类，所以这些实例都是不可变的。\n",
    "默认，`@dataclass`产生可变类。但该装饰器接收一个关键字参数`frozen`，若上面的例子所示，当为`True`时，如果你尝试为实例化的对象字段赋值时该类会抛出异常。\n",
    "\n",
    "### 类声明语法\n",
    "\n",
    "只有`typing.NamedTuple`和`dataclass`支持常规的类声明语法，使得很容易增加方法到你创要创建的类中。\n",
    "\n",
    "### 构建字典\n",
    "\n",
    "两个命名元组变量都提供一个实例方法(`._asdict`)可以基于数据类实例中的字段来构建一个字典对象。`dataclass`模块提供了一个函数：`dataclass.asdict`。\n",
    "\n",
    "### 获取字段名称和默认值\n",
    "\n",
    "所有这三个类构建器都可以让你获取字段名称和默认值。在命名元组类中，该元数据是在`._fields`和`._fields_defaults`类属性中。\n",
    "你可以使用`fileds`函数从`dataclasses`模块中获取同样的元数据。它返回一个`Field`对象元组，其中包含`name`和`default`字段。\n",
    "\n",
    "### 获取字段类型\n",
    "\n",
    "基于`typing.NamedTuple`和`@dataclass`定义的类有一个字段名到类型`__annotations__`类属性的映射。使用`typing.get_type_hints`函数而不是直接读取`__annotations__`。\n",
    "\n",
    "### 替换新实例\n",
    "\n",
    "给定一个命名元组实例`x`，调用`x._replace(**kwargs)`基于给定的关键字参数，会返回一个某些属性值替换了的新实例。对于`dataclass`装饰的类是通过`dataclasses.replace(x, **kwargs)`模块级方法。\n",
    "\n",
    "### 运行时新类\n",
    "\n",
    "随机类声明语法更可读，但它是硬编码的。框架可能需要在运行时构建数据类。为此，你可以使用`collections.namedtuple`的默认函数调用语法，同样被`typing.NamedTuple`支持。\n",
    "`dataclasses`模块同样提供了一个`make_dataclass`函数。\n",
    "\n",
    "在大概看了这些数据类构建器之后，我们下面仔细探讨下它们。从最简单的开始。\n",
    "\n",
    "# 经典的命名元组\n",
    "\n",
    "\n",
    "`collections.namedtuple`函数是一个构建元组子类的工厂方法，实现了字段名称、类名和有意义的`__repr__`加强。基于`namedtuple`构建的类可以随意替换任何需要元组的地方。\n",
    "\n",
    "下面演示一个例子，定义一个命名元组来保存城市信息。\n"
   ]
  },
  {
   "cell_type": "code",
   "execution_count": 12,
   "id": "0439cb82-7eee-4d90-8024-945ec4531974",
   "metadata": {},
   "outputs": [
    {
     "data": {
      "text/plain": [
       "City(name='Tokyo', country='JP', population=36.933, coordinates=(35.689722, 139.691667))"
      ]
     },
     "execution_count": 12,
     "metadata": {},
     "output_type": "execute_result"
    }
   ],
   "source": [
    "from collections import namedtuple\n",
    "\n",
    "# 需要两个参数来创建命名元组：一个类名；字段名称列表，它可以是可迭代的字符串或单个空格分隔的字符串。\n",
    "City = namedtuple('City', 'name country population coordinates')\n",
    "# 字段值必须作为单独的位置参数传递给构造函数\n",
    "tokyo = City('Tokyo', 'JP', 36.933, (35.689722, 139.691667)) \n",
    "tokyo"
   ]
  },
  {
   "cell_type": "code",
   "execution_count": 13,
   "id": "b9b649f2-3100-4695-9825-1f8db43b9c10",
   "metadata": {},
   "outputs": [
    {
     "data": {
      "text/plain": [
       "36.933"
      ]
     },
     "execution_count": 13,
     "metadata": {},
     "output_type": "execute_result"
    }
   ],
   "source": [
    "tokyo.population # 可以通过名称或索引访问字段"
   ]
  },
  {
   "cell_type": "code",
   "execution_count": 14,
   "id": "ca31220c-4425-47f2-b041-94d21f2422c9",
   "metadata": {},
   "outputs": [
    {
     "data": {
      "text/plain": [
       "(35.689722, 139.691667)"
      ]
     },
     "execution_count": 14,
     "metadata": {},
     "output_type": "execute_result"
    }
   ],
   "source": [
    "tokyo.coordinates"
   ]
  },
  {
   "cell_type": "code",
   "execution_count": 15,
   "id": "bb8c0887-3687-4e47-9899-d5f24786d1db",
   "metadata": {},
   "outputs": [
    {
     "data": {
      "text/plain": [
       "'JP'"
      ]
     },
     "execution_count": 15,
     "metadata": {},
     "output_type": "execute_result"
    }
   ],
   "source": [
    " tokyo[1]"
   ]
  },
  {
   "cell_type": "markdown",
   "id": "9ef15609-3c3f-4520-a3fe-32024ad98e6c",
   "metadata": {},
   "source": [
    "作为元组的子类，`City`继承了有用的方法，比如`__eq__`和用于比较的特殊方法——包括`__lt__`，它可以对`City`实例列表进行排序。\n",
    "\n",
    "一个命名元组额外供了一些属性和方法。下面的代码展示了最有用的一些，比如`_fields`类属性，类方法`_make(iterable)`和`_asdict()`实例方法。"
   ]
  },
  {
   "cell_type": "code",
   "execution_count": 16,
   "id": "ffeaddda-b13d-484d-9754-a046f7f1b969",
   "metadata": {},
   "outputs": [
    {
     "data": {
      "text/plain": [
       "('name', 'country', 'population', 'coordinates')"
      ]
     },
     "execution_count": 16,
     "metadata": {},
     "output_type": "execute_result"
    }
   ],
   "source": [
    "City._fields # _fields 返回类字段名称的元组"
   ]
  },
  {
   "cell_type": "code",
   "execution_count": 17,
   "id": "8d8eb123-94f9-4f9a-b530-7c5c83cd230b",
   "metadata": {},
   "outputs": [
    {
     "data": {
      "text/plain": [
       "{'name': 'Delhi NCR',\n",
       " 'country': 'IN',\n",
       " 'population': 21.935,\n",
       " 'coordinates': Coordinate(lat=28.613889, lon=77.208889)}"
      ]
     },
     "execution_count": 17,
     "metadata": {},
     "output_type": "execute_result"
    }
   ],
   "source": [
    "Coordinate = namedtuple('Coordinate', 'lat lon')\n",
    "delhi_data = ('Delhi NCR', 'IN', 21.935, Coordinate(28.613889, 77.208889))\n",
    "delhi = City._make(delhi_data) # _make从一个可迭代对象中构建City实例，也可以通过 City(*delhi_data)\n",
    "delhi._asdict() # _asdict返回由命名元组实例构建的字典"
   ]
  },
  {
   "cell_type": "code",
   "execution_count": 18,
   "id": "8495ca6b-2477-426d-b34a-e100d286d112",
   "metadata": {},
   "outputs": [
    {
     "data": {
      "text/plain": [
       "'{\"name\": \"Delhi NCR\", \"country\": \"IN\", \"population\": 21.935, \"coordinates\": [28.613889, 77.208889]}'"
      ]
     },
     "execution_count": 18,
     "metadata": {},
     "output_type": "execute_result"
    }
   ],
   "source": [
    "import json\n",
    "json.dumps(delhi._asdict()) # ._asdict()在序列化为JSON格式时很有用"
   ]
  },
  {
   "cell_type": "markdown",
   "id": "3fb2ecbf-3c90-4cbf-8576-e207cfd70b78",
   "metadata": {},
   "source": [
    "自Python3.7后，`namedtuple`接收`defaults`关键字参数，为类的最右边的N个字段提供N个迭代的默认值。\n"
   ]
  },
  {
   "cell_type": "code",
   "execution_count": 19,
   "id": "e01c098f-234c-42d3-b2dc-97bd6eff7455",
   "metadata": {},
   "outputs": [
    {
     "data": {
      "text/plain": [
       "Coordinate(lat=0, lon=0, reference='WGS84')"
      ]
     },
     "execution_count": 19,
     "metadata": {},
     "output_type": "execute_result"
    }
   ],
   "source": [
    "Coordinate = namedtuple('Coordinate', 'lat lon reference', defaults=['WGS84'])\n",
    "Coordinate(0, 0) # reference默认值是WGS84"
   ]
  },
  {
   "cell_type": "code",
   "execution_count": 20,
   "id": "71b32f44-c644-474f-a384-517bc8f3c92f",
   "metadata": {},
   "outputs": [
    {
     "data": {
      "text/plain": [
       "{'reference': 'WGS84'}"
      ]
     },
     "execution_count": 20,
     "metadata": {},
     "output_type": "execute_result"
    }
   ],
   "source": [
    "Coordinate._field_defaults"
   ]
  },
  {
   "cell_type": "markdown",
   "id": "eaf94d9f-0a02-4a27-8df2-2e172c5b8320",
   "metadata": {},
   "source": [
    "# NamedTuple\n",
    "具有默认值字段的`Coordinate`也可以通过`typing.NamedTuple`来实现："
   ]
  },
  {
   "cell_type": "code",
   "execution_count": 21,
   "id": "42ad3c2e-9cd8-4679-b1b2-6c8f1f7e541e",
   "metadata": {},
   "outputs": [],
   "source": [
    "from typing import NamedTuple\n",
    "\n",
    "class Coordinate(NamedTuple):\n",
    "    lat: float  # 每个实例字段必须带有类型注解\n",
    "    lon: float\n",
    "    reference: str = 'WGS84' # reference实例字段还有默认值\n"
   ]
  },
  {
   "cell_type": "markdown",
   "id": "14ff6f41-b4a6-49d0-926b-92142e4e550a",
   "metadata": {},
   "source": [
    "基于`typing.NamedTuple`构建的类除了`collections.namedtuple`生成的方法——也是由元组继承的方法之外没有任何其他方法。\n",
    "\n",
    "由于`typing.NamedTuple`的主要特性是类型注释，我们先来快速看一下然后再继续探索数据类构建器。\n",
    "\n",
    "# 类型注解\n",
    "\n",
    "类型注解是定义函数参数、返回值、变量和属性期望类型的方法。\n",
    "\n",
    "首先关于类型注解你需要知道的是，它们并没有被Python字节码编译器和解释器强制执行。\n",
    "\n",
    "## 无运行时效果\n",
    "\n",
    "可以把Python的类型注解看成“能被IDE和类型检测器验证的文档”。\n",
    "\n",
    "因为类型注解对于Python程序的运行时表现无影响。来看下面这段代码。\n",
    "\n",
    "\n",
    "\n"
   ]
  },
  {
   "cell_type": "code",
   "execution_count": 22,
   "id": "1fdb74f9-310e-4eee-83d8-24052f61a327",
   "metadata": {},
   "outputs": [
    {
     "name": "stdout",
     "output_type": "stream",
     "text": [
      "Coordinate(lat='Ni!', lon=None)\n"
     ]
    }
   ],
   "source": [
    "import typing\n",
    "\n",
    "class Coordinate(typing.NamedTuple):\n",
    "    lat: float\n",
    "    lon: float\n",
    "        \n",
    "trash = Coordinate('Ni!', None)\n",
    "print(trash) # 看，没有运行时类型检查"
   ]
  },
  {
   "cell_type": "markdown",
   "id": "c74416a1-30a4-4ccc-a8eb-13dfb4168428",
   "metadata": {},
   "source": [
    "类型注解主要用于支持第三方类型检查器，比如Mypy或PyCharm IDE内建的类型检查器。这些都是静态分析工具：它们静态地检查Python源码，而不是运行时的代码。\n",
    "\n",
    "你可以在你的代码上运行这些工具。比如，下面我们使用`mypy`(pip install mypy)工具来检测上面的例子(作为`nocheck_demo.py`文件保存)：\n",
    "\n",
    "\n"
   ]
  },
  {
   "cell_type": "code",
   "execution_count": 23,
   "id": "e77e36cc-a1b7-4f41-92c9-8dbfcd17a01c",
   "metadata": {},
   "outputs": [
    {
     "name": "stdout",
     "output_type": "stream",
     "text": [
      "/bin/bash: mypy: command not found\n"
     ]
    }
   ],
   "source": [
    "! mypy nocheck_demo.py"
   ]
  },
  {
   "cell_type": "markdown",
   "id": "e78fc74d-f63d-4477-87bd-c0ee69b248d1",
   "metadata": {},
   "source": [
    "可以看到，`Mypy`知道这些参数的类型必须是float，但是`trash`使用的是str和None。\n",
    "\n",
    "## 变量注解语法\n",
    "\n",
    "`typing.NamedTuple`和`@dataclass`都使用变量注解。变量注解的基本语法是：\n",
    "```py\n",
    "var_name: some_type\n",
    "```\n",
    "\n",
    "在定义数据类的上下文中，下面这些类型是可接受的：\n",
    "* 一个具体的类，比如，`str`\n",
    "* 一个参数化的集合类型，像 `list[int]`，`tuple[str, float]`等\n",
    "* `typing.Optional`，比如，`Optional[str]`\n",
    "\n",
    "也可以为变量赋值，会成为该属性的默认值：\n",
    "\n",
    "```py\n",
    "var_name: some_type = a_value\n",
    "```\n",
    "\n",
    "## 变量注解的意义\n",
    "\n",
    "我们知道变量注解无法影响运行时。但在加载时——当一个模块被加载——Python会读取它们来构建`__annotations__`字典，然后`typing.NamedTuple`和`@dataclass`用来增加该类。\n",
    "\n",
    "我们通过下面的例子来解释这一点。"
   ]
  },
  {
   "cell_type": "code",
   "execution_count": 24,
   "id": "b50981cf-ee89-4b85-831f-f84c10e117fc",
   "metadata": {},
   "outputs": [],
   "source": [
    "class DemoPlainClass:\n",
    "    a: int # a变成了__annotations__的元素，但没有创建属性\n",
    "    b: float = 1.1 # b保存为一个注解，也变成了类属性\n",
    "    c = 'spam' # c是类属性，并不是注解"
   ]
  },
  {
   "cell_type": "code",
   "execution_count": 25,
   "id": "0ebb72f8-806b-4987-8498-a8ea32a1812e",
   "metadata": {},
   "outputs": [
    {
     "data": {
      "text/plain": [
       "{'a': int, 'b': float}"
      ]
     },
     "execution_count": 25,
     "metadata": {},
     "output_type": "execute_result"
    }
   ],
   "source": [
    "DemoPlainClass.__annotations__"
   ]
  },
  {
   "cell_type": "code",
   "execution_count": 26,
   "id": "7d56d5cc-6168-48a4-81b9-4184fd0e1668",
   "metadata": {},
   "outputs": [
    {
     "ename": "AttributeError",
     "evalue": "type object 'DemoPlainClass' has no attribute 'a'",
     "output_type": "error",
     "traceback": [
      "\u001b[0;31m---------------------------------------------------------------------------\u001b[0m",
      "\u001b[0;31mAttributeError\u001b[0m                            Traceback (most recent call last)",
      "Input \u001b[0;32mIn [26]\u001b[0m, in \u001b[0;36m<cell line: 1>\u001b[0;34m()\u001b[0m\n\u001b[0;32m----> 1\u001b[0m \u001b[43mDemoPlainClass\u001b[49m\u001b[38;5;241;43m.\u001b[39;49m\u001b[43ma\u001b[49m\n",
      "\u001b[0;31mAttributeError\u001b[0m: type object 'DemoPlainClass' has no attribute 'a'"
     ]
    }
   ],
   "source": [
    "DemoPlainClass.a"
   ]
  },
  {
   "cell_type": "code",
   "execution_count": 27,
   "id": "cfdc0ae8-93da-4c7c-9d26-97f72759e1a0",
   "metadata": {},
   "outputs": [
    {
     "data": {
      "text/plain": [
       "1.1"
      ]
     },
     "execution_count": 27,
     "metadata": {},
     "output_type": "execute_result"
    }
   ],
   "source": [
    "DemoPlainClass.b"
   ]
  },
  {
   "cell_type": "code",
   "execution_count": 28,
   "id": "9e876dbe-90ae-4431-9338-2036bdc9e5f9",
   "metadata": {},
   "outputs": [
    {
     "data": {
      "text/plain": [
       "'spam'"
      ]
     },
     "execution_count": 28,
     "metadata": {},
     "output_type": "execute_result"
    }
   ],
   "source": [
    "DemoPlainClass.c"
   ]
  },
  {
   "cell_type": "markdown",
   "id": "204370a5-c073-42f4-8d44-bb68eed2b7b5",
   "metadata": {},
   "source": [
    "注意`__annotations__`特殊属性由解释器创建来记录出现在源码中的类型注解。\n",
    "\n",
    "`a`只能作为一个注解而存在，它不会成为一个类属性，因为没有任何值被绑定到它身上。`b`和`c`被存储为类属性，因为它们被绑定到值上。\n",
    "\n",
    "这三个属性都不会出现在`DemoPlainClass`的新实例中。如果你创建了一个对象`o = DemoPlainClass()`，`o.a`将引发`AttributeError`，而`o.b`和`o.c`将检索值为`1.1`和\"spam\"的类属性——这只是真正的Python对象行为。\n",
    "\n",
    "### 检视typing.NamedTuple\n",
    "\n",
    "下面我们看一个由`typing.NamedTuple`构建的类"
   ]
  },
  {
   "cell_type": "code",
   "execution_count": 29,
   "id": "3ab9d678-562b-4422-8fb5-b33ff4e7a45f",
   "metadata": {},
   "outputs": [],
   "source": [
    "import typing\n",
    "\n",
    "class DemoNTClass(typing.NamedTuple):\n",
    "    a: int # a变成了__annotations__的元素，也是一个实例属性\n",
    "    b: float = 1.1 # b保存为一个注解，也变成了实例属性\n",
    "    c = 'spam' # c是类属性，并不是注解"
   ]
  },
  {
   "cell_type": "code",
   "execution_count": 30,
   "id": "9f35fcc1-a155-48c7-8db6-9718203ae2fc",
   "metadata": {},
   "outputs": [
    {
     "data": {
      "text/plain": [
       "{'a': int, 'b': float}"
      ]
     },
     "execution_count": 30,
     "metadata": {},
     "output_type": "execute_result"
    }
   ],
   "source": [
    "DemoNTClass.__annotations__"
   ]
  },
  {
   "cell_type": "code",
   "execution_count": 31,
   "id": "738ead4a-5cdc-4c6f-bf38-457a90e4cbd2",
   "metadata": {},
   "outputs": [
    {
     "data": {
      "text/plain": [
       "_tuplegetter(0, 'Alias for field number 0')"
      ]
     },
     "execution_count": 31,
     "metadata": {},
     "output_type": "execute_result"
    }
   ],
   "source": [
    "DemoNTClass.a"
   ]
  },
  {
   "cell_type": "code",
   "execution_count": 32,
   "id": "85647dd1-8a14-44f6-8477-59af3b6e197a",
   "metadata": {},
   "outputs": [
    {
     "data": {
      "text/plain": [
       "_tuplegetter(1, 'Alias for field number 1')"
      ]
     },
     "execution_count": 32,
     "metadata": {},
     "output_type": "execute_result"
    }
   ],
   "source": [
    "DemoNTClass.b"
   ]
  },
  {
   "cell_type": "code",
   "execution_count": 33,
   "id": "57dda487-c950-456d-af0d-ad0f321b700c",
   "metadata": {},
   "outputs": [
    {
     "data": {
      "text/plain": [
       "'spam'"
      ]
     },
     "execution_count": 33,
     "metadata": {},
     "output_type": "execute_result"
    }
   ],
   "source": [
    "DemoNTClass.c"
   ]
  },
  {
   "cell_type": "markdown",
   "id": "a684484d-ea91-49ef-b54c-a8c9fab56c82",
   "metadata": {},
   "source": [
    "本例中类里面的代码和上面的一致，但是`typing.NamedTuple`会创建`a`和`b`类属性。\n",
    "\n",
    "`a`和`b`的类属性是descriptors——在第23章会介绍。现在，将它们看成属性的getter：一个不需要显示调用`operator()`来检索实例属性的方法。这意味着`a`和`b`会作为只读实例属性——这说得通，我们知道`DemoNTClass`实例只是花哨的元组，而元组是不可变的。\n",
    "\n",
    "`DemoNTClass`也会有一个自定义的docstring:"
   ]
  },
  {
   "cell_type": "code",
   "execution_count": 34,
   "id": "10aaf43b-a629-4e70-a32c-8ecdfb5f5236",
   "metadata": {},
   "outputs": [
    {
     "data": {
      "text/plain": [
       "'DemoNTClass(a, b)'"
      ]
     },
     "execution_count": 34,
     "metadata": {},
     "output_type": "execute_result"
    }
   ],
   "source": [
    "DemoNTClass.__doc__"
   ]
  },
  {
   "cell_type": "markdown",
   "id": "7d29924f-51e3-40fc-a16f-ebf160874c4a",
   "metadata": {},
   "source": [
    "我们下面看下`DemoNTClass`的实例："
   ]
  },
  {
   "cell_type": "code",
   "execution_count": 36,
   "id": "c6bb9698-c526-4d3f-89f8-2242f5acdf59",
   "metadata": {},
   "outputs": [
    {
     "data": {
      "text/plain": [
       "8"
      ]
     },
     "execution_count": 36,
     "metadata": {},
     "output_type": "execute_result"
    }
   ],
   "source": [
    "nt = DemoNTClass(8)\n",
    "nt.a"
   ]
  },
  {
   "cell_type": "code",
   "execution_count": 37,
   "id": "bcee2e68-e6f9-4531-ab9f-09889345547a",
   "metadata": {},
   "outputs": [
    {
     "data": {
      "text/plain": [
       "1.1"
      ]
     },
     "execution_count": 37,
     "metadata": {},
     "output_type": "execute_result"
    }
   ],
   "source": [
    "nt.b"
   ]
  },
  {
   "cell_type": "code",
   "execution_count": 38,
   "id": "effd01d9-0311-417d-bc25-abf77ea69b85",
   "metadata": {},
   "outputs": [
    {
     "data": {
      "text/plain": [
       "'spam'"
      ]
     },
     "execution_count": 38,
     "metadata": {},
     "output_type": "execute_result"
    }
   ],
   "source": [
    "nt.c"
   ]
  },
  {
   "cell_type": "markdown",
   "id": "9a4656c2-662c-4c22-ae44-867a6bb4f524",
   "metadata": {},
   "source": [
    "要构造`nt`，我们至少需要给`DemoNTClass`提供一个参数。构造函数也接受`b`参数，但它的默认值为1.1，所以它是可选的。`nt`对象具有预期的`a`和`b`属性；它没有`c`属性，但是Python像往常一样从类中检索它。\n",
    "\n",
    "如果你想为`nt.a`,`nt.b`或`nt.c`，甚至`nt.z`赋值，你会得到一个`AttributeError`异常。\n",
    "\n",
    "### 检视由dataclass装饰的类\n",
    "\n"
   ]
  },
  {
   "cell_type": "code",
   "execution_count": 39,
   "id": "ea31e5d8-af3b-4d1f-9691-a86d4dff1293",
   "metadata": {},
   "outputs": [],
   "source": [
    "from dataclasses import dataclass\n",
    "\n",
    "@dataclass\n",
    "class DemoDataClass:\n",
    "    a: int  # a是注解，同时也是实例属性\n",
    "    b: float = 1.1  # b是另一个注解，也是带有默认值1.1的descriptor的实例属性\n",
    "    c = 'spam' # c是类属性，并不是注解"
   ]
  },
  {
   "cell_type": "code",
   "execution_count": 40,
   "id": "fee39a4c-0bb0-4bd4-ac8c-cdc2475852e8",
   "metadata": {},
   "outputs": [
    {
     "data": {
      "text/plain": [
       "{'a': int, 'b': float}"
      ]
     },
     "execution_count": 40,
     "metadata": {},
     "output_type": "execute_result"
    }
   ],
   "source": [
    " DemoDataClass.__annotations__"
   ]
  },
  {
   "cell_type": "code",
   "execution_count": 41,
   "id": "b4dd0dfe-3ef7-420a-8e51-ac9f6ca0e09a",
   "metadata": {},
   "outputs": [
    {
     "data": {
      "text/plain": [
       "'DemoDataClass(a: int, b: float = 1.1)'"
      ]
     },
     "execution_count": 41,
     "metadata": {},
     "output_type": "execute_result"
    }
   ],
   "source": [
    "DemoDataClass.__doc__"
   ]
  },
  {
   "cell_type": "code",
   "execution_count": 42,
   "id": "251b2447-efaf-43fd-9c5c-103f0ea04e7a",
   "metadata": {},
   "outputs": [
    {
     "ename": "AttributeError",
     "evalue": "type object 'DemoDataClass' has no attribute 'a'",
     "output_type": "error",
     "traceback": [
      "\u001b[0;31m---------------------------------------------------------------------------\u001b[0m",
      "\u001b[0;31mAttributeError\u001b[0m                            Traceback (most recent call last)",
      "Input \u001b[0;32mIn [42]\u001b[0m, in \u001b[0;36m<cell line: 1>\u001b[0;34m()\u001b[0m\n\u001b[0;32m----> 1\u001b[0m \u001b[43mDemoDataClass\u001b[49m\u001b[38;5;241;43m.\u001b[39;49m\u001b[43ma\u001b[49m\n",
      "\u001b[0;31mAttributeError\u001b[0m: type object 'DemoDataClass' has no attribute 'a'"
     ]
    }
   ],
   "source": [
    "DemoDataClass.a"
   ]
  },
  {
   "cell_type": "code",
   "execution_count": 45,
   "id": "6c6f3a45-dba3-4f65-b100-aa46deee2165",
   "metadata": {},
   "outputs": [
    {
     "data": {
      "text/plain": [
       "1.1"
      ]
     },
     "execution_count": 45,
     "metadata": {},
     "output_type": "execute_result"
    }
   ],
   "source": [
    "DemoDataClass.b"
   ]
  },
  {
   "cell_type": "code",
   "execution_count": 46,
   "id": "03fc501b-7a5d-4959-ab32-ea7494373360",
   "metadata": {},
   "outputs": [
    {
     "data": {
      "text/plain": [
       "'spam'"
      ]
     },
     "execution_count": 46,
     "metadata": {},
     "output_type": "execute_result"
    }
   ],
   "source": [
    "DemoDataClass.c"
   ]
  },
  {
   "cell_type": "markdown",
   "id": "7e814c49-c9e1-494b-a324-98b58c4a8134",
   "metadata": {},
   "source": [
    "奇怪的是在`DemoDataClass`中没有名为`a`的属性——与`DemoNTClass`相反，它有一个descriptor。\n",
    "这是因为`a`属性只存在为`DemoDataClass`的实例中。它是可读可写的公有属性。但`b`和`c`可以作为类属性存在。\n",
    "\n",
    "下面我们看`DemoDataClass`的实例是怎样的："
   ]
  },
  {
   "cell_type": "code",
   "execution_count": 47,
   "id": "8393480b-6220-4777-8098-02ddda89e432",
   "metadata": {},
   "outputs": [
    {
     "data": {
      "text/plain": [
       "9"
      ]
     },
     "execution_count": 47,
     "metadata": {},
     "output_type": "execute_result"
    }
   ],
   "source": [
    "dc = DemoDataClass(9)\n",
    "dc.a"
   ]
  },
  {
   "cell_type": "code",
   "execution_count": 48,
   "id": "40d1f9a7-5201-4135-94df-cb57d7a2e89b",
   "metadata": {},
   "outputs": [
    {
     "data": {
      "text/plain": [
       "1.1"
      ]
     },
     "execution_count": 48,
     "metadata": {},
     "output_type": "execute_result"
    }
   ],
   "source": [
    "dc.b"
   ]
  },
  {
   "cell_type": "code",
   "execution_count": 49,
   "id": "cb570d5f-4203-42ec-a597-816fb60c0da9",
   "metadata": {},
   "outputs": [
    {
     "data": {
      "text/plain": [
       "'spam'"
      ]
     },
     "execution_count": 49,
     "metadata": {},
     "output_type": "execute_result"
    }
   ],
   "source": [
    "dc.c"
   ]
  },
  {
   "cell_type": "markdown",
   "id": "723aa8f9-0455-4524-93f9-25c8fcd27e79",
   "metadata": {},
   "source": [
    "这里`a`和`b`是实例属性，`c`是通过实例获取的类属性。\n",
    "\n",
    "正如我们上面所说的，`DemoDataClass`的实例是可变的，且没有运行时类型检查："
   ]
  },
  {
   "cell_type": "code",
   "execution_count": 50,
   "id": "961e4f1c-04dd-44cd-940f-dd58386bc1e7",
   "metadata": {},
   "outputs": [],
   "source": [
    "dc.a = 10\n",
    "dc.b = 'oops'"
   ]
  },
  {
   "cell_type": "code",
   "execution_count": 51,
   "id": "becac563-8075-4158-a2d4-20115e066a55",
   "metadata": {},
   "outputs": [],
   "source": [
    "dc.c = 'whatever'\n",
    "dc.z = 'secret stash' # 还可以创建新属性"
   ]
  },
  {
   "cell_type": "markdown",
   "id": "9452068f-293c-47e3-ab01-b8710d5f2c63",
   "metadata": {},
   "source": [
    "这里`dc`有`c`实例属性——但不会修改`c`类属性。同时我们可以添加一个新的`z`属性。这是正常的Python行为：普通实例可以有不存在类中的自己的属性。"
   ]
  },
  {
   "cell_type": "markdown",
   "id": "e1e567f7-a683-4de6-8aa4-13415c0c3733",
   "metadata": {},
   "source": [
    "# @dataclass的更多知识\n",
    "\n",
    "到此为止我们只看到了`@dataclass`的一个简单例子。该装饰器接收几个关键字参数，签名如下：\n",
    "```py\n",
    "@dataclass(*, init=True, repr=True, eq=True, order=False,\n",
    "             unsafe_hash=False, frozen=False)\n",
    "```\n",
    "\n",
    "第一个位置参数`*`表示剩下的参数为仅关键词。\n",
    "\n",
    "|  参数   | 用途  | 默认值| 备注|\n",
    "|  ----  | ----  |----  |----  |\n",
    "| init  | 生成`__init__` | `True`| 如果用户实现了`__init__`，该设置会被忽略 |\n",
    "| repr  | 生成`__repr__` | `True` | 如果用户实现了`__repr__`，该设置会被忽略 |\n",
    "| eq  | 生成`__eq__` | `True` | 如果用户实现了`__eq__`，该设置会被忽略 |\n",
    "| order  | 生成`__lt__`,`__le__`,`__gt__`,`__ge__` | `False` | 如果`eq=False`且该参数为`True`，或定义/继承了将生成的任何比较方法，则抛出异常， |\n",
    "| unsafe_hash  | 生成`__hash__` | `False` | 比较复杂，建议参考文档 |\n",
    "| frozen  | 使实例变成不可变的 | `False` | 可以防止不小心修改实例，但不是真正不可变 |\n",
    "\n",
    "默认值在大多数情况下够用了。可能你想修改的参数是：\n",
    "* `frozen=True` 防止不小心修改了类实例属性\n",
    "* `order=True` 允许对数据类实例进行排序\n",
    "\n",
    "如果`eq`和`frozen`参数都是`True`，`@dataclass`会生成一个合适的`__hash__`方法，所以该实例是可哈希的。生成的`__hash__`将使用来自所有没有使用一个字段选项单独排除的字段的数据，该字段选项我们会在下一节中看到。如果`fronze=False`(默认)，`@dataclass`会将`__hash__`设为`None`，表示实例是不可哈希的。\n",
    "\n",
    "## 字段选项\n",
    "\n",
    "我们已经看到了最基本的字段选项：提供（或不提供）具有类型注解的默认值。你声明的实例字段将成为已生成的`__init__`中的参数。Python不允许没有默认值的参数在有默认值的参数之后，因此在声明具有默认值的字段后，所有剩余的字段也必须具有默认值。\n",
    "\n",
    "可变的默认值是引发Python开发人员的常见bug来源。在函数定义中，当一个函数的调用改变默认值时，一个可变的默认值很容易被损坏，从而改变进一步输入的行为——我们将在下一篇文章中探讨这个问题。类属性通常作为实例的默认属性值，包括数据类。`@dataclass`使用在类型注解的默认值来在`__init__`中生成带默认值的参数。为了防止bug，`@dataclass`拒绝像下面这样的类定义：\n",
    "\n"
   ]
  },
  {
   "cell_type": "code",
   "execution_count": 52,
   "id": "62aeccd5-9459-4a65-a1c7-2c0032d15248",
   "metadata": {},
   "outputs": [
    {
     "ename": "ValueError",
     "evalue": "mutable default <class 'list'> for field guests is not allowed: use default_factory",
     "output_type": "error",
     "traceback": [
      "\u001b[0;31m---------------------------------------------------------------------------\u001b[0m",
      "\u001b[0;31mValueError\u001b[0m                                Traceback (most recent call last)",
      "Input \u001b[0;32mIn [52]\u001b[0m, in \u001b[0;36m<cell line: 1>\u001b[0;34m()\u001b[0m\n\u001b[1;32m      1\u001b[0m \u001b[38;5;129;43m@dataclass\u001b[39;49m\n\u001b[0;32m----> 2\u001b[0m \u001b[38;5;28;43;01mclass\u001b[39;49;00m\u001b[43m \u001b[49m\u001b[38;5;21;43;01mClubMember\u001b[39;49;00m\u001b[43m:\u001b[49m\n\u001b[1;32m      3\u001b[0m \u001b[43m    \u001b[49m\u001b[43mname\u001b[49m\u001b[43m:\u001b[49m\u001b[43m \u001b[49m\u001b[38;5;28;43mstr\u001b[39;49m\n\u001b[1;32m      4\u001b[0m \u001b[43m    \u001b[49m\u001b[43mguests\u001b[49m\u001b[43m:\u001b[49m\u001b[43m \u001b[49m\u001b[38;5;28;43mlist\u001b[39;49m\u001b[43m \u001b[49m\u001b[38;5;241;43m=\u001b[39;49m\u001b[43m \u001b[49m\u001b[43m[\u001b[49m\u001b[43m]\u001b[49m\n",
      "File \u001b[0;32m/opt/conda/lib/python3.10/dataclasses.py:1185\u001b[0m, in \u001b[0;36mdataclass\u001b[0;34m(cls, init, repr, eq, order, unsafe_hash, frozen, match_args, kw_only, slots)\u001b[0m\n\u001b[1;32m   1182\u001b[0m     \u001b[38;5;28;01mreturn\u001b[39;00m wrap\n\u001b[1;32m   1184\u001b[0m \u001b[38;5;66;03m# We're called as @dataclass without parens.\u001b[39;00m\n\u001b[0;32m-> 1185\u001b[0m \u001b[38;5;28;01mreturn\u001b[39;00m \u001b[43mwrap\u001b[49m\u001b[43m(\u001b[49m\u001b[38;5;28;43mcls\u001b[39;49m\u001b[43m)\u001b[49m\n",
      "File \u001b[0;32m/opt/conda/lib/python3.10/dataclasses.py:1176\u001b[0m, in \u001b[0;36mdataclass.<locals>.wrap\u001b[0;34m(cls)\u001b[0m\n\u001b[1;32m   1175\u001b[0m \u001b[38;5;28;01mdef\u001b[39;00m \u001b[38;5;21mwrap\u001b[39m(\u001b[38;5;28mcls\u001b[39m):\n\u001b[0;32m-> 1176\u001b[0m     \u001b[38;5;28;01mreturn\u001b[39;00m \u001b[43m_process_class\u001b[49m\u001b[43m(\u001b[49m\u001b[38;5;28;43mcls\u001b[39;49m\u001b[43m,\u001b[49m\u001b[43m \u001b[49m\u001b[43minit\u001b[49m\u001b[43m,\u001b[49m\u001b[43m \u001b[49m\u001b[38;5;28;43mrepr\u001b[39;49m\u001b[43m,\u001b[49m\u001b[43m \u001b[49m\u001b[43meq\u001b[49m\u001b[43m,\u001b[49m\u001b[43m \u001b[49m\u001b[43morder\u001b[49m\u001b[43m,\u001b[49m\u001b[43m \u001b[49m\u001b[43munsafe_hash\u001b[49m\u001b[43m,\u001b[49m\n\u001b[1;32m   1177\u001b[0m \u001b[43m                          \u001b[49m\u001b[43mfrozen\u001b[49m\u001b[43m,\u001b[49m\u001b[43m \u001b[49m\u001b[43mmatch_args\u001b[49m\u001b[43m,\u001b[49m\u001b[43m \u001b[49m\u001b[43mkw_only\u001b[49m\u001b[43m,\u001b[49m\u001b[43m \u001b[49m\u001b[43mslots\u001b[49m\u001b[43m)\u001b[49m\n",
      "File \u001b[0;32m/opt/conda/lib/python3.10/dataclasses.py:956\u001b[0m, in \u001b[0;36m_process_class\u001b[0;34m(cls, init, repr, eq, order, unsafe_hash, frozen, match_args, kw_only, slots)\u001b[0m\n\u001b[1;32m    953\u001b[0m         kw_only \u001b[38;5;241m=\u001b[39m \u001b[38;5;28;01mTrue\u001b[39;00m\n\u001b[1;32m    954\u001b[0m     \u001b[38;5;28;01melse\u001b[39;00m:\n\u001b[1;32m    955\u001b[0m         \u001b[38;5;66;03m# Otherwise it's a field of some type.\u001b[39;00m\n\u001b[0;32m--> 956\u001b[0m         cls_fields\u001b[38;5;241m.\u001b[39mappend(\u001b[43m_get_field\u001b[49m\u001b[43m(\u001b[49m\u001b[38;5;28;43mcls\u001b[39;49m\u001b[43m,\u001b[49m\u001b[43m \u001b[49m\u001b[43mname\u001b[49m\u001b[43m,\u001b[49m\u001b[43m \u001b[49m\u001b[38;5;28;43mtype\u001b[39;49m\u001b[43m,\u001b[49m\u001b[43m \u001b[49m\u001b[43mkw_only\u001b[49m\u001b[43m)\u001b[49m)\n\u001b[1;32m    958\u001b[0m \u001b[38;5;28;01mfor\u001b[39;00m f \u001b[38;5;129;01min\u001b[39;00m cls_fields:\n\u001b[1;32m    959\u001b[0m     fields[f\u001b[38;5;241m.\u001b[39mname] \u001b[38;5;241m=\u001b[39m f\n",
      "File \u001b[0;32m/opt/conda/lib/python3.10/dataclasses.py:813\u001b[0m, in \u001b[0;36m_get_field\u001b[0;34m(cls, a_name, a_type, default_kw_only)\u001b[0m\n\u001b[1;32m    811\u001b[0m \u001b[38;5;66;03m# For real fields, disallow mutable defaults for known types.\u001b[39;00m\n\u001b[1;32m    812\u001b[0m \u001b[38;5;28;01mif\u001b[39;00m f\u001b[38;5;241m.\u001b[39m_field_type \u001b[38;5;129;01mis\u001b[39;00m _FIELD \u001b[38;5;129;01mand\u001b[39;00m \u001b[38;5;28misinstance\u001b[39m(f\u001b[38;5;241m.\u001b[39mdefault, (\u001b[38;5;28mlist\u001b[39m, \u001b[38;5;28mdict\u001b[39m, \u001b[38;5;28mset\u001b[39m)):\n\u001b[0;32m--> 813\u001b[0m     \u001b[38;5;28;01mraise\u001b[39;00m \u001b[38;5;167;01mValueError\u001b[39;00m(\u001b[38;5;124mf\u001b[39m\u001b[38;5;124m'\u001b[39m\u001b[38;5;124mmutable default \u001b[39m\u001b[38;5;132;01m{\u001b[39;00m\u001b[38;5;28mtype\u001b[39m(f\u001b[38;5;241m.\u001b[39mdefault)\u001b[38;5;132;01m}\u001b[39;00m\u001b[38;5;124m for field \u001b[39m\u001b[38;5;124m'\u001b[39m\n\u001b[1;32m    814\u001b[0m                      \u001b[38;5;124mf\u001b[39m\u001b[38;5;124m'\u001b[39m\u001b[38;5;132;01m{\u001b[39;00mf\u001b[38;5;241m.\u001b[39mname\u001b[38;5;132;01m}\u001b[39;00m\u001b[38;5;124m is not allowed: use default_factory\u001b[39m\u001b[38;5;124m'\u001b[39m)\n\u001b[1;32m    816\u001b[0m \u001b[38;5;28;01mreturn\u001b[39;00m f\n",
      "\u001b[0;31mValueError\u001b[0m: mutable default <class 'list'> for field guests is not allowed: use default_factory"
     ]
    }
   ],
   "source": [
    "@dataclass\n",
    "class ClubMember:\n",
    "    name: str\n",
    "    guests: list = []"
   ]
  },
  {
   "cell_type": "markdown",
   "id": "ea909e7d-d131-4ee6-9157-9a08fd7a7568",
   "metadata": {},
   "source": [
    "`ValueError`解释了该问题并给出了建议：使用`default_factory`："
   ]
  },
  {
   "cell_type": "code",
   "execution_count": 53,
   "id": "674f6916-fcb8-49c4-97bd-7c8ff67afddd",
   "metadata": {},
   "outputs": [],
   "source": [
    "from dataclasses import dataclass, field\n",
    "\n",
    "@dataclass\n",
    "class ClubMember:\n",
    "    name: str\n",
    "    guests: list = field(default_factory=list)"
   ]
  },
  {
   "cell_type": "markdown",
   "id": "882b09e5-8e01-4b5b-a8ed-923ebe9af8d7",
   "metadata": {},
   "source": [
    "`default_factory`参数让你提供一个函数、类或任何其他可调用对象，每当该数据类的实例创建时，会进行无参调用`default_factory`来构建一个默认值。这样，每个`ClubMember`的实例会有它自己的`list`，而不是所有的实例共享同一个来自类的`list`，这通常不是我们想要的，从而容易引起bug。\n",
    "\n",
    "还有一种新颖语法定义的`list`字段："
   ]
  },
  {
   "cell_type": "code",
   "execution_count": 60,
   "id": "544607f6-b010-473e-bf14-a2b9d8409700",
   "metadata": {},
   "outputs": [],
   "source": [
    "from dataclasses import dataclass, field\n",
    "\n",
    "@dataclass\n",
    "class ClubMember:\n",
    "    name: str\n",
    "    guests: list[str] = field(default_factory=list) # list[str] 意味着 str列表"
   ]
  },
  {
   "cell_type": "markdown",
   "id": "8d341e9c-b489-4f92-b31c-ce794a16b220",
   "metadata": {},
   "source": [
    "新语法`list[str]`是一个参数化的泛型：自Python3.9引入。我们会在第8章介绍泛型。现在只要知道上面的两种写法都是正确的。\n",
    "不同之处在`guests：list`意味着`guests`可以使任何类型的对象列表，而`guests: list[str]`说的是该`list`中的元素必须是`str`。\n",
    "\n",
    "`default_factory`可能是`field`函数中最常见的选项，但还是有其他选项，列表如下：\n",
    "\n",
    "|  选项   | 用途  | 默认值|\n",
    "|  ----  | ----  |----  |\n",
    "| default  | field的默认值 | `_MISSING_TYPE` |\n",
    "| default_factory  | 产生默认值的无参数函数 | `_MISSING_TYPE` | \n",
    "| init  | 把该字段添加到`__init__` | `True` | \n",
    "| repr  | 把该字段添加到`__repr__` | `True` | \n",
    "| compare  | 在比较方法`__eq__`、`__lt__`等中使用该字段 | `True` | \n",
    "| hash  | 在`__hash__`计算时考虑该字段 | `None` | \n",
    "| metadata  | 使用用户定义的数据映射，`@dataclass`忽略此选项 | `None` | \n",
    "\n",
    "\n",
    "`default`选项存在，因为`field`调用将取代字段注释中的默认值。\n",
    "如果你想创建一个默认值为`False`的`athlete`字段，并且从`__repr__`方法中省略该字段，可以这么写："
   ]
  },
  {
   "cell_type": "code",
   "execution_count": 56,
   "id": "a7259af7-d182-4084-8bb6-1912c0d5df50",
   "metadata": {},
   "outputs": [],
   "source": [
    "@dataclass\n",
    "class ClubMember:\n",
    "    name: str\n",
    "    guests: list = field(default_factory=list)\n",
    "    athlete: bool = field(default=False, repr=False)"
   ]
  },
  {
   "cell_type": "markdown",
   "id": "e90872b1-e197-46d1-8a5b-4fca2eebe352",
   "metadata": {},
   "source": [
    "## Post-init处理\n",
    "\n",
    "由`@data_class`生成的`__init__`方法只接受传递的参数，并为它们——如果缺少，则将它们的默认值——分配给实例字段的实例属性。\n",
    "但是你可能需要做更多的事情来初始化实例。如果是这样，你可以提供一个`__post_init__`方法。当该方法存在时，`@dataclass`将在生成的`__init__`中添加代码，在最后的时候调用`__post_init__`。\n",
    "\n",
    "\n",
    "`__post_init__`的常见用例是基于其他字段的验证和计算字段值。我们来看一个简单的例子。\n",
    "\n",
    "首先，让我们来看看一个名为`ClubMember`的`ClubMember`子类的预期行为，如文档测试所描述的那样:\n",
    "\n",
    "```py\n",
    "\"\"\"\n",
    "``HackerClubMember`` 对象接收一个可选的 ``handle`` 参数::\n",
    " >>> anna = HackerClubMember('Anna Ravenscroft', handle='AnnaRaven')\n",
    " >>> anna\n",
    " HackerClubMember(name='Anna Ravenscroft', guests=[], handle='AnnaRaven')\n",
    "如果 ``handle``参数 被省略, 那么它被设置为name的第一部分::\n",
    " >>> leo = HackerClubMember('Leo Rochael')\n",
    " >>> leo\n",
    " HackerClubMember(name='Leo Rochael', guests=[], handle='Leo')\n",
    "Members必须有唯一的handle. 下面的 ``leo2``不会被创建,\n",
    "因为它的 ``handle`` 将会是 'Leo', 已经由 ``leo`` 设定过了::\n",
    " >>> leo2 = HackerClubMember('Leo DaVinci')\n",
    " Traceback (most recent call last):\n",
    " ...\n",
    " ValueError: handle 'Leo' already exists.\n",
    "为了解决该问题, ``leo2`` 必须通过显示指定``handle``创建::\n",
    " >>> leo2 = HackerClubMember('Leo DaVinci', handle='Neo')\n",
    " >>> leo2\n",
    " HackerClubMember(name='Leo DaVinci', guests=[], handle='Neo')\n",
    "\"\"\"\n",
    "\n",
    "```\n",
    "\n",
    "注意我们必须将`handle`设为一个关键词参数，因为`HackerClubMember`从`ClubMember`中继承了`name`和`guests`，然后增加`handle`字段。"
   ]
  },
  {
   "cell_type": "code",
   "execution_count": 66,
   "id": "7b02cb98-7130-4199-bb6d-f9fe69fb1613",
   "metadata": {},
   "outputs": [],
   "source": [
    "# 保存为hackerclub.py\n",
    "@dataclass\n",
    "class HackerClubMember(ClubMember):  # 继承自ClubMember\n",
    "    all_handles = set()              # all_handles 是类属性 \n",
    "    handle: str = ''                 # handle 是str类型的实例字段，默认值为空字符串\n",
    "    def __post_init__(self):\n",
    "        cls = self.__class__         # 获取实例的class\n",
    "        if self.handle == '':        # 如果为空字符串\n",
    "            self.handle = self.name.split()[0] # 设置name的第一部分\n",
    "        if self.handle in cls.all_handles:    # 如果handle存在\n",
    "            msg = f'handle {self.handle!r} already exists.' #  则抛出异常\n",
    "            raise ValueError(msg)\n",
    "        cls.all_handles.add(self.handle)      # 增加新的handle到已存在的handle集合"
   ]
  },
  {
   "cell_type": "markdown",
   "id": "5bdcacbb-b3b4-47f9-a112-20c8a715c64b",
   "metadata": {},
   "source": [
    "为`HackerClubMember`生成的docstring显示了构造函数调用的字段顺序："
   ]
  },
  {
   "cell_type": "code",
   "execution_count": 62,
   "id": "7690ee6b-d48c-40cc-ab66-a2880c88751f",
   "metadata": {},
   "outputs": [
    {
     "data": {
      "text/plain": [
       "\"HackerClubMember(name: str, guests: list[str] = <factory>, handle: str = '')\""
      ]
     },
     "execution_count": 62,
     "metadata": {},
     "output_type": "execute_result"
    }
   ],
   "source": [
    "HackerClubMember.__doc__"
   ]
  },
  {
   "cell_type": "markdown",
   "id": "1b1d16b8-d83c-4509-b734-66a34c24fbf1",
   "metadata": {},
   "source": [
    "这里`<factory>`是一个简短的说法，说明一些可调用的值将为`guests`产生默认值。关键是：要提供一个`handle`但不提供`guests`，我们必须将`handle`作为关键字参数传递。\n",
    "\n",
    "\n",
    "## Typed类属性\n",
    "\n",
    "如果我们用`mypy`进行类型检查"
   ]
  },
  {
   "cell_type": "code",
   "execution_count": 65,
   "id": "78ce268d-7a44-49dd-bb2b-853690a33eb0",
   "metadata": {},
   "outputs": [
    {
     "name": "stdout",
     "output_type": "stream",
     "text": [
      "hackerclub.py:6: \u001b[1m\u001b[31merror:\u001b[m Need type annotation for \u001b[m\u001b[1m\"all_handles\"\u001b[m (hint: \u001b[m\u001b[1m\"all_handles: Set[<type>] = ...\"\u001b[m)\u001b[m\n",
      "\u001b[1m\u001b[31mFound 1 error in 1 file (checked 1 source file)\u001b[m\n"
     ]
    }
   ],
   "source": [
    "!mypy hackerclub.py"
   ]
  },
  {
   "cell_type": "markdown",
   "id": "ea5c1a05-5f15-43cc-914f-05fcbd66471d",
   "metadata": {},
   "source": [
    "不幸的是，Mypy提供的提示在`@dataclass`使用的上下文中没有帮助。首先，它建议使用`Set`，但我使用Python 3.9，所以我可以使用`Set`，并避免从输入中导入`Set`。更重要的是，如果我们添加一个类型注解，如`set[...]`，到`all_handles`，`@dataclass`会发现该注解并将`all_handles`作为实例字段。\n",
    "\n",
    "## 初始化非字段变量\n",
    "\n",
    "有时，你可能需要将非实例字段的参数传递给`__init__`。这类参数称为init-only变量。要声明这样的参数，`dataclasses`模块提供了伪类型`InitVar`，它使用与`typing.ClassVar`相同的输入语法。\n",
    "给出的示例是一个数据类，它从数据库初始化了一个字段，并且数据库对象必须传递给构造函数。\n",
    "\n",
    "```py\n",
    "@dataclass\n",
    "class C:\n",
    "    i: int\n",
    "    j: int = None\n",
    "    database: InitVar[DatabaseType] = None\n",
    "    \n",
    "    def __post_init__(self, database):\n",
    "        if self.j is None and database is not None:\n",
    "            self.j = database.lookup('j')\n",
    "\n",
    "c = C(10, database=my_database)\n",
    "```\n",
    "\n",
    "注意`database`属性是如何声明的。`InitVar`将阻止`@dataclass`将`database`作为一个常规字段来处理。它不会被设置为实例属性，`dataclasses.field`函数也不会列出它。但是，`database`将是生成的`__init__`将接受的参数之一，并且它也将被传递给`__post_init__`。如果编写该方法，则必须向方法签名添加相应的参数。\n",
    "\n",
    "## @dataclass例子：Dublin Core资源记录\n",
    "\n",
    "通常由`@dataclass`构建的类通常比我们所见的例子具有更多的字段。Dublin Core提供了更典型的例子：\n",
    "\n"
   ]
  },
  {
   "cell_type": "code",
   "execution_count": 69,
   "id": "41549374-bcae-47bf-b37d-d7e9006ba758",
   "metadata": {},
   "outputs": [],
   "source": [
    "from dataclasses import dataclass, field\n",
    "from typing import Optional\n",
    "from enum import Enum, auto\n",
    "from datetime import date\n",
    "\n",
    "class ResourceType(Enum):  # 枚举提供了类型安全的值\n",
    "    BOOK = auto()\n",
    "    EBOOK = auto()\n",
    "    VIDEO = auto()\n",
    "\n",
    "@dataclass\n",
    "class Resource:\n",
    "    \"\"\"Media resource description.\"\"\"                  \n",
    "    identifier: str                                   # identifier 是唯一必传参数\n",
    "    title: str = '<untitled>'                         # title作为第一个带默认值的字段，使得下面所有的字段都必须提供默认值\n",
    "    creators: list[str] = field(default_factory=list) \n",
    "    date: Optional[date] = None                       # date的值可以是datetime.date或None\n",
    "    type: ResourceType = ResourceType.BOOK            # 默认值为 ResourceType.BOOK \n",
    "    description: str = ''\n",
    "    language: str = ''\n",
    "    subjects: list[str] = field(default_factory=list)"
   ]
  },
  {
   "cell_type": "markdown",
   "id": "173f101e-6096-4b5c-873f-e0c3ea36d260",
   "metadata": {},
   "source": [
    "下面的代码显示了一个doctest来描述`Resource`记录是如何在代码中使用的："
   ]
  },
  {
   "cell_type": "code",
   "execution_count": 70,
   "id": "693f30ce-e87a-43fb-aa4a-eb2fbbe8e205",
   "metadata": {},
   "outputs": [
    {
     "data": {
      "text/plain": [
       "Resource(identifier='978-0-13-475759-9', title='Refactoring, 2nd Edition', creators=['Martin Fowler', 'Kent Beck'], date=datetime.date(2018, 11, 19), type=<ResourceType.BOOK: 1>, description='Improving the design of existing code', language='EN', subjects=['computer programming', 'OOP'])"
      ]
     },
     "execution_count": 70,
     "metadata": {},
     "output_type": "execute_result"
    }
   ],
   "source": [
    "description = 'Improving the design of existing code'\n",
    "book = Resource('978-0-13-475759-9', 'Refactoring, 2nd Edition', ['Martin Fowler', 'Kent Beck'], \n",
    "                date(2018, 11, 19),\n",
    "                ResourceType.BOOK, description, 'EN',\n",
    "                ['computer programming', 'OOP'])\n",
    "book"
   ]
  },
  {
   "cell_type": "markdown",
   "id": "06d8daf0-fb20-4c82-9e40-5837835d84e3",
   "metadata": {},
   "source": [
    "由`@dataclass`生成的`__repr__`看起来不错，但我们也可以让它可读性更好。我们期望的是这种格式：\n",
    "```py\n",
    "Resource(\n",
    " identifier = '978-0-13-475759-9',\n",
    " title = 'Refactoring, 2nd Edition',\n",
    " creators = ['Martin Fowler', 'Kent Beck'],\n",
    " date = datetime.date(2018, 11, 19),\n",
    " type = <ResourceType.BOOK: 1>,\n",
    " description = 'Improving the design of existing code',\n",
    " language = 'EN',\n",
    " subjects = ['computer programming', 'OOP'],\n",
    ")\n",
    "```\n",
    "\n",
    "下面实现上面所示的格式："
   ]
  },
  {
   "cell_type": "code",
   "execution_count": 74,
   "id": "f850f298-3759-4b9d-8c28-1e0c5f4a3c39",
   "metadata": {},
   "outputs": [],
   "source": [
    "from dataclasses import dataclass, field, fields\n",
    "from typing import Optional, TypedDict\n",
    "from enum import Enum, auto\n",
    "from datetime import date\n",
    "\n",
    "@dataclass\n",
    "class Resource:\n",
    "    \"\"\"Media resource description.\"\"\"                  \n",
    "    identifier: str                                   # identifier 是唯一必传参数\n",
    "    title: str = '<untitled>'                         # title作为第一个带默认值的字段，使得下面所有的字段都必须提供默认值\n",
    "    creators: list[str] = field(default_factory=list) \n",
    "    date: Optional[date] = None                       # date的值可以是datetime.date或None\n",
    "    type: ResourceType = ResourceType.BOOK            # 默认值为 ResourceType.BOOK \n",
    "    description: str = ''\n",
    "    language: str = ''\n",
    "    subjects: list[str] = field(default_factory=list)\n",
    "    \n",
    "    def __repr__(self):\n",
    "        cls = self.__class__ \n",
    "        cls_name = cls.__name__\n",
    "        indent = ' ' * 4\n",
    "        res = [f'{cls_name}(']                            # 开始构建输出字符串\n",
    "        for f in fields(cls):                             # 遍历类中所有字段\n",
    "            value = getattr(self, f.name)               \n",
    "            res.append(f'{indent}{f.name} = {value!r},')  \n",
    "            \n",
    "        res.append(')')                                   \n",
    "        return '\\n'.join(res)                             "
   ]
  },
  {
   "cell_type": "code",
   "execution_count": 75,
   "id": "fc0f3f84-05f5-470f-8f44-6d6ff7107fe6",
   "metadata": {},
   "outputs": [
    {
     "data": {
      "text/plain": [
       "Resource(\n",
       "    identifier = '978-0-13-475759-9',\n",
       "    title = 'Refactoring, 2nd Edition',\n",
       "    creators = ['Martin Fowler', 'Kent Beck'],\n",
       "    date = datetime.date(2018, 11, 19),\n",
       "    type = <ResourceType.BOOK: 1>,\n",
       "    description = 'Improving the design of existing code',\n",
       "    language = 'EN',\n",
       "    subjects = ['computer programming', 'OOP'],\n",
       ")"
      ]
     },
     "execution_count": 75,
     "metadata": {},
     "output_type": "execute_result"
    }
   ],
   "source": [
    "description = 'Improving the design of existing code'\n",
    "book = Resource('978-0-13-475759-9', 'Refactoring, 2nd Edition', ['Martin Fowler', 'Kent Beck'], \n",
    "                date(2018, 11, 19),\n",
    "                ResourceType.BOOK, description, 'EN',\n",
    "                ['computer programming', 'OOP'])\n",
    "book"
   ]
  },
  {
   "cell_type": "markdown",
   "id": "3fbc7dc3-1180-493d-adba-d3e164bbded7",
   "metadata": {},
   "source": [
    "# 数据类导致的代码异味\n",
    "\n",
    "无论你是通过自己编写所有代码来实现数据类，还是利用本章中描述的类构建器，都要注意它可能产生你设计中的问题。\n",
    "\n",
    "\n",
    "《重构：改进现有规范的设计》，第二版提供了一个“代码异味”的目录——代码中的模式可能表明了重构的需要。标题为“数据类”的条目以这样开头：\n",
    "    \n",
    "> 这些类都有字段，为字段获取和设置方法，而没有其他内容。这样的类是哑(dump)数据持有者，并且经常被其他类过于详细地操作。\n",
    "\n",
    "面向对象编程的主要思想是将行为和数据放在同一个代码单元中：一个类。如果一个类被广泛使用，但它自己没有重要的行为，那么处理它自己的实例的代码可能会在整个系统的方法和函数中分散（甚至重复）——这是维护麻烦的原因。\n",
    "\n",
    "考虑到这一点，在有一些常见的场景中，拥有一个很少或没有行为的数据类是有意义的。\n",
    "\n",
    "## 数据类作为脚手架\n",
    "\n",
    "\n",
    "在这个场景中，数据类是一个类的初始的、简单的实现。随着时间的推移，类应该得到自己的方法，而不是依赖于其他类的方法来操作它的实例。脚手架是临时的；最终，你的自定义类可能会完全独立于你用来启动它的构建器。\n",
    "\n",
    "Python也可用于快速解决问题和实验，然后就可以保留脚手架。\n",
    "\n",
    "## 数据类作为中间表示\n",
    "\n",
    "数据类可以用于构建即将导出为JSON或其他交换格式的记录，或者保存刚刚导入的数据，并跨越某些系统边界。Python的数据类构建器都提供了一个方法或函数来将实例转换为普通的dict，并且你总是可以调用dict作为用`**`扩展的关键字参数。这样的dict非常接近于JSON的记录。\n",
    "\n",
    "在这种情况下，数据类实例应该作为不可变的对象来处理——即使字段是可变的，但在它们处于此中间形式时，你也不应该更改它们。如果你这样做了，你就失去了将数据和行为紧密结合起来的关键好处。当导入/导出需要更改值时，你应该实现自己的构建器方法，而不是使用给定的`asdict`方法或标准构造函数。\n",
    "\n",
    "# 模式匹配类实例\n",
    "\n",
    "类模式被设计为按类型和可选的属性来匹配类实例。类模式的主题可以是任何类实例，而不仅仅是数据类的实例。\n",
    "\n",
    "类模式有三种变体：简单的、关键字和位置。我们将按这个顺序来研究它们。\n",
    "\n",
    "## 简单类模式\n",
    "\n",
    "我们已经看到了一个使用简单的类模式作为子模式的示例：\n",
    "```py\n",
    "case [str(name), _, _, (float(lat), float(lon))]:\n",
    "```\n",
    "该模式匹配一个四项序列，其中第一个项必须是str的一个实例，而最后一个项必须是一个具有两个float实例的2个元组。\n",
    "\n",
    "\n",
    "类模式的语法看起来像是一个构造函数调用。下面是匹配浮点值而不绑定变量的类模式：\n",
    "\n",
    "```py\n",
    "    match x:\n",
    "        case float():\n",
    "            do_something_with(x)\n",
    "```\n",
    "\n",
    "但可能会是你代码中的一个bug:\n",
    "```py\n",
    "    match x:\n",
    "        case float: # DANGER!!!\n",
    "            do_something_with(x)\n",
    "```\n",
    "\n",
    "\n",
    "在上面的例子中，`case float:`匹配任何主题(subject)，因为Python将`float`看成变量，然后绑定到该主题。\n",
    "\n",
    "`float(x)`的简单模式语法是一种特殊情况，它只适用于9种内置类型：\n",
    "```\n",
    "bytes dict float frozenset int list set str tuple\n",
    "```\n",
    "\n",
    "在这些类中，看起来像构造函数参数的变量——例如，`float(x)`中的`x`——被绑定到整个主题实例或匹配子模式的主题部分，如我们前面看到的序列模式中的`str(name)`所示:\n",
    "\n",
    "```\n",
    "case [str(name), _, _, (float(lat), float(lon))]:\n",
    "```\n",
    "\n",
    "如果该类不是这9个内置对象之一，那么类似参数的变量表示要与该类实例的属性进行匹配的模式。\n",
    "\n",
    "## 关键词类模式\n",
    "\n",
    "要了解如何使用关键字类模式，请考虑以下城市类和五个实例。\n",
    "\n"
   ]
  },
  {
   "cell_type": "code",
   "execution_count": 76,
   "id": "ed650356-0084-404c-b43d-0fb3103260b1",
   "metadata": {},
   "outputs": [],
   "source": [
    "import typing\n",
    "class City(typing.NamedTuple):\n",
    "    continent: str\n",
    "    name: str\n",
    "    country: str\n",
    "    \n",
    "cities = [\n",
    "    City('Asia', 'Tokyo', 'JP'),\n",
    "    City('Asia', 'Delhi', 'IN'),\n",
    "    City('North America', 'Mexico City', 'MX'),\n",
    "    City('North America', 'New York', 'US'),\n",
    "    City('South America', 'São Paulo', 'BR'),\n",
    "]"
   ]
  },
  {
   "cell_type": "markdown",
   "id": "b904f313-4d8b-4242-8049-4c5482372b07",
   "metadata": {},
   "source": [
    "根据这些定义，以下函数将返回一个亚洲城市的列表："
   ]
  },
  {
   "cell_type": "code",
   "execution_count": 78,
   "id": "fcc3c307-35c1-4274-8953-5cd2836e747e",
   "metadata": {},
   "outputs": [],
   "source": [
    "def match_asian_cities():\n",
    "    results = []\n",
    "    for city in cities:\n",
    "        match city:\n",
    "            case City(continent='Asia'):\n",
    "                results.append(city)\n",
    "                \n",
    "    return results"
   ]
  },
  {
   "cell_type": "markdown",
   "id": "27fab36a-53ac-4191-b6ad-59f9bc19f12d",
   "metadata": {},
   "source": [
    "模式`City(continent='Asia')`匹配`continent`值等于`'Asia'`的任何`City`实例，而不考虑其他属性的值。\n",
    "\n",
    "如果你想收集国家属性的值，你可以写："
   ]
  },
  {
   "cell_type": "code",
   "execution_count": 79,
   "id": "e7b8842d-286a-4b12-a732-f9354ad2b6f1",
   "metadata": {},
   "outputs": [],
   "source": [
    "def match_asian_countries():\n",
    "    results = []\n",
    "    for city in cities:\n",
    "        match city:\n",
    "            case City(continent='Asia', country=cc):\n",
    "                results.append(cc)\n",
    "    return results"
   ]
  },
  {
   "cell_type": "markdown",
   "id": "5b165b8b-1c42-4845-9445-383d9781cc30",
   "metadata": {},
   "source": [
    "模式` City(continent='Asia', country=cc)`匹配与上面相同的亚洲城市，但是现在`cc`变量被绑定到实例的`country`属性。如果模式变量也被称为国家，这也适用：\n",
    "```py\n",
    "match city:\n",
    "    case City(continent='Asia', country=country):\n",
    "        results.append(country)\n",
    "```\n",
    "\n",
    "关键字类模式非常具有可读性，并且可以用于任何具有公共实例属性的类，但它们有些冗长。\n",
    "\n",
    "位置类模式在某些情况下更方便，但是它们需要主题类的明确支持，我们将在下面看到。\n",
    "\n",
    "## 位置类模式\n",
    "\n",
    "下面的函数将返回一个使用位置类模式的亚洲城市列表："
   ]
  },
  {
   "cell_type": "code",
   "execution_count": 80,
   "id": "f976f0ce-3f5c-4cdf-a66c-791c6e0ae300",
   "metadata": {},
   "outputs": [],
   "source": [
    "def match_asian_cities_pos():\n",
    "    results = []\n",
    "    for city in cities:\n",
    "        match city:\n",
    "            case City('Asia'):\n",
    "                results.append(city)\n",
    "        return results"
   ]
  },
  {
   "cell_type": "markdown",
   "id": "7d030473-9959-4685-81cd-25052c635043",
   "metadata": {},
   "source": [
    "模式`City('Asia')`匹配第一个属性值为“Asia”的任何City实例，而不管其他属性的值如何。\n",
    "\n",
    "如果你想收集国家属性的值，你可以写："
   ]
  },
  {
   "cell_type": "code",
   "execution_count": 81,
   "id": "9e54e73b-d50e-4680-856b-6ff87accaa7c",
   "metadata": {},
   "outputs": [],
   "source": [
    "def match_asian_countries_pos():\n",
    "    results = []\n",
    "    for city in cities:\n",
    "        match city:\n",
    "            case City('Asia', _, country):\n",
    "                results.append(country)\n",
    "    return results"
   ]
  },
  {
   "cell_type": "markdown",
   "id": "9cf42110-24f9-4b35-b610-5a51d15206ff",
   "metadata": {},
   "source": [
    "模式城市`City('Asia', _, country)`匹配上面相同的亚洲城市，但是现在国家变量被绑定到实例的第三个属性。\n",
    "\n",
    "使City或任何类使用位置模式工作的是存在一个名为`__match_args__`的特殊类属性，这一章中的类构建器会自动创建它。这是城市类中的`__match_args__`的值："
   ]
  },
  {
   "cell_type": "code",
   "execution_count": 82,
   "id": "07d860de-b0e5-469a-b980-d2ff398d16e6",
   "metadata": {},
   "outputs": [
    {
     "data": {
      "text/plain": [
       "('continent', 'name', 'country')"
      ]
     },
     "execution_count": 82,
     "metadata": {},
     "output_type": "execute_result"
    }
   ],
   "source": [
    "City.__match_args__"
   ]
  },
  {
   "cell_type": "markdown",
   "id": "0bb9e3e8-5caf-4c29-ac66-6abae979e4ac",
   "metadata": {},
   "source": [
    "如你所见，`__match_args__`按照属性在位置模式中使用的顺序声明了属性的名称。"
   ]
  },
  {
   "cell_type": "code",
   "execution_count": null,
   "id": "d460f8cf-9159-4eed-b956-a9cf16314a6e",
   "metadata": {},
   "outputs": [],
   "source": []
  }
 ],
 "metadata": {
  "kernelspec": {
   "display_name": "Python 3 (ipykernel)",
   "language": "python",
   "name": "python3"
  },
  "language_info": {
   "codemirror_mode": {
    "name": "ipython",
    "version": 3
   },
   "file_extension": ".py",
   "mimetype": "text/x-python",
   "name": "python",
   "nbconvert_exporter": "python",
   "pygments_lexer": "ipython3",
   "version": "3.10.4"
  }
 },
 "nbformat": 4,
 "nbformat_minor": 5
}
