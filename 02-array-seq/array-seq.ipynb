{
 "cells": [
  {
   "cell_type": "code",
   "execution_count": 2,
   "id": "ac6a27e2-d28a-47e1-b63e-34d34c9592b8",
   "metadata": {},
   "outputs": [
    {
     "name": "stdout",
     "output_type": "stream",
     "text": [
      "[162, 163, 165, 8364, 164]\n",
      "[162, 163, 165, 8364, 164]\n"
     ]
    }
   ],
   "source": [
    "symbols = '$¢£¥€¤'\n",
    "beyond_ascii = [ord(s) for s in symbols if ord(s) > 127]\n",
    "print(beyond_ascii) # [162, 163, 165, 8364, 164]\n",
    "beyond_ascii = list(filter(lambda c: c > 127, map(ord , symbols)))\n",
    "print(beyond_ascii) # [162, 163, 165, 8364, 164]"
   ]
  },
  {
   "cell_type": "code",
   "execution_count": 3,
   "id": "829b5b0c-c218-4498-bb5a-b6e4b61572b0",
   "metadata": {},
   "outputs": [
    {
     "data": {
      "text/plain": [
       "[('black', 'S'),\n",
       " ('black', 'M'),\n",
       " ('black', 'L'),\n",
       " ('white', 'S'),\n",
       " ('white', 'M'),\n",
       " ('white', 'L')]"
      ]
     },
     "execution_count": 3,
     "metadata": {},
     "output_type": "execute_result"
    }
   ],
   "source": [
    "colors = ['black', 'white']\n",
    "sizes = ['S', 'M', 'L']\n",
    "# 生成元组的列表，首先根据color，然后根据size\n",
    "tshirts = [(color, size) for color in colors for size in sizes]\n",
    "tshirts"
   ]
  },
  {
   "cell_type": "code",
   "execution_count": 4,
   "id": "7fa744a5-c96d-441e-8cea-e1c32dfd6fbf",
   "metadata": {},
   "outputs": [
    {
     "name": "stdout",
     "output_type": "stream",
     "text": [
      "('black', 'S')\n",
      "('black', 'M')\n",
      "('black', 'L')\n",
      "('white', 'S')\n",
      "('white', 'M')\n",
      "('white', 'L')\n"
     ]
    }
   ],
   "source": [
    "for color in colors:\n",
    "    for size in sizes:\n",
    "        print((color, size))"
   ]
  },
  {
   "cell_type": "code",
   "execution_count": 6,
   "id": "e31b0edc-2044-471b-8c5b-43f2e21c334a",
   "metadata": {},
   "outputs": [
    {
     "data": {
      "text/plain": [
       "[('black', 'S'),\n",
       " ('white', 'S'),\n",
       " ('black', 'M'),\n",
       " ('white', 'M'),\n",
       " ('black', 'L'),\n",
       " ('white', 'L')]"
      ]
     },
     "execution_count": 6,
     "metadata": {},
     "output_type": "execute_result"
    }
   ],
   "source": [
    "tshirts = [(color, size) for size in sizes for color in colors]\n",
    "tshirts"
   ]
  },
  {
   "cell_type": "code",
   "execution_count": 8,
   "id": "e3b004c5-8d54-4b70-951f-b54e4ba81bc6",
   "metadata": {},
   "outputs": [
    {
     "name": "stdout",
     "output_type": "stream",
     "text": [
      "(36, 162, 163, 165, 8364, 164)\n",
      "array('I', [36, 162, 163, 165, 8364, 164])\n"
     ]
    }
   ],
   "source": [
    "symbols = '$¢£¥€¤'\n",
    "print( tuple(ord(symbol) for symbol in symbols) ) # (36, 162, 163, 165, 8364, 164)\n",
    "import array\n",
    "print( array.array('I',(ord(symbol) for symbol in symbols)) )  # array('I', [36, 162, 163, 165, 8364, 164])"
   ]
  },
  {
   "cell_type": "code",
   "execution_count": 10,
   "id": "c6e92974-d28b-4613-be57-a9a79d07ec6e",
   "metadata": {},
   "outputs": [
    {
     "name": "stdout",
     "output_type": "stream",
     "text": [
      "black S\n",
      "black M\n",
      "black L\n",
      "wihte S\n",
      "wihte M\n",
      "wihte L\n"
     ]
    }
   ],
   "source": [
    "colors = ['black', 'wihte']\n",
    "size = ['S', 'M', 'L']\n",
    "for tshirt in ('%s %s' % (c ,s) for c in colors for s in sizes) :\n",
    "    print(tshirt)"
   ]
  },
  {
   "cell_type": "code",
   "execution_count": 12,
   "id": "d799ecc1-6c90-403a-b3ab-b468e2976aba",
   "metadata": {},
   "outputs": [
    {
     "name": "stdout",
     "output_type": "stream",
     "text": [
      "BRA/CE342567\n",
      "ESP/XDA205856\n",
      "USA/31195855\n",
      "USA\n",
      "BRA\n",
      "ESP\n"
     ]
    }
   ],
   "source": [
    "# Los Angeles 的坐标 \n",
    "lax_coordinates = (33.9425, -118.408056) \n",
    "# 东京的相关信息：名称，年份，人口(千)，人口增长比，面积(平方千米)\n",
    "city, year, pop, chg, area = ('Tokyo', 2003, 32_450, 0.66, 8014) \n",
    "# 元组列表，格式：(城市编码,护照编码)\n",
    "traveler_ids = [('USA', '31195855'), ('BRA', 'CE342567'),  ('ESP', 'XDA205856')]\n",
    "# passport 代表每个列表元素：元组\n",
    "for passport in sorted(traveler_ids):\n",
    "    print( '%s/%s' % passport)\n",
    "# 这种写法，直接抽取元组中的元素，叫做拆包，这里我们不关心第二个元素，所以用_代替\n",
    "for country, _ in traveler_ids:\n",
    "    print(country)"
   ]
  },
  {
   "cell_type": "code",
   "execution_count": 13,
   "id": "fabe9c1b-3610-4110-8571-91cf823ad459",
   "metadata": {},
   "outputs": [
    {
     "name": "stdout",
     "output_type": "stream",
     "text": [
      "33.9425 -118.408056\n"
     ]
    }
   ],
   "source": [
    "lax_coordinates = (33.9425, -118.408056)\n",
    "latitude,longitude = lax_coordinates # 拆包\n",
    "print(latitude,longitude) # 33.9425 -118.408056\n"
   ]
  },
  {
   "cell_type": "code",
   "execution_count": null,
   "id": "9b4befae-7dd0-4dea-af73-127a6ed70a45",
   "metadata": {},
   "outputs": [],
   "source": [
    "b ,a = a , b"
   ]
  },
  {
   "cell_type": "code",
   "execution_count": 14,
   "id": "f7fdf2df-a77c-4ef0-b54c-71e529f9cb00",
   "metadata": {},
   "outputs": [
    {
     "data": {
      "text/plain": [
       "(2, 4)"
      ]
     },
     "execution_count": 14,
     "metadata": {},
     "output_type": "execute_result"
    }
   ],
   "source": [
    "divmod(20 , 8)"
   ]
  },
  {
   "cell_type": "code",
   "execution_count": 15,
   "id": "fe40a59c-dc34-45ff-b494-d1edd9a525ad",
   "metadata": {},
   "outputs": [
    {
     "data": {
      "text/plain": [
       "(2, 4)"
      ]
     },
     "execution_count": 15,
     "metadata": {},
     "output_type": "execute_result"
    }
   ],
   "source": [
    "t = (20, 8)\n",
    "divmod(*t)"
   ]
  },
  {
   "cell_type": "code",
   "execution_count": 16,
   "id": "b6b59f80-b603-4879-a7ae-be550ef8933f",
   "metadata": {},
   "outputs": [
    {
     "data": {
      "text/plain": [
       "(2, 4)"
      ]
     },
     "execution_count": 16,
     "metadata": {},
     "output_type": "execute_result"
    }
   ],
   "source": [
    "quotient, remainder = divmod(*t)\n",
    "quotient, remainder "
   ]
  },
  {
   "cell_type": "code",
   "execution_count": 17,
   "id": "2ff8236f-03f2-4746-96ae-d0c5cadf7090",
   "metadata": {},
   "outputs": [
    {
     "data": {
      "text/plain": [
       "'id_rsa.pub'"
      ]
     },
     "execution_count": 17,
     "metadata": {},
     "output_type": "execute_result"
    }
   ],
   "source": [
    "import os\n",
    "_, filename = os.path.split('~/.ssh/id_rsa.pub')\n",
    "filename"
   ]
  },
  {
   "cell_type": "code",
   "execution_count": 18,
   "id": "8012da89-fb54-4eb2-b96d-220052553888",
   "metadata": {},
   "outputs": [
    {
     "data": {
      "text/plain": [
       "(0, 1, [2, 3, 4])"
      ]
     },
     "execution_count": 18,
     "metadata": {},
     "output_type": "execute_result"
    }
   ],
   "source": [
    "a, b, *rest = range(5)\n",
    "a,b,rest"
   ]
  },
  {
   "cell_type": "code",
   "execution_count": 19,
   "id": "89ca5c1d-23d5-475a-b7cf-887fb7f874fc",
   "metadata": {},
   "outputs": [
    {
     "data": {
      "text/plain": [
       "(0, 1, [2])"
      ]
     },
     "execution_count": 19,
     "metadata": {},
     "output_type": "execute_result"
    }
   ],
   "source": [
    "a ,b, *rest = range(3)\n",
    "a, b, rest"
   ]
  },
  {
   "cell_type": "code",
   "execution_count": 20,
   "id": "7cb24f8f-159b-4da1-a91e-def8026f00a7",
   "metadata": {},
   "outputs": [
    {
     "data": {
      "text/plain": [
       "(0, 1, [])"
      ]
     },
     "execution_count": 20,
     "metadata": {},
     "output_type": "execute_result"
    }
   ],
   "source": [
    "a, b, *rest = range(2)\n",
    "a, b, rest"
   ]
  },
  {
   "cell_type": "code",
   "execution_count": 1,
   "id": "b4ad508d-094a-4bf7-9689-e3d7161ae11c",
   "metadata": {},
   "outputs": [
    {
     "data": {
      "text/plain": [
       "(0, [1, 2], 3, 4)"
      ]
     },
     "execution_count": 1,
     "metadata": {},
     "output_type": "execute_result"
    }
   ],
   "source": [
    "a, *body, c, d = range(5)\n",
    "a, body, c ,d"
   ]
  },
  {
   "cell_type": "code",
   "execution_count": 2,
   "id": "cef1687e-0260-4e56-9430-4590a4db9f48",
   "metadata": {},
   "outputs": [
    {
     "data": {
      "text/plain": [
       "(0, 1, 2, 3, 4)"
      ]
     },
     "execution_count": 2,
     "metadata": {},
     "output_type": "execute_result"
    }
   ],
   "source": [
    "*head, b, c, d = range(5)\n",
    "*head, b, c, d"
   ]
  },
  {
   "cell_type": "code",
   "execution_count": 3,
   "id": "e5edcb51-4a1d-4bcb-a405-e6e64d54e85c",
   "metadata": {},
   "outputs": [
    {
     "data": {
      "text/plain": [
       "([0, 1], 2, 3, 4)"
      ]
     },
     "execution_count": 3,
     "metadata": {},
     "output_type": "execute_result"
    }
   ],
   "source": [
    "head, b, c, d"
   ]
  },
  {
   "cell_type": "code",
   "execution_count": 6,
   "id": "f141c3b9-8d66-4a21-ae81-52b5b058e7ca",
   "metadata": {},
   "outputs": [
    {
     "name": "stdout",
     "output_type": "stream",
     "text": [
      "                |   lat.    |   long.  \n",
      "Mexico City     |   19.4333 |  -99.1333\n",
      "New York-Newark |   40.8086 |  -74.0204\n",
      "Sao Paulo       |  -23.5478 |  -46.6358\n"
     ]
    }
   ],
   "source": [
    "# 每个元组都有4个字段，最后一个字段本身是一个元组，代表经纬度\n",
    "metro_areas = [\n",
    "    ('Tokyo', 'JP', 36.933, (35.689722, 139.691667)),   \n",
    "    ('Delhi NCR', 'IN', 21.935, (28.613889, 77.208889)),\n",
    "    ('Mexico City', 'MX', 20.142, (19.433333, -99.133333)),\n",
    "    ('New York-Newark', 'US', 20.104, (40.808611, -74.020386)),\n",
    "    ('Sao Paulo', 'BR', 19.649, (-23.547778, -46.635833)),\n",
    "]\n",
    "def main():\n",
    "    print(f'{\"\":15} | {\"lat.\":^9} | {\"long.\":^9}')\n",
    "    # 通过将最后一个字段赋值给一个元组来拆包\n",
    "    for name, cc, pop, (latitude, longitude) in metro_areas:  \n",
    "        if longitude <= 0:\n",
    "            print(f'{name:15} | {latitude:9.4f} | {longitude:9.4f}')\n",
    "\n",
    "main()"
   ]
  },
  {
   "cell_type": "code",
   "execution_count": 7,
   "id": "f250b52b-0038-4088-a1c2-106d06990dc1",
   "metadata": {},
   "outputs": [
    {
     "name": "stdout",
     "output_type": "stream",
     "text": [
      "True\n",
      "False\n",
      "(10, 'alpha', [1, 2, 99])\n"
     ]
    }
   ],
   "source": [
    "a = (10, 'alpha', [1, 2])\n",
    "b = (10, 'alpha', [1, 2])\n",
    "print(a == b)\n",
    "b[-1].append(99)\n",
    "print(a==b)\n",
    "print(b)"
   ]
  },
  {
   "cell_type": "code",
   "execution_count": 9,
   "id": "06d2ec55-a282-4112-8ce9-b65e81d3a37d",
   "metadata": {},
   "outputs": [
    {
     "name": "stdout",
     "output_type": "stream",
     "text": [
      "True\n",
      "False\n"
     ]
    }
   ],
   "source": [
    "def fixed(o):\n",
    "    try:\n",
    "        hash(o)\n",
    "    except TypeError:\n",
    "        return False\n",
    "    return True\n",
    "\n",
    "tf = (10, 'alpha', (1, 2))\n",
    "tm = (10, 'alpha', [1, 2])\n",
    "print(fixed(tf))\n",
    "print(fixed(tm))"
   ]
  },
  {
   "cell_type": "code",
   "execution_count": 10,
   "id": "41726607-08b4-4e7c-a3c8-1cae3d176b41",
   "metadata": {},
   "outputs": [
    {
     "data": {
      "text/plain": [
       "[10, 20]"
      ]
     },
     "execution_count": 10,
     "metadata": {},
     "output_type": "execute_result"
    }
   ],
   "source": [
    "l =  [10, 20, 30, 40, 50, 60]\n",
    "l[:2] # 在下标2的位置分割"
   ]
  },
  {
   "cell_type": "code",
   "execution_count": 11,
   "id": "d1fbf3b8-bf55-454f-8d99-98a6e5abb5d6",
   "metadata": {},
   "outputs": [
    {
     "data": {
      "text/plain": [
       "[30, 40, 50, 60]"
      ]
     },
     "execution_count": 11,
     "metadata": {},
     "output_type": "execute_result"
    }
   ],
   "source": [
    "l[2:] # 这里是分割的右边"
   ]
  },
  {
   "cell_type": "code",
   "execution_count": 12,
   "id": "7dd90887-ee36-49c5-b16c-420a98a6da17",
   "metadata": {},
   "outputs": [
    {
     "data": {
      "text/plain": [
       "[10, 20, 30]"
      ]
     },
     "execution_count": 12,
     "metadata": {},
     "output_type": "execute_result"
    }
   ],
   "source": [
    "l[:3] # 在下标3的位置分割"
   ]
  },
  {
   "cell_type": "code",
   "execution_count": 13,
   "id": "5e551a43-415a-459f-a8ad-98f1cb2df746",
   "metadata": {},
   "outputs": [
    {
     "data": {
      "text/plain": [
       "[40, 50, 60]"
      ]
     },
     "execution_count": 13,
     "metadata": {},
     "output_type": "execute_result"
    }
   ],
   "source": [
    "l[3:]"
   ]
  },
  {
   "cell_type": "code",
   "execution_count": 14,
   "id": "ca995566-b24f-4624-b2d1-7aec8d67aa8f",
   "metadata": {},
   "outputs": [
    {
     "data": {
      "text/plain": [
       "'gys'"
      ]
     },
     "execution_count": 14,
     "metadata": {},
     "output_type": "execute_result"
    }
   ],
   "source": [
    "s = 'greyfoss'\n",
    "s[::3]"
   ]
  },
  {
   "cell_type": "code",
   "execution_count": 15,
   "id": "88e03949-cb8b-484a-9a99-b93f3f9b6406",
   "metadata": {},
   "outputs": [
    {
     "data": {
      "text/plain": [
       "'ssofyerg'"
      ]
     },
     "execution_count": 15,
     "metadata": {},
     "output_type": "execute_result"
    }
   ],
   "source": [
    "s[::-1]"
   ]
  },
  {
   "cell_type": "code",
   "execution_count": 16,
   "id": "48c41199-43c3-46e8-adb0-ce252d96a0a7",
   "metadata": {},
   "outputs": [
    {
     "data": {
      "text/plain": [
       "'soyr'"
      ]
     },
     "execution_count": 16,
     "metadata": {},
     "output_type": "execute_result"
    }
   ],
   "source": [
    "s[::-2] # 可以看成是，先逆序，再按照间隔2取值"
   ]
  },
  {
   "cell_type": "code",
   "execution_count": 21,
   "id": "a36ebc13-f8f0-46ce-bbc8-71d5c46aa586",
   "metadata": {},
   "outputs": [
    {
     "name": "stdout",
     "output_type": "stream",
     "text": [
      "    $17.50   Pimoroni PiBrella                 \n",
      "     $4.95   6mm Tactile Switch x20            \n",
      "    $28.00   Panavise Jr. - PV-201             \n",
      "    $34.95   PiTFT Mini Kit 320x240            \n",
      " \n"
     ]
    }
   ],
   "source": [
    "invoice = \"\"\"\n",
    "... 0.....6.................................40........52...55........\n",
    "... 1909  Pimoroni PiBrella                     $17.50    3    $52.50\n",
    "... 1489  6mm Tactile Switch x20                 $4.95    2     $9.90\n",
    "... 1510  Panavise Jr. - PV-201                 $28.00    1    $28.00\n",
    "... 1601  PiTFT Mini Kit 320x240                $34.95    1    $34.95\n",
    "... \"\"\"\n",
    "SKU = slice(0,6)\n",
    "DESCRIPTION = slice(6, 40)\n",
    "UNIT_PRICE = slice(40, 52)\n",
    "QUANTITY =  slice(52, 55)\n",
    "ITEM_TOTAL = slice(55, None)\n",
    "line_items = invoice.split('\\n')[2:] # 去掉不相关的前两行信息\n",
    "for item in line_items:\n",
    "    print(item[UNIT_PRICE], item[DESCRIPTION])"
   ]
  },
  {
   "cell_type": "code",
   "execution_count": 22,
   "id": "5d7b7941-3b63-4e7d-99c4-6d689cd07cb8",
   "metadata": {},
   "outputs": [
    {
     "data": {
      "text/plain": [
       "['',\n",
       " '0.....6.................................40........52...55........',\n",
       " '1909  Pimoroni PiBrella                     $17.50    3    $52.50',\n",
       " '1489  6mm Tactile Switch x20                 $4.95    2     $9.90',\n",
       " '1510  Panavise Jr. - PV-201                 $28.00    1    $28.00',\n",
       " '1601  PiTFT Mini Kit 320x240                $34.95    1    $34.95',\n",
       " '']"
      ]
     },
     "execution_count": 22,
     "metadata": {},
     "output_type": "execute_result"
    }
   ],
   "source": [
    "invoice.split('\\n')"
   ]
  },
  {
   "cell_type": "code",
   "execution_count": 29,
   "id": "1a222b87-443c-4f7f-9d37-9c8edc428193",
   "metadata": {},
   "outputs": [
    {
     "data": {
      "text/plain": [
       "[0, 1, 2, 3, 4, 5, 6, 7, 8, 9]"
      ]
     },
     "execution_count": 29,
     "metadata": {},
     "output_type": "execute_result"
    }
   ],
   "source": [
    "l = list(range(10))\n",
    "l"
   ]
  },
  {
   "cell_type": "code",
   "execution_count": 30,
   "id": "05706267-740d-47ee-a8cc-190cd4893bf9",
   "metadata": {},
   "outputs": [
    {
     "data": {
      "text/plain": [
       "[0, 1, 20, 30, 5, 6, 7, 8, 9]"
      ]
     },
     "execution_count": 30,
     "metadata": {},
     "output_type": "execute_result"
    }
   ],
   "source": [
    "l[2:5] = [20,30] # 原地移除了4，替换了2，3\n",
    "l"
   ]
  },
  {
   "cell_type": "code",
   "execution_count": 31,
   "id": "ab25aca4-6e24-4f7a-8593-1ee4d0d97b10",
   "metadata": {},
   "outputs": [
    {
     "data": {
      "text/plain": [
       "[0, 1, 20, 30, 5, 8, 9]"
      ]
     },
     "execution_count": 31,
     "metadata": {},
     "output_type": "execute_result"
    }
   ],
   "source": [
    "del l[5:7] # 7-5=2，因此只会删除2个元素，从第5个元素开始\n",
    "l"
   ]
  },
  {
   "cell_type": "code",
   "execution_count": 32,
   "id": "4e6411e7-2553-4887-8fab-fe8fe287da41",
   "metadata": {},
   "outputs": [
    {
     "data": {
      "text/plain": [
       "[0, 1, 20, 11, 5, 22, 9]"
      ]
     },
     "execution_count": 32,
     "metadata": {},
     "output_type": "execute_result"
    }
   ],
   "source": [
    "l[3::2] = [11,22] #从第3个元素开始，每2个元素替换一次，依次替换右边的元素\n",
    "l # 30替换成11，8替换成22"
   ]
  },
  {
   "cell_type": "code",
   "execution_count": 33,
   "id": "a0d95660-8ded-459d-88e7-0ecc3c23db14",
   "metadata": {},
   "outputs": [
    {
     "ename": "TypeError",
     "evalue": "can only assign an iterable",
     "output_type": "error",
     "traceback": [
      "\u001b[0;31m---------------------------------------------------------------------------\u001b[0m",
      "\u001b[0;31mTypeError\u001b[0m                                 Traceback (most recent call last)",
      "\u001b[0;32m<ipython-input-33-da8b10461280>\u001b[0m in \u001b[0;36m<module>\u001b[0;34m\u001b[0m\n\u001b[0;32m----> 1\u001b[0;31m \u001b[0ml\u001b[0m\u001b[0;34m[\u001b[0m\u001b[0;36m2\u001b[0m\u001b[0;34m:\u001b[0m\u001b[0;36m5\u001b[0m\u001b[0;34m]\u001b[0m \u001b[0;34m=\u001b[0m \u001b[0;36m100\u001b[0m\u001b[0;34m\u001b[0m\u001b[0;34m\u001b[0m\u001b[0m\n\u001b[0m",
      "\u001b[0;31mTypeError\u001b[0m: can only assign an iterable"
     ]
    }
   ],
   "source": [
    "l[2:5] = 100 #右边只能是可迭代对象"
   ]
  },
  {
   "cell_type": "code",
   "execution_count": 34,
   "id": "989ceda8-b3c1-4883-9c3e-232000610696",
   "metadata": {},
   "outputs": [
    {
     "data": {
      "text/plain": [
       "[0, 1, 100, 22, 9]"
      ]
     },
     "execution_count": 34,
     "metadata": {},
     "output_type": "execute_result"
    }
   ],
   "source": [
    "l[2:5] = [100]\n",
    "l"
   ]
  },
  {
   "cell_type": "code",
   "execution_count": null,
   "id": "233c5ce6-6918-4f6b-8eca-135fb0c27dc7",
   "metadata": {},
   "outputs": [],
   "source": []
  }
 ],
 "metadata": {
  "kernelspec": {
   "display_name": "Python 3",
   "language": "python",
   "name": "python3"
  },
  "language_info": {
   "codemirror_mode": {
    "name": "ipython",
    "version": 3
   },
   "file_extension": ".py",
   "mimetype": "text/x-python",
   "name": "python",
   "nbconvert_exporter": "python",
   "pygments_lexer": "ipython3",
   "version": "3.8.8"
  }
 },
 "nbformat": 4,
 "nbformat_minor": 5
}
