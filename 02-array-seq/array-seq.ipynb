{
 "cells": [
  {
   "cell_type": "code",
   "execution_count": 2,
   "id": "ac6a27e2-d28a-47e1-b63e-34d34c9592b8",
   "metadata": {},
   "outputs": [
    {
     "name": "stdout",
     "output_type": "stream",
     "text": [
      "[162, 163, 165, 8364, 164]\n",
      "[162, 163, 165, 8364, 164]\n"
     ]
    }
   ],
   "source": [
    "symbols = '$¢£¥€¤'\n",
    "beyond_ascii = [ord(s) for s in symbols if ord(s) > 127]\n",
    "print(beyond_ascii) # [162, 163, 165, 8364, 164]\n",
    "beyond_ascii = list(filter(lambda c: c > 127, map(ord , symbols)))\n",
    "print(beyond_ascii) # [162, 163, 165, 8364, 164]"
   ]
  },
  {
   "cell_type": "code",
   "execution_count": 3,
   "id": "829b5b0c-c218-4498-bb5a-b6e4b61572b0",
   "metadata": {},
   "outputs": [
    {
     "data": {
      "text/plain": [
       "[('black', 'S'),\n",
       " ('black', 'M'),\n",
       " ('black', 'L'),\n",
       " ('white', 'S'),\n",
       " ('white', 'M'),\n",
       " ('white', 'L')]"
      ]
     },
     "execution_count": 3,
     "metadata": {},
     "output_type": "execute_result"
    }
   ],
   "source": [
    "colors = ['black', 'white']\n",
    "sizes = ['S', 'M', 'L']\n",
    "# 生成元组的列表，首先根据color，然后根据size\n",
    "tshirts = [(color, size) for color in colors for size in sizes]\n",
    "tshirts"
   ]
  },
  {
   "cell_type": "code",
   "execution_count": 4,
   "id": "7fa744a5-c96d-441e-8cea-e1c32dfd6fbf",
   "metadata": {},
   "outputs": [
    {
     "name": "stdout",
     "output_type": "stream",
     "text": [
      "('black', 'S')\n",
      "('black', 'M')\n",
      "('black', 'L')\n",
      "('white', 'S')\n",
      "('white', 'M')\n",
      "('white', 'L')\n"
     ]
    }
   ],
   "source": [
    "for color in colors:\n",
    "    for size in sizes:\n",
    "        print((color, size))"
   ]
  },
  {
   "cell_type": "code",
   "execution_count": 6,
   "id": "e31b0edc-2044-471b-8c5b-43f2e21c334a",
   "metadata": {},
   "outputs": [
    {
     "data": {
      "text/plain": [
       "[('black', 'S'),\n",
       " ('white', 'S'),\n",
       " ('black', 'M'),\n",
       " ('white', 'M'),\n",
       " ('black', 'L'),\n",
       " ('white', 'L')]"
      ]
     },
     "execution_count": 6,
     "metadata": {},
     "output_type": "execute_result"
    }
   ],
   "source": [
    "tshirts = [(color, size) for size in sizes for color in colors]\n",
    "tshirts"
   ]
  },
  {
   "cell_type": "code",
   "execution_count": 8,
   "id": "e3b004c5-8d54-4b70-951f-b54e4ba81bc6",
   "metadata": {},
   "outputs": [
    {
     "name": "stdout",
     "output_type": "stream",
     "text": [
      "(36, 162, 163, 165, 8364, 164)\n",
      "array('I', [36, 162, 163, 165, 8364, 164])\n"
     ]
    }
   ],
   "source": [
    "symbols = '$¢£¥€¤'\n",
    "print( tuple(ord(symbol) for symbol in symbols) ) # (36, 162, 163, 165, 8364, 164)\n",
    "import array\n",
    "print( array.array('I',(ord(symbol) for symbol in symbols)) )  # array('I', [36, 162, 163, 165, 8364, 164])"
   ]
  },
  {
   "cell_type": "code",
   "execution_count": 10,
   "id": "c6e92974-d28b-4613-be57-a9a79d07ec6e",
   "metadata": {},
   "outputs": [
    {
     "name": "stdout",
     "output_type": "stream",
     "text": [
      "black S\n",
      "black M\n",
      "black L\n",
      "wihte S\n",
      "wihte M\n",
      "wihte L\n"
     ]
    }
   ],
   "source": [
    "colors = ['black', 'wihte']\n",
    "size = ['S', 'M', 'L']\n",
    "for tshirt in ('%s %s' % (c ,s) for c in colors for s in sizes) :\n",
    "    print(tshirt)"
   ]
  },
  {
   "cell_type": "code",
   "execution_count": 12,
   "id": "d799ecc1-6c90-403a-b3ab-b468e2976aba",
   "metadata": {},
   "outputs": [
    {
     "name": "stdout",
     "output_type": "stream",
     "text": [
      "BRA/CE342567\n",
      "ESP/XDA205856\n",
      "USA/31195855\n",
      "USA\n",
      "BRA\n",
      "ESP\n"
     ]
    }
   ],
   "source": [
    "# Los Angeles 的坐标 \n",
    "lax_coordinates = (33.9425, -118.408056) \n",
    "# 东京的相关信息：名称，年份，人口(千)，人口增长比，面积(平方千米)\n",
    "city, year, pop, chg, area = ('Tokyo', 2003, 32_450, 0.66, 8014) \n",
    "# 元组列表，格式：(城市编码,护照编码)\n",
    "traveler_ids = [('USA', '31195855'), ('BRA', 'CE342567'),  ('ESP', 'XDA205856')]\n",
    "# passport 代表每个列表元素：元组\n",
    "for passport in sorted(traveler_ids):\n",
    "    print( '%s/%s' % passport)\n",
    "# 这种写法，直接抽取元组中的元素，叫做拆包，这里我们不关心第二个元素，所以用_代替\n",
    "for country, _ in traveler_ids:\n",
    "    print(country)"
   ]
  },
  {
   "cell_type": "code",
   "execution_count": 13,
   "id": "fabe9c1b-3610-4110-8571-91cf823ad459",
   "metadata": {},
   "outputs": [
    {
     "name": "stdout",
     "output_type": "stream",
     "text": [
      "33.9425 -118.408056\n"
     ]
    }
   ],
   "source": [
    "lax_coordinates = (33.9425, -118.408056)\n",
    "latitude,longitude = lax_coordinates # 拆包\n",
    "print(latitude,longitude) # 33.9425 -118.408056\n"
   ]
  },
  {
   "cell_type": "code",
   "execution_count": null,
   "id": "9b4befae-7dd0-4dea-af73-127a6ed70a45",
   "metadata": {},
   "outputs": [],
   "source": [
    "b ,a = a , b"
   ]
  },
  {
   "cell_type": "code",
   "execution_count": 14,
   "id": "f7fdf2df-a77c-4ef0-b54c-71e529f9cb00",
   "metadata": {},
   "outputs": [
    {
     "data": {
      "text/plain": [
       "(2, 4)"
      ]
     },
     "execution_count": 14,
     "metadata": {},
     "output_type": "execute_result"
    }
   ],
   "source": [
    "divmod(20 , 8)"
   ]
  },
  {
   "cell_type": "code",
   "execution_count": 15,
   "id": "fe40a59c-dc34-45ff-b494-d1edd9a525ad",
   "metadata": {},
   "outputs": [
    {
     "data": {
      "text/plain": [
       "(2, 4)"
      ]
     },
     "execution_count": 15,
     "metadata": {},
     "output_type": "execute_result"
    }
   ],
   "source": [
    "t = (20, 8)\n",
    "divmod(*t)"
   ]
  },
  {
   "cell_type": "code",
   "execution_count": 16,
   "id": "b6b59f80-b603-4879-a7ae-be550ef8933f",
   "metadata": {},
   "outputs": [
    {
     "data": {
      "text/plain": [
       "(2, 4)"
      ]
     },
     "execution_count": 16,
     "metadata": {},
     "output_type": "execute_result"
    }
   ],
   "source": [
    "quotient, remainder = divmod(*t)\n",
    "quotient, remainder "
   ]
  },
  {
   "cell_type": "code",
   "execution_count": 17,
   "id": "2ff8236f-03f2-4746-96ae-d0c5cadf7090",
   "metadata": {},
   "outputs": [
    {
     "data": {
      "text/plain": [
       "'id_rsa.pub'"
      ]
     },
     "execution_count": 17,
     "metadata": {},
     "output_type": "execute_result"
    }
   ],
   "source": [
    "import os\n",
    "_, filename = os.path.split('~/.ssh/id_rsa.pub')\n",
    "filename"
   ]
  },
  {
   "cell_type": "code",
   "execution_count": 18,
   "id": "8012da89-fb54-4eb2-b96d-220052553888",
   "metadata": {},
   "outputs": [
    {
     "data": {
      "text/plain": [
       "(0, 1, [2, 3, 4])"
      ]
     },
     "execution_count": 18,
     "metadata": {},
     "output_type": "execute_result"
    }
   ],
   "source": [
    "a, b, *rest = range(5)\n",
    "a,b,rest"
   ]
  },
  {
   "cell_type": "code",
   "execution_count": 19,
   "id": "89ca5c1d-23d5-475a-b7cf-887fb7f874fc",
   "metadata": {},
   "outputs": [
    {
     "data": {
      "text/plain": [
       "(0, 1, [2])"
      ]
     },
     "execution_count": 19,
     "metadata": {},
     "output_type": "execute_result"
    }
   ],
   "source": [
    "a ,b, *rest = range(3)\n",
    "a, b, rest"
   ]
  },
  {
   "cell_type": "code",
   "execution_count": 20,
   "id": "7cb24f8f-159b-4da1-a91e-def8026f00a7",
   "metadata": {},
   "outputs": [
    {
     "data": {
      "text/plain": [
       "(0, 1, [])"
      ]
     },
     "execution_count": 20,
     "metadata": {},
     "output_type": "execute_result"
    }
   ],
   "source": [
    "a, b, *rest = range(2)\n",
    "a, b, rest"
   ]
  },
  {
   "cell_type": "code",
   "execution_count": null,
   "id": "b4ad508d-094a-4bf7-9689-e3d7161ae11c",
   "metadata": {},
   "outputs": [],
   "source": []
  }
 ],
 "metadata": {
  "kernelspec": {
   "display_name": "Python 3",
   "language": "python",
   "name": "python3"
  },
  "language_info": {
   "codemirror_mode": {
    "name": "ipython",
    "version": 3
   },
   "file_extension": ".py",
   "mimetype": "text/x-python",
   "name": "python",
   "nbconvert_exporter": "python",
   "pygments_lexer": "ipython3",
   "version": "3.8.8"
  }
 },
 "nbformat": 4,
 "nbformat_minor": 5
}
