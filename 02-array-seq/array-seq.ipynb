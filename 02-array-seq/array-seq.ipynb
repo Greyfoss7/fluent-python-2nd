{
 "cells": [
  {
   "cell_type": "code",
   "execution_count": 2,
   "id": "ac6a27e2-d28a-47e1-b63e-34d34c9592b8",
   "metadata": {},
   "outputs": [
    {
     "name": "stdout",
     "output_type": "stream",
     "text": [
      "[162, 163, 165, 8364, 164]\n",
      "[162, 163, 165, 8364, 164]\n"
     ]
    }
   ],
   "source": [
    "symbols = '$¢£¥€¤'\n",
    "beyond_ascii = [ord(s) for s in symbols if ord(s) > 127]\n",
    "print(beyond_ascii) # [162, 163, 165, 8364, 164]\n",
    "beyond_ascii = list(filter(lambda c: c > 127, map(ord , symbols)))\n",
    "print(beyond_ascii) # [162, 163, 165, 8364, 164]"
   ]
  },
  {
   "cell_type": "code",
   "execution_count": 3,
   "id": "829b5b0c-c218-4498-bb5a-b6e4b61572b0",
   "metadata": {},
   "outputs": [
    {
     "data": {
      "text/plain": [
       "[('black', 'S'),\n",
       " ('black', 'M'),\n",
       " ('black', 'L'),\n",
       " ('white', 'S'),\n",
       " ('white', 'M'),\n",
       " ('white', 'L')]"
      ]
     },
     "execution_count": 3,
     "metadata": {},
     "output_type": "execute_result"
    }
   ],
   "source": [
    "colors = ['black', 'white']\n",
    "sizes = ['S', 'M', 'L']\n",
    "# 生成元组的列表，首先根据color，然后根据size\n",
    "tshirts = [(color, size) for color in colors for size in sizes]\n",
    "tshirts"
   ]
  },
  {
   "cell_type": "code",
   "execution_count": 4,
   "id": "7fa744a5-c96d-441e-8cea-e1c32dfd6fbf",
   "metadata": {},
   "outputs": [
    {
     "name": "stdout",
     "output_type": "stream",
     "text": [
      "('black', 'S')\n",
      "('black', 'M')\n",
      "('black', 'L')\n",
      "('white', 'S')\n",
      "('white', 'M')\n",
      "('white', 'L')\n"
     ]
    }
   ],
   "source": [
    "for color in colors:\n",
    "    for size in sizes:\n",
    "        print((color, size))"
   ]
  },
  {
   "cell_type": "code",
   "execution_count": 6,
   "id": "e31b0edc-2044-471b-8c5b-43f2e21c334a",
   "metadata": {},
   "outputs": [
    {
     "data": {
      "text/plain": [
       "[('black', 'S'),\n",
       " ('white', 'S'),\n",
       " ('black', 'M'),\n",
       " ('white', 'M'),\n",
       " ('black', 'L'),\n",
       " ('white', 'L')]"
      ]
     },
     "execution_count": 6,
     "metadata": {},
     "output_type": "execute_result"
    }
   ],
   "source": [
    "tshirts = [(color, size) for size in sizes for color in colors]\n",
    "tshirts"
   ]
  },
  {
   "cell_type": "code",
   "execution_count": 8,
   "id": "e3b004c5-8d54-4b70-951f-b54e4ba81bc6",
   "metadata": {},
   "outputs": [
    {
     "name": "stdout",
     "output_type": "stream",
     "text": [
      "(36, 162, 163, 165, 8364, 164)\n",
      "array('I', [36, 162, 163, 165, 8364, 164])\n"
     ]
    }
   ],
   "source": [
    "symbols = '$¢£¥€¤'\n",
    "print( tuple(ord(symbol) for symbol in symbols) ) # (36, 162, 163, 165, 8364, 164)\n",
    "import array\n",
    "print( array.array('I',(ord(symbol) for symbol in symbols)) )  # array('I', [36, 162, 163, 165, 8364, 164])"
   ]
  },
  {
   "cell_type": "code",
   "execution_count": 10,
   "id": "c6e92974-d28b-4613-be57-a9a79d07ec6e",
   "metadata": {},
   "outputs": [
    {
     "name": "stdout",
     "output_type": "stream",
     "text": [
      "black S\n",
      "black M\n",
      "black L\n",
      "wihte S\n",
      "wihte M\n",
      "wihte L\n"
     ]
    }
   ],
   "source": [
    "colors = ['black', 'wihte']\n",
    "size = ['S', 'M', 'L']\n",
    "for tshirt in ('%s %s' % (c ,s) for c in colors for s in sizes) :\n",
    "    print(tshirt)"
   ]
  },
  {
   "cell_type": "code",
   "execution_count": 12,
   "id": "d799ecc1-6c90-403a-b3ab-b468e2976aba",
   "metadata": {},
   "outputs": [
    {
     "name": "stdout",
     "output_type": "stream",
     "text": [
      "BRA/CE342567\n",
      "ESP/XDA205856\n",
      "USA/31195855\n",
      "USA\n",
      "BRA\n",
      "ESP\n"
     ]
    }
   ],
   "source": [
    "# Los Angeles 的坐标 \n",
    "lax_coordinates = (33.9425, -118.408056) \n",
    "# 东京的相关信息：名称，年份，人口(千)，人口增长比，面积(平方千米)\n",
    "city, year, pop, chg, area = ('Tokyo', 2003, 32_450, 0.66, 8014) \n",
    "# 元组列表，格式：(城市编码,护照编码)\n",
    "traveler_ids = [('USA', '31195855'), ('BRA', 'CE342567'),  ('ESP', 'XDA205856')]\n",
    "# passport 代表每个列表元素：元组\n",
    "for passport in sorted(traveler_ids):\n",
    "    print( '%s/%s' % passport)\n",
    "# 这种写法，直接抽取元组中的元素，叫做拆包，这里我们不关心第二个元素，所以用_代替\n",
    "for country, _ in traveler_ids:\n",
    "    print(country)"
   ]
  },
  {
   "cell_type": "code",
   "execution_count": 13,
   "id": "fabe9c1b-3610-4110-8571-91cf823ad459",
   "metadata": {},
   "outputs": [
    {
     "name": "stdout",
     "output_type": "stream",
     "text": [
      "33.9425 -118.408056\n"
     ]
    }
   ],
   "source": [
    "lax_coordinates = (33.9425, -118.408056)\n",
    "latitude,longitude = lax_coordinates # 拆包\n",
    "print(latitude,longitude) # 33.9425 -118.408056\n"
   ]
  },
  {
   "cell_type": "code",
   "execution_count": null,
   "id": "9b4befae-7dd0-4dea-af73-127a6ed70a45",
   "metadata": {},
   "outputs": [],
   "source": [
    "b ,a = a , b"
   ]
  },
  {
   "cell_type": "code",
   "execution_count": 14,
   "id": "f7fdf2df-a77c-4ef0-b54c-71e529f9cb00",
   "metadata": {},
   "outputs": [
    {
     "data": {
      "text/plain": [
       "(2, 4)"
      ]
     },
     "execution_count": 14,
     "metadata": {},
     "output_type": "execute_result"
    }
   ],
   "source": [
    "divmod(20 , 8)"
   ]
  },
  {
   "cell_type": "code",
   "execution_count": 15,
   "id": "fe40a59c-dc34-45ff-b494-d1edd9a525ad",
   "metadata": {},
   "outputs": [
    {
     "data": {
      "text/plain": [
       "(2, 4)"
      ]
     },
     "execution_count": 15,
     "metadata": {},
     "output_type": "execute_result"
    }
   ],
   "source": [
    "t = (20, 8)\n",
    "divmod(*t)"
   ]
  },
  {
   "cell_type": "code",
   "execution_count": 16,
   "id": "b6b59f80-b603-4879-a7ae-be550ef8933f",
   "metadata": {},
   "outputs": [
    {
     "data": {
      "text/plain": [
       "(2, 4)"
      ]
     },
     "execution_count": 16,
     "metadata": {},
     "output_type": "execute_result"
    }
   ],
   "source": [
    "quotient, remainder = divmod(*t)\n",
    "quotient, remainder "
   ]
  },
  {
   "cell_type": "code",
   "execution_count": 17,
   "id": "2ff8236f-03f2-4746-96ae-d0c5cadf7090",
   "metadata": {},
   "outputs": [
    {
     "data": {
      "text/plain": [
       "'id_rsa.pub'"
      ]
     },
     "execution_count": 17,
     "metadata": {},
     "output_type": "execute_result"
    }
   ],
   "source": [
    "import os\n",
    "_, filename = os.path.split('~/.ssh/id_rsa.pub')\n",
    "filename"
   ]
  },
  {
   "cell_type": "code",
   "execution_count": 18,
   "id": "8012da89-fb54-4eb2-b96d-220052553888",
   "metadata": {},
   "outputs": [
    {
     "data": {
      "text/plain": [
       "(0, 1, [2, 3, 4])"
      ]
     },
     "execution_count": 18,
     "metadata": {},
     "output_type": "execute_result"
    }
   ],
   "source": [
    "a, b, *rest = range(5)\n",
    "a,b,rest"
   ]
  },
  {
   "cell_type": "code",
   "execution_count": 19,
   "id": "89ca5c1d-23d5-475a-b7cf-887fb7f874fc",
   "metadata": {},
   "outputs": [
    {
     "data": {
      "text/plain": [
       "(0, 1, [2])"
      ]
     },
     "execution_count": 19,
     "metadata": {},
     "output_type": "execute_result"
    }
   ],
   "source": [
    "a ,b, *rest = range(3)\n",
    "a, b, rest"
   ]
  },
  {
   "cell_type": "code",
   "execution_count": 20,
   "id": "7cb24f8f-159b-4da1-a91e-def8026f00a7",
   "metadata": {},
   "outputs": [
    {
     "data": {
      "text/plain": [
       "(0, 1, [])"
      ]
     },
     "execution_count": 20,
     "metadata": {},
     "output_type": "execute_result"
    }
   ],
   "source": [
    "a, b, *rest = range(2)\n",
    "a, b, rest"
   ]
  },
  {
   "cell_type": "code",
   "execution_count": 1,
   "id": "b4ad508d-094a-4bf7-9689-e3d7161ae11c",
   "metadata": {},
   "outputs": [
    {
     "data": {
      "text/plain": [
       "(0, [1, 2], 3, 4)"
      ]
     },
     "execution_count": 1,
     "metadata": {},
     "output_type": "execute_result"
    }
   ],
   "source": [
    "a, *body, c, d = range(5)\n",
    "a, body, c ,d"
   ]
  },
  {
   "cell_type": "code",
   "execution_count": 2,
   "id": "cef1687e-0260-4e56-9430-4590a4db9f48",
   "metadata": {},
   "outputs": [
    {
     "data": {
      "text/plain": [
       "(0, 1, 2, 3, 4)"
      ]
     },
     "execution_count": 2,
     "metadata": {},
     "output_type": "execute_result"
    }
   ],
   "source": [
    "*head, b, c, d = range(5)\n",
    "*head, b, c, d"
   ]
  },
  {
   "cell_type": "code",
   "execution_count": 3,
   "id": "e5edcb51-4a1d-4bcb-a405-e6e64d54e85c",
   "metadata": {},
   "outputs": [
    {
     "data": {
      "text/plain": [
       "([0, 1], 2, 3, 4)"
      ]
     },
     "execution_count": 3,
     "metadata": {},
     "output_type": "execute_result"
    }
   ],
   "source": [
    "head, b, c, d"
   ]
  },
  {
   "cell_type": "code",
   "execution_count": 6,
   "id": "f141c3b9-8d66-4a21-ae81-52b5b058e7ca",
   "metadata": {},
   "outputs": [
    {
     "name": "stdout",
     "output_type": "stream",
     "text": [
      "                |   lat.    |   long.  \n",
      "Mexico City     |   19.4333 |  -99.1333\n",
      "New York-Newark |   40.8086 |  -74.0204\n",
      "Sao Paulo       |  -23.5478 |  -46.6358\n"
     ]
    }
   ],
   "source": [
    "# 每个元组都有4个字段，最后一个字段本身是一个元组，代表经纬度\n",
    "metro_areas = [\n",
    "    ('Tokyo', 'JP', 36.933, (35.689722, 139.691667)),   \n",
    "    ('Delhi NCR', 'IN', 21.935, (28.613889, 77.208889)),\n",
    "    ('Mexico City', 'MX', 20.142, (19.433333, -99.133333)),\n",
    "    ('New York-Newark', 'US', 20.104, (40.808611, -74.020386)),\n",
    "    ('Sao Paulo', 'BR', 19.649, (-23.547778, -46.635833)),\n",
    "]\n",
    "def main():\n",
    "    print(f'{\"\":15} | {\"lat.\":^9} | {\"long.\":^9}')\n",
    "    # 通过将最后一个字段赋值给一个元组来拆包\n",
    "    for name, cc, pop, (latitude, longitude) in metro_areas:  \n",
    "        if longitude <= 0:\n",
    "            print(f'{name:15} | {latitude:9.4f} | {longitude:9.4f}')\n",
    "\n",
    "main()"
   ]
  },
  {
   "cell_type": "code",
   "execution_count": 7,
   "id": "f250b52b-0038-4088-a1c2-106d06990dc1",
   "metadata": {},
   "outputs": [
    {
     "name": "stdout",
     "output_type": "stream",
     "text": [
      "True\n",
      "False\n",
      "(10, 'alpha', [1, 2, 99])\n"
     ]
    }
   ],
   "source": [
    "a = (10, 'alpha', [1, 2])\n",
    "b = (10, 'alpha', [1, 2])\n",
    "print(a == b)\n",
    "b[-1].append(99)\n",
    "print(a==b)\n",
    "print(b)"
   ]
  },
  {
   "cell_type": "code",
   "execution_count": 9,
   "id": "06d2ec55-a282-4112-8ce9-b65e81d3a37d",
   "metadata": {},
   "outputs": [
    {
     "name": "stdout",
     "output_type": "stream",
     "text": [
      "True\n",
      "False\n"
     ]
    }
   ],
   "source": [
    "def fixed(o):\n",
    "    try:\n",
    "        hash(o)\n",
    "    except TypeError:\n",
    "        return False\n",
    "    return True\n",
    "\n",
    "tf = (10, 'alpha', (1, 2))\n",
    "tm = (10, 'alpha', [1, 2])\n",
    "print(fixed(tf))\n",
    "print(fixed(tm))"
   ]
  },
  {
   "cell_type": "code",
   "execution_count": 10,
   "id": "41726607-08b4-4e7c-a3c8-1cae3d176b41",
   "metadata": {},
   "outputs": [
    {
     "data": {
      "text/plain": [
       "[10, 20]"
      ]
     },
     "execution_count": 10,
     "metadata": {},
     "output_type": "execute_result"
    }
   ],
   "source": [
    "l =  [10, 20, 30, 40, 50, 60]\n",
    "l[:2] # 在下标2的位置分割"
   ]
  },
  {
   "cell_type": "code",
   "execution_count": 11,
   "id": "d1fbf3b8-bf55-454f-8d99-98a6e5abb5d6",
   "metadata": {},
   "outputs": [
    {
     "data": {
      "text/plain": [
       "[30, 40, 50, 60]"
      ]
     },
     "execution_count": 11,
     "metadata": {},
     "output_type": "execute_result"
    }
   ],
   "source": [
    "l[2:] # 这里是分割的右边"
   ]
  },
  {
   "cell_type": "code",
   "execution_count": 12,
   "id": "7dd90887-ee36-49c5-b16c-420a98a6da17",
   "metadata": {},
   "outputs": [
    {
     "data": {
      "text/plain": [
       "[10, 20, 30]"
      ]
     },
     "execution_count": 12,
     "metadata": {},
     "output_type": "execute_result"
    }
   ],
   "source": [
    "l[:3] # 在下标3的位置分割"
   ]
  },
  {
   "cell_type": "code",
   "execution_count": 13,
   "id": "5e551a43-415a-459f-a8ad-98f1cb2df746",
   "metadata": {},
   "outputs": [
    {
     "data": {
      "text/plain": [
       "[40, 50, 60]"
      ]
     },
     "execution_count": 13,
     "metadata": {},
     "output_type": "execute_result"
    }
   ],
   "source": [
    "l[3:]"
   ]
  },
  {
   "cell_type": "code",
   "execution_count": 14,
   "id": "ca995566-b24f-4624-b2d1-7aec8d67aa8f",
   "metadata": {},
   "outputs": [
    {
     "data": {
      "text/plain": [
       "'gys'"
      ]
     },
     "execution_count": 14,
     "metadata": {},
     "output_type": "execute_result"
    }
   ],
   "source": [
    "s = 'greyfoss'\n",
    "s[::3]"
   ]
  },
  {
   "cell_type": "code",
   "execution_count": 15,
   "id": "88e03949-cb8b-484a-9a99-b93f3f9b6406",
   "metadata": {},
   "outputs": [
    {
     "data": {
      "text/plain": [
       "'ssofyerg'"
      ]
     },
     "execution_count": 15,
     "metadata": {},
     "output_type": "execute_result"
    }
   ],
   "source": [
    "s[::-1]"
   ]
  },
  {
   "cell_type": "code",
   "execution_count": 16,
   "id": "48c41199-43c3-46e8-adb0-ce252d96a0a7",
   "metadata": {},
   "outputs": [
    {
     "data": {
      "text/plain": [
       "'soyr'"
      ]
     },
     "execution_count": 16,
     "metadata": {},
     "output_type": "execute_result"
    }
   ],
   "source": [
    "s[::-2] # 可以看成是，先逆序，再按照间隔2取值"
   ]
  },
  {
   "cell_type": "code",
   "execution_count": 21,
   "id": "a36ebc13-f8f0-46ce-bbc8-71d5c46aa586",
   "metadata": {},
   "outputs": [
    {
     "name": "stdout",
     "output_type": "stream",
     "text": [
      "    $17.50   Pimoroni PiBrella                 \n",
      "     $4.95   6mm Tactile Switch x20            \n",
      "    $28.00   Panavise Jr. - PV-201             \n",
      "    $34.95   PiTFT Mini Kit 320x240            \n",
      " \n"
     ]
    }
   ],
   "source": [
    "invoice = \"\"\"\n",
    "... 0.....6.................................40........52...55........\n",
    "... 1909  Pimoroni PiBrella                     $17.50    3    $52.50\n",
    "... 1489  6mm Tactile Switch x20                 $4.95    2     $9.90\n",
    "... 1510  Panavise Jr. - PV-201                 $28.00    1    $28.00\n",
    "... 1601  PiTFT Mini Kit 320x240                $34.95    1    $34.95\n",
    "... \"\"\"\n",
    "SKU = slice(0,6)\n",
    "DESCRIPTION = slice(6, 40)\n",
    "UNIT_PRICE = slice(40, 52)\n",
    "QUANTITY =  slice(52, 55)\n",
    "ITEM_TOTAL = slice(55, None)\n",
    "line_items = invoice.split('\\n')[2:] # 去掉不相关的前两行信息\n",
    "for item in line_items:\n",
    "    print(item[UNIT_PRICE], item[DESCRIPTION])"
   ]
  },
  {
   "cell_type": "code",
   "execution_count": 22,
   "id": "5d7b7941-3b63-4e7d-99c4-6d689cd07cb8",
   "metadata": {},
   "outputs": [
    {
     "data": {
      "text/plain": [
       "['',\n",
       " '0.....6.................................40........52...55........',\n",
       " '1909  Pimoroni PiBrella                     $17.50    3    $52.50',\n",
       " '1489  6mm Tactile Switch x20                 $4.95    2     $9.90',\n",
       " '1510  Panavise Jr. - PV-201                 $28.00    1    $28.00',\n",
       " '1601  PiTFT Mini Kit 320x240                $34.95    1    $34.95',\n",
       " '']"
      ]
     },
     "execution_count": 22,
     "metadata": {},
     "output_type": "execute_result"
    }
   ],
   "source": [
    "invoice.split('\\n')"
   ]
  },
  {
   "cell_type": "code",
   "execution_count": 29,
   "id": "1a222b87-443c-4f7f-9d37-9c8edc428193",
   "metadata": {},
   "outputs": [
    {
     "data": {
      "text/plain": [
       "[0, 1, 2, 3, 4, 5, 6, 7, 8, 9]"
      ]
     },
     "execution_count": 29,
     "metadata": {},
     "output_type": "execute_result"
    }
   ],
   "source": [
    "l = list(range(10))\n",
    "l"
   ]
  },
  {
   "cell_type": "code",
   "execution_count": 30,
   "id": "05706267-740d-47ee-a8cc-190cd4893bf9",
   "metadata": {},
   "outputs": [
    {
     "data": {
      "text/plain": [
       "[0, 1, 20, 30, 5, 6, 7, 8, 9]"
      ]
     },
     "execution_count": 30,
     "metadata": {},
     "output_type": "execute_result"
    }
   ],
   "source": [
    "l[2:5] = [20,30] # 原地移除了4，替换了2，3\n",
    "l"
   ]
  },
  {
   "cell_type": "code",
   "execution_count": 31,
   "id": "ab25aca4-6e24-4f7a-8593-1ee4d0d97b10",
   "metadata": {},
   "outputs": [
    {
     "data": {
      "text/plain": [
       "[0, 1, 20, 30, 5, 8, 9]"
      ]
     },
     "execution_count": 31,
     "metadata": {},
     "output_type": "execute_result"
    }
   ],
   "source": [
    "del l[5:7] # 7-5=2，因此只会删除2个元素，从第5个元素开始\n",
    "l"
   ]
  },
  {
   "cell_type": "code",
   "execution_count": 32,
   "id": "4e6411e7-2553-4887-8fab-fe8fe287da41",
   "metadata": {},
   "outputs": [
    {
     "data": {
      "text/plain": [
       "[0, 1, 20, 11, 5, 22, 9]"
      ]
     },
     "execution_count": 32,
     "metadata": {},
     "output_type": "execute_result"
    }
   ],
   "source": [
    "l[3::2] = [11,22] #从第3个元素开始，每2个元素替换一次，依次替换右边的元素\n",
    "l # 30替换成11，8替换成22"
   ]
  },
  {
   "cell_type": "code",
   "execution_count": 33,
   "id": "a0d95660-8ded-459d-88e7-0ecc3c23db14",
   "metadata": {},
   "outputs": [
    {
     "ename": "TypeError",
     "evalue": "can only assign an iterable",
     "output_type": "error",
     "traceback": [
      "\u001b[0;31m---------------------------------------------------------------------------\u001b[0m",
      "\u001b[0;31mTypeError\u001b[0m                                 Traceback (most recent call last)",
      "\u001b[0;32m<ipython-input-33-da8b10461280>\u001b[0m in \u001b[0;36m<module>\u001b[0;34m\u001b[0m\n\u001b[0;32m----> 1\u001b[0;31m \u001b[0ml\u001b[0m\u001b[0;34m[\u001b[0m\u001b[0;36m2\u001b[0m\u001b[0;34m:\u001b[0m\u001b[0;36m5\u001b[0m\u001b[0;34m]\u001b[0m \u001b[0;34m=\u001b[0m \u001b[0;36m100\u001b[0m\u001b[0;34m\u001b[0m\u001b[0;34m\u001b[0m\u001b[0m\n\u001b[0m",
      "\u001b[0;31mTypeError\u001b[0m: can only assign an iterable"
     ]
    }
   ],
   "source": [
    "l[2:5] = 100 #右边只能是可迭代对象"
   ]
  },
  {
   "cell_type": "code",
   "execution_count": 34,
   "id": "989ceda8-b3c1-4883-9c3e-232000610696",
   "metadata": {},
   "outputs": [
    {
     "data": {
      "text/plain": [
       "[0, 1, 100, 22, 9]"
      ]
     },
     "execution_count": 34,
     "metadata": {},
     "output_type": "execute_result"
    }
   ],
   "source": [
    "l[2:5] = [100]\n",
    "l"
   ]
  },
  {
   "cell_type": "code",
   "execution_count": 1,
   "id": "233c5ce6-6918-4f6b-8eca-135fb0c27dc7",
   "metadata": {},
   "outputs": [
    {
     "data": {
      "text/plain": [
       "[1, 2, 3, 1, 2, 3, 1, 2, 3, 1, 2, 3, 1, 2, 3]"
      ]
     },
     "execution_count": 1,
     "metadata": {},
     "output_type": "execute_result"
    }
   ],
   "source": [
    "l = [1, 2, 3]\n",
    "l * 5"
   ]
  },
  {
   "cell_type": "code",
   "execution_count": 2,
   "id": "f59625f5-db91-411a-aebc-6129ed39bf92",
   "metadata": {},
   "outputs": [
    {
     "data": {
      "text/plain": [
       "'abcdabcdabcdabcdabcd'"
      ]
     },
     "execution_count": 2,
     "metadata": {},
     "output_type": "execute_result"
    }
   ],
   "source": [
    "5 * 'abcd'"
   ]
  },
  {
   "cell_type": "code",
   "execution_count": 3,
   "id": "d6a4a6ee-2962-4c18-9b56-7611d6eea5be",
   "metadata": {},
   "outputs": [
    {
     "data": {
      "text/plain": [
       "[['_', '_', '_'], ['_', '_', '_'], ['_', '_', '_']]"
      ]
     },
     "execution_count": 3,
     "metadata": {},
     "output_type": "execute_result"
    }
   ],
   "source": [
    "# 建立一个包含3个列表的列表，嵌套的3个列表各自由3个元素来代表井字游戏的一行方块\n",
    "board = [['_'] * 3 for i in range(3)]  \n",
    "board"
   ]
  },
  {
   "cell_type": "code",
   "execution_count": 4,
   "id": "8d158e5c-3adb-4126-854c-26368a725b26",
   "metadata": {},
   "outputs": [
    {
     "data": {
      "text/plain": [
       "[['_', '_', '_'], ['_', '_', 'X'], ['_', '_', '_']]"
      ]
     },
     "execution_count": 4,
     "metadata": {},
     "output_type": "execute_result"
    }
   ],
   "source": [
    "board[1][2] = 'X' # 把第1行第2列的元素标记为X\n",
    "board"
   ]
  },
  {
   "cell_type": "code",
   "execution_count": 5,
   "id": "b50bb2e3-c079-4e50-bf3a-6e52a560a2c5",
   "metadata": {},
   "outputs": [
    {
     "data": {
      "text/plain": [
       "[['_', '_', '_'], ['_', '_', '_'], ['_', '_', '_']]"
      ]
     },
     "execution_count": 5,
     "metadata": {},
     "output_type": "execute_result"
    }
   ],
   "source": [
    "# 外面的列表其实包含3个指向同一个列表的引用。\n",
    "weird_board = [['_'] * 3] * 3 \n",
    "weird_board"
   ]
  },
  {
   "cell_type": "code",
   "execution_count": 6,
   "id": "81a8befa-d9b8-4284-b82b-ec879a814853",
   "metadata": {},
   "outputs": [
    {
     "data": {
      "text/plain": [
       "[['_', '_', 'O'], ['_', '_', 'O'], ['_', '_', 'O']]"
      ]
     },
     "execution_count": 6,
     "metadata": {},
     "output_type": "execute_result"
    }
   ],
   "source": [
    "# 一旦修改，就会暴露了列表内的3个引用指向同一个对象的事实\n",
    "weird_board[1][2] = 'O' \n",
    "weird_board"
   ]
  },
  {
   "cell_type": "code",
   "execution_count": 7,
   "id": "f314f76f-af30-4aa0-9a0b-20d89e69f111",
   "metadata": {},
   "outputs": [],
   "source": [
    "row=['_'] * 3\n",
    "board = []\n",
    "for i in range(3):\n",
    "    board.append(row)"
   ]
  },
  {
   "cell_type": "code",
   "execution_count": 9,
   "id": "d8819a2b-988c-401a-8173-b38d23397f30",
   "metadata": {},
   "outputs": [
    {
     "data": {
      "text/plain": [
       "[['_', '_', '_'], ['_', '_', '_'], ['_', '_', '_']]"
      ]
     },
     "execution_count": 9,
     "metadata": {},
     "output_type": "execute_result"
    }
   ],
   "source": [
    "board = []\n",
    "for i in range(3):\n",
    "    # 每次迭代都新建了一个列表，作为新的一行追加到board\n",
    "    row = ['_'] * 3 \n",
    "    board.append(row)\n",
    "board"
   ]
  },
  {
   "cell_type": "code",
   "execution_count": 11,
   "id": "2071af1f-e1c4-442e-ac2d-a60cc333d141",
   "metadata": {},
   "outputs": [
    {
     "data": {
      "text/plain": [
       "[['_', '_', '_'], ['_', '_', '_'], ['X', '_', '_']]"
      ]
     },
     "execution_count": 11,
     "metadata": {},
     "output_type": "execute_result"
    }
   ],
   "source": [
    "board[2][0] = 'X'\n",
    "board # 只有第2行的元素被修改"
   ]
  },
  {
   "cell_type": "code",
   "execution_count": 12,
   "id": "579e286f-f237-4194-8349-3b300c8a5d48",
   "metadata": {},
   "outputs": [
    {
     "data": {
      "text/plain": [
       "140480084181376"
      ]
     },
     "execution_count": 12,
     "metadata": {},
     "output_type": "execute_result"
    }
   ],
   "source": [
    "l = [1, 2, 3]\n",
    "id(l) #初始时列表的ID"
   ]
  },
  {
   "cell_type": "code",
   "execution_count": 13,
   "id": "66034828-bb8c-4ee4-8898-ec1ddf7b69b9",
   "metadata": {},
   "outputs": [
    {
     "data": {
      "text/plain": [
       "[1, 2, 3, 1, 2, 3]"
      ]
     },
     "execution_count": 13,
     "metadata": {},
     "output_type": "execute_result"
    }
   ],
   "source": [
    "l *= 2\n",
    "l"
   ]
  },
  {
   "cell_type": "code",
   "execution_count": 14,
   "id": "58832b98-3f5c-4402-9d8a-4882ca26405c",
   "metadata": {},
   "outputs": [
    {
     "data": {
      "text/plain": [
       "140480084181376"
      ]
     },
     "execution_count": 14,
     "metadata": {},
     "output_type": "execute_result"
    }
   ],
   "source": [
    "id(l) #运用增量乘法后,列表的 ID 没变,新元素追加到列表上。"
   ]
  },
  {
   "cell_type": "code",
   "execution_count": 15,
   "id": "b73a3a43-9416-4db4-a646-5d957a50b8f7",
   "metadata": {},
   "outputs": [
    {
     "data": {
      "text/plain": [
       "140480083049152"
      ]
     },
     "execution_count": 15,
     "metadata": {},
     "output_type": "execute_result"
    }
   ],
   "source": [
    "t = (1, 2, 3)\n",
    "id(t)"
   ]
  },
  {
   "cell_type": "code",
   "execution_count": 16,
   "id": "d3149e24-fc54-461e-b258-c83586384419",
   "metadata": {},
   "outputs": [
    {
     "data": {
      "text/plain": [
       "140480082170976"
      ]
     },
     "execution_count": 16,
     "metadata": {},
     "output_type": "execute_result"
    }
   ],
   "source": [
    "t *= 2\n",
    "id(t) # 运用增量乘法后，新的元组被创建了"
   ]
  },
  {
   "cell_type": "code",
   "execution_count": 17,
   "id": "3720fc9c-9ce5-42df-845f-1209f2ced428",
   "metadata": {},
   "outputs": [
    {
     "ename": "TypeError",
     "evalue": "'tuple' object does not support item assignment",
     "output_type": "error",
     "traceback": [
      "\u001b[0;31m---------------------------------------------------------------------------\u001b[0m",
      "\u001b[0;31mTypeError\u001b[0m                                 Traceback (most recent call last)",
      "\u001b[0;32m<ipython-input-17-0e9217592952>\u001b[0m in \u001b[0;36m<module>\u001b[0;34m\u001b[0m\n\u001b[1;32m      1\u001b[0m \u001b[0mt\u001b[0m \u001b[0;34m=\u001b[0m \u001b[0;34m(\u001b[0m\u001b[0;36m1\u001b[0m\u001b[0;34m,\u001b[0m \u001b[0;36m2\u001b[0m\u001b[0;34m,\u001b[0m \u001b[0;34m[\u001b[0m\u001b[0;36m30\u001b[0m\u001b[0;34m,\u001b[0m \u001b[0;36m40\u001b[0m\u001b[0;34m]\u001b[0m\u001b[0;34m)\u001b[0m\u001b[0;34m\u001b[0m\u001b[0;34m\u001b[0m\u001b[0m\n\u001b[0;32m----> 2\u001b[0;31m \u001b[0mt\u001b[0m\u001b[0;34m[\u001b[0m\u001b[0;36m2\u001b[0m\u001b[0;34m]\u001b[0m \u001b[0;34m+=\u001b[0m \u001b[0;34m[\u001b[0m\u001b[0;36m50\u001b[0m\u001b[0;34m,\u001b[0m \u001b[0;36m60\u001b[0m\u001b[0;34m]\u001b[0m\u001b[0;34m\u001b[0m\u001b[0;34m\u001b[0m\u001b[0m\n\u001b[0m",
      "\u001b[0;31mTypeError\u001b[0m: 'tuple' object does not support item assignment"
     ]
    }
   ],
   "source": [
    "t = (1, 2, [30, 40])\n",
    "t[2] += [50, 60]"
   ]
  },
  {
   "cell_type": "code",
   "execution_count": 18,
   "id": "a2aa50b2-7c7e-4d92-9df7-b3647de679e5",
   "metadata": {},
   "outputs": [
    {
     "data": {
      "text/plain": [
       "(1, 2, [30, 40, 50, 60])"
      ]
     },
     "execution_count": 18,
     "metadata": {},
     "output_type": "execute_result"
    }
   ],
   "source": [
    "t"
   ]
  },
  {
   "cell_type": "code",
   "execution_count": 19,
   "id": "e90b96e5-0504-4e0d-871b-8693920622b0",
   "metadata": {},
   "outputs": [
    {
     "ename": "NameError",
     "evalue": "name 'dis' is not defined",
     "output_type": "error",
     "traceback": [
      "\u001b[0;31m---------------------------------------------------------------------------\u001b[0m",
      "\u001b[0;31mNameError\u001b[0m                                 Traceback (most recent call last)",
      "\u001b[0;32m<ipython-input-19-aa7f2bba65b9>\u001b[0m in \u001b[0;36m<module>\u001b[0;34m\u001b[0m\n\u001b[0;32m----> 1\u001b[0;31m \u001b[0mdis\u001b[0m\u001b[0;34m.\u001b[0m\u001b[0mdis\u001b[0m\u001b[0;34m(\u001b[0m\u001b[0;34m's[a] += b'\u001b[0m\u001b[0;34m)\u001b[0m\u001b[0;34m\u001b[0m\u001b[0;34m\u001b[0m\u001b[0m\n\u001b[0m",
      "\u001b[0;31mNameError\u001b[0m: name 'dis' is not defined"
     ]
    }
   ],
   "source": [
    "dis.dis('s[a] += b')"
   ]
  },
  {
   "cell_type": "code",
   "execution_count": 20,
   "id": "399331f8-50ec-4ad5-b76e-87daa9114dc2",
   "metadata": {},
   "outputs": [
    {
     "name": "stdout",
     "output_type": "stream",
     "text": [
      "  1           0 LOAD_NAME                0 (s)\n",
      "              2 LOAD_NAME                1 (a)\n",
      "              4 DUP_TOP_TWO\n",
      "              6 BINARY_SUBSCR\n",
      "              8 LOAD_NAME                2 (b)\n",
      "             10 INPLACE_ADD\n",
      "             12 ROT_THREE\n",
      "             14 STORE_SUBSCR\n",
      "             16 LOAD_CONST               0 (None)\n",
      "             18 RETURN_VALUE\n"
     ]
    }
   ],
   "source": [
    "import dis\n",
    "dis.dis('s[a] += b')\n"
   ]
  },
  {
   "cell_type": "code",
   "execution_count": 24,
   "id": "41ca7905-e33e-4fd2-94bd-68a85274be7c",
   "metadata": {},
   "outputs": [
    {
     "data": {
      "text/plain": [
       "['apple', 'banana', 'grape', 'raspberry']"
      ]
     },
     "execution_count": 24,
     "metadata": {},
     "output_type": "execute_result"
    }
   ],
   "source": [
    "fruits = ['grape', 'raspberry', 'apple', 'banana']\n",
    "sorted(fruits) #返回一个根据字典顺序排序的新字符串列表。"
   ]
  },
  {
   "cell_type": "code",
   "execution_count": 25,
   "id": "9f3cb71b-2dfc-4e11-953a-5acaf5687f77",
   "metadata": {},
   "outputs": [
    {
     "data": {
      "text/plain": [
       "['grape', 'raspberry', 'apple', 'banana']"
      ]
     },
     "execution_count": 25,
     "metadata": {},
     "output_type": "execute_result"
    }
   ],
   "source": [
    "fruits # 可以看到原列表未发生变化"
   ]
  },
  {
   "cell_type": "code",
   "execution_count": 26,
   "id": "c2f76563-d198-4d71-8412-a40ff7d51d18",
   "metadata": {},
   "outputs": [
    {
     "data": {
      "text/plain": [
       "['raspberry', 'grape', 'banana', 'apple']"
      ]
     },
     "execution_count": 26,
     "metadata": {},
     "output_type": "execute_result"
    }
   ],
   "source": [
    "sorted(fruits, reverse=True) # 逆字典顺序序排序"
   ]
  },
  {
   "cell_type": "code",
   "execution_count": 27,
   "id": "f9bc53ef-f945-4138-9599-285ab982f4d7",
   "metadata": {},
   "outputs": [
    {
     "data": {
      "text/plain": [
       "['grape', 'apple', 'banana', 'raspberry']"
      ]
     },
     "execution_count": 27,
     "metadata": {},
     "output_type": "execute_result"
    }
   ],
   "source": [
    "sorted(fruits, key=len) # 根据列表中元素的长度，升序排序，而且因为sorted底层的TimSort是稳定的，\n",
    "                        # 所以grape，apple，banana长度相等时，相对位置没有发生变化"
   ]
  },
  {
   "cell_type": "code",
   "execution_count": 28,
   "id": "c716441b-625e-4a1c-b026-eccd8efefcf7",
   "metadata": {},
   "outputs": [
    {
     "data": {
      "text/plain": [
       "['raspberry', 'banana', 'grape', 'apple']"
      ]
     },
     "execution_count": 28,
     "metadata": {},
     "output_type": "execute_result"
    }
   ],
   "source": [
    "sorted(fruits, key=len, reverse=True) # 根据列表中元素的长度，降序排序"
   ]
  },
  {
   "cell_type": "code",
   "execution_count": 29,
   "id": "741249a2-b0f2-451a-80e4-90566e63e010",
   "metadata": {},
   "outputs": [
    {
     "data": {
      "text/plain": [
       "['grape', 'raspberry', 'apple', 'banana']"
      ]
     },
     "execution_count": 29,
     "metadata": {},
     "output_type": "execute_result"
    }
   ],
   "source": [
    "fruits # 原列表还是未发生变化"
   ]
  },
  {
   "cell_type": "code",
   "execution_count": 31,
   "id": "dd5b9ac1-46fb-4bf1-86bb-18e6c83ef4dd",
   "metadata": {},
   "outputs": [],
   "source": [
    "fruits.sort() # 此时是原地修改，并且返回了None"
   ]
  },
  {
   "cell_type": "code",
   "execution_count": 32,
   "id": "bc201fd6-5546-461e-a5c1-55545cd151b6",
   "metadata": {},
   "outputs": [
    {
     "data": {
      "text/plain": [
       "['apple', 'banana', 'grape', 'raspberry']"
      ]
     },
     "execution_count": 32,
     "metadata": {},
     "output_type": "execute_result"
    }
   ],
   "source": [
    "fruits # 该列表已经是排序了的"
   ]
  },
  {
   "cell_type": "code",
   "execution_count": 37,
   "id": "6b4f6f7b-53d3-4779-972a-799755fdbfbd",
   "metadata": {},
   "outputs": [
    {
     "name": "stdout",
     "output_type": "stream",
     "text": [
      "DEMO: bisect_left\n",
      "haystack ->  1  4  5  6  8 12 15 20 21 23 23 26 29 30\n",
      "31 @ 14      |  |  |  |  |  |  |  |  |  |  |  |  |  |31\n",
      "30 @ 13      |  |  |  |  |  |  |  |  |  |  |  |  |30\n",
      "29 @ 12      |  |  |  |  |  |  |  |  |  |  |  |29\n",
      "23 @  9      |  |  |  |  |  |  |  |  |23\n",
      "22 @  9      |  |  |  |  |  |  |  |  |22\n",
      "10 @  5      |  |  |  |  |10\n",
      " 8 @  4      |  |  |  |8 \n",
      " 5 @  2      |  |5 \n",
      " 2 @  1      |2 \n",
      " 1 @  0    1 \n",
      " 0 @  0    0 \n"
     ]
    }
   ],
   "source": [
    "import bisect\n",
    "import sys\n",
    "\n",
    "HAYSTACK = [1, 4, 5, 6, 8, 12, 15, 20, 21, 23, 23, 26, 29, 30]\n",
    "NEEDLES = [0, 1, 2, 5, 8, 10, 22, 23, 29, 30, 31]\n",
    "ROW_FMT = '{0:2d} @ {1:2d}    {2}{0:<2d}'\n",
    "\n",
    "def demo(bisect_fn):\n",
    "    for needle in reversed(NEEDLES): # 逆序\n",
    "        position = bisect_fn(HAYSTACK, needle)  #得到插入位置\n",
    "        offset = position * '  |' \n",
    "        print(ROW_FMT.format(needle, position, offset)) \n",
    "\n",
    "argv = 'left'\n",
    "if argv == 'left':\n",
    "    bisect_fn = bisect.bisect_left\n",
    "else:\n",
    "    bisect_fn = bisect.bisect\n",
    "\n",
    "print('DEMO:', bisect_fn.__name__)  \n",
    "print('haystack ->', ' '.join(f'{n:2}' for n in HAYSTACK))\n",
    "demo(bisect_fn)"
   ]
  },
  {
   "cell_type": "code",
   "execution_count": 38,
   "id": "8f8c88c2-8c69-4448-abf8-167855dfce4f",
   "metadata": {},
   "outputs": [
    {
     "name": "stdout",
     "output_type": "stream",
     "text": [
      "10 -> [10]\n",
      " 0 -> [0, 10]\n",
      " 6 -> [0, 6, 10]\n",
      " 8 -> [0, 6, 8, 10]\n",
      " 7 -> [0, 6, 7, 8, 10]\n",
      " 2 -> [0, 2, 6, 7, 8, 10]\n",
      "10 -> [0, 2, 6, 7, 8, 10, 10]\n"
     ]
    }
   ],
   "source": [
    "import bisect\n",
    "import random\n",
    "\n",
    "SIZE = 7\n",
    "\n",
    "random.seed(1729)\n",
    "\n",
    "my_list = []\n",
    "for i in range(SIZE):\n",
    "    new_item = random.randrange(SIZE * 2)\n",
    "    bisect.insort(my_list, new_item)\n",
    "    print(f'{new_item:2d} -> {my_list}')\n"
   ]
  },
  {
   "cell_type": "code",
   "execution_count": 39,
   "id": "6ded1f71-6584-4ded-bac4-3c1e95d32cf5",
   "metadata": {},
   "outputs": [
    {
     "name": "stdout",
     "output_type": "stream",
     "text": [
      "0.5963321947530882\n",
      "0.5963321947530882\n",
      "True\n"
     ]
    }
   ],
   "source": [
    "from array import array\n",
    "from random import random\n",
    "# d表示双精度浮点类型\n",
    "floats = array('d', (random() for i in range(10**7)))\n",
    "print(floats[-1])\n",
    "fp = open('floats.bin', 'wb')\n",
    "floats.tofile(fp) #把数组存入一个二进制文件中\n",
    "fp.close()\n",
    "floats2 = array('d')\n",
    "fp = open('floats.bin', 'rb')\n",
    "floats2.fromfile(fp, 10**7) # 从二进制文件中读取\n",
    "fp.close()\n",
    "print(floats2[-1])\n",
    "print(floats2 == floats) # 检查两个数组的内容是不是完全一样"
   ]
  },
  {
   "cell_type": "code",
   "execution_count": 4,
   "id": "cddfbd08-af8d-4f7b-b4ea-c8d221999321",
   "metadata": {},
   "outputs": [
    {
     "name": "stdout",
     "output_type": "stream",
     "text": [
      "5\n",
      "-2\n",
      "[254, 255, 255, 255, 0, 0, 1, 0, 2, 0]\n",
      "array('h', [-2, -1, 1024, 1, 2])\n"
     ]
    }
   ],
   "source": [
    "import array\n",
    "\n",
    "numbers = array.array('h', [-2, -1, 0, 1, 2])\n",
    "memv = memoryview(numbers)# 利用短整型有符号整数数组创建memoryview\n",
    "print(len(memv)) # 5\n",
    "print(memv[0]) # -2\n",
    "memv_oct = memv.cast('B') # 把memv里的内容转换成'B'，即无符号字符\n",
    "# 打印为列表\n",
    "print(memv_oct.tolist()) # [254, 255, 255, 255, 0, 0, 1, 0, 2, 0]\n",
    "memv_oct[5] = 4\n",
    "print(numbers) # array('h', [-2, -1, 1024, 1, 2])"
   ]
  },
  {
   "cell_type": "code",
   "execution_count": 5,
   "id": "46286542-6a0d-49eb-b59a-d84b5051e560",
   "metadata": {},
   "outputs": [
    {
     "data": {
      "text/plain": [
       "deque([0, 1, 2, 3, 4, 5, 6, 7, 8, 9])"
      ]
     },
     "execution_count": 5,
     "metadata": {},
     "output_type": "execute_result"
    }
   ],
   "source": [
    "from collections import deque\n",
    "# 定义一个最大长度为10的队列\n",
    "dq = deque(range(10), maxlen=10)\n",
    "dq"
   ]
  },
  {
   "cell_type": "code",
   "execution_count": 6,
   "id": "de65728c-c960-4f1f-a0bc-9f20a9f68f88",
   "metadata": {},
   "outputs": [
    {
     "data": {
      "text/plain": [
       "deque([7, 8, 9, 0, 1, 2, 3, 4, 5, 6])"
      ]
     },
     "execution_count": 6,
     "metadata": {},
     "output_type": "execute_result"
    }
   ],
   "source": [
    "# 队列的旋转操作接受一个参数 n,当 n > 0 时,队列的最右边的 n\n",
    "# 个元素会被移动到队列的左边。当 n < 0 时,最左边的 n 个元素会被\n",
    "# 移动到右边。\n",
    "dq.rotate(3)\n",
    "dq"
   ]
  },
  {
   "cell_type": "code",
   "execution_count": 8,
   "id": "cb0d656e-8059-42a1-b723-10302cface33",
   "metadata": {},
   "outputs": [
    {
     "data": {
      "text/plain": [
       "deque([1, 2, 3, 4, 5, 6, 7, 8, 9, 0])"
      ]
     },
     "execution_count": 8,
     "metadata": {},
     "output_type": "execute_result"
    }
   ],
   "source": [
    "dq.rotate(-4)\n",
    "dq"
   ]
  },
  {
   "cell_type": "code",
   "execution_count": 9,
   "id": "aa76c8a9-46a2-49ba-a24b-bae8afb00236",
   "metadata": {},
   "outputs": [
    {
     "data": {
      "text/plain": [
       "deque([-1, 1, 2, 3, 4, 5, 6, 7, 8, 9])"
      ]
     },
     "execution_count": 9,
     "metadata": {},
     "output_type": "execute_result"
    }
   ],
   "source": [
    "dq.appendleft(-1) # 在头部插入-1，队满时，会挤掉后面的元素\n",
    "dq"
   ]
  },
  {
   "cell_type": "code",
   "execution_count": 10,
   "id": "eea4ceda-5d0a-4054-ad40-0faf7853ca6a",
   "metadata": {},
   "outputs": [
    {
     "data": {
      "text/plain": [
       "deque([3, 4, 5, 6, 7, 8, 9, 11, 22, 33])"
      ]
     },
     "execution_count": 10,
     "metadata": {},
     "output_type": "execute_result"
    }
   ],
   "source": [
    "# 在尾部添加3个元素，队满时，会挤掉前面的3个元素\n",
    "dq.extend([11, 22, 33])\n",
    "dq"
   ]
  },
  {
   "cell_type": "code",
   "execution_count": 11,
   "id": "77412333-d9cc-47c3-b859-f9a788658b96",
   "metadata": {},
   "outputs": [
    {
     "data": {
      "text/plain": [
       "deque([40, 30, 20, 10, 3, 4, 5, 6, 7, 8])"
      ]
     },
     "execution_count": 11,
     "metadata": {},
     "output_type": "execute_result"
    }
   ],
   "source": [
    "# extendleft(iter) 把iter里的元素逐个添加到双向队列的左边\n",
    "dq.extendleft([10, 20, 30, 40])\n",
    "dq"
   ]
  },
  {
   "cell_type": "code",
   "execution_count": null,
   "id": "0e7e918d-65b6-4670-9750-52d3c44f5b6b",
   "metadata": {},
   "outputs": [],
   "source": []
  }
 ],
 "metadata": {
  "kernelspec": {
   "display_name": "Python 3",
   "language": "python",
   "name": "python3"
  },
  "language_info": {
   "codemirror_mode": {
    "name": "ipython",
    "version": 3
   },
   "file_extension": ".py",
   "mimetype": "text/x-python",
   "name": "python",
   "nbconvert_exporter": "python",
   "pygments_lexer": "ipython3",
   "version": "3.8.8"
  }
 },
 "nbformat": 4,
 "nbformat_minor": 5
}
