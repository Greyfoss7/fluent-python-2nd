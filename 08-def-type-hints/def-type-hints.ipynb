{
 "cells": [
  {
   "cell_type": "markdown",
   "id": "1ed270bf-83d6-460e-a15b-db76d960b7a4",
   "metadata": {},
   "source": [
    "# 引言\n",
    "\n",
    "本章关注于Python在函数签名中的类型注解(Type Hints)。在Python中引入了显式的类型注解，可以为函数参数、返回值、变量等添加类型提示。主要目的在于帮助开发工具通过静态检查发现代码中的Bug。\n",
    "\n",
    "# 新内容简介\n",
    "\n",
    "全新内容。\n",
    "\n",
    "由于静态类型系统的限制，PEP 484 引入了渐进类型系统(gradual type system)。\n",
    "\n",
    "# 什么是渐进类型\n",
    "\n",
    "PEP 484 引入了渐进类型系统。一个渐进类型系统：\n",
    "* 是可选的 默认情况下，类型检查器不应该为没有类型注解的代码发出告警。当类型检查器不能决定对象的类型时，会假设它为`Any`类型。`Any`类型被认为与所有其他类型兼容。\n",
    "* 不在运行时捕获类型错误 类型注解由静态类型检查器使用，IDE会发出告警。但它们不会防止不一致的值传递到函数或在运行时赋值给变量。\n",
    "* 不增强性能 类型注解提供的数据理论上允许在生成的字节码上优化，但这种优化未在任何Python运行时中实现。\n",
    "\n",
    "\n",
    "\n",
    "渐进类型最有用的特征在于注解总是可选的。\n",
    "\n",
    "在静态类型系统中，大多数类型约束很容易表达，但还有一些是笨重的、一些是难的，还有一小部分是不可能的。你很可能会编写一段优秀的Python代码，具有良好的测试覆盖率和测试通过率，但仍无法增加使类型检查器满意的类型注解。\n",
    "\n",
    "类型注解在所有级别上都是可选的：你的整个包可以没有类型注解，当你引入该包到使用类型注解的模块时可以静默类型检查器，也可以增加特殊的评论来类型检查器忽略代码中特定的行。\n",
    "\n",
    "# 渐进类型实战\n",
    "\n",
    "由一个简单的函数开始，然后逐渐增加类型注解。\n",
    "`messages.py`\n",
    "```py\n",
    "def show_count(count, word):\n",
    "    if count == 1:\n",
    "        return f'1 {word}'\n",
    "    count_str = str(count) if count else 'no'\n",
    "    return f'{count_str} {word}s'\n",
    "```\n"
   ]
  },
  {
   "cell_type": "code",
   "execution_count": 3,
   "id": "21eb8878-9817-46a8-a0df-e617bcdd0d30",
   "metadata": {},
   "outputs": [
    {
     "data": {
      "text/plain": [
       "'99 birds'"
      ]
     },
     "execution_count": 3,
     "metadata": {},
     "output_type": "execute_result"
    }
   ],
   "source": [
    "def show_count(count, word):\n",
    "    if count == 1:\n",
    "        return f'1 {word}'\n",
    "    count_str = str(count) if count else 'no'\n",
    "    return f'{count_str} {word}s'\n",
    "\n",
    "\n",
    "show_count(99, 'bird')"
   ]
  },
  {
   "cell_type": "code",
   "execution_count": 4,
   "id": "740e4902-e970-4fdf-9a37-9629489bd798",
   "metadata": {},
   "outputs": [
    {
     "data": {
      "text/plain": [
       "'1 bird'"
      ]
     },
     "execution_count": 4,
     "metadata": {},
     "output_type": "execute_result"
    }
   ],
   "source": [
    "show_count(1, 'bird')"
   ]
  },
  {
   "cell_type": "code",
   "execution_count": 5,
   "id": "7676af4a-b654-4e60-b71d-7339890e22c9",
   "metadata": {},
   "outputs": [
    {
     "data": {
      "text/plain": [
       "'no birds'"
      ]
     },
     "execution_count": 5,
     "metadata": {},
     "output_type": "execute_result"
    }
   ],
   "source": [
    "show_count(0, 'bird')"
   ]
  },
  {
   "cell_type": "markdown",
   "id": "f6f852f2-51bd-4c00-8c74-95953e790b37",
   "metadata": {},
   "source": [
    "## 由Mypy开始\n",
    "\n",
    "在`messages.py`上运行`mypy`命令来开始类型检查："
   ]
  },
  {
   "cell_type": "code",
   "execution_count": 10,
   "id": "d0dc32e8-48ba-40b2-a14d-b11139507294",
   "metadata": {},
   "outputs": [
    {
     "name": "stdout",
     "output_type": "stream",
     "text": [
      "Requirement already satisfied: mypy in d:\\program_tool\\py39\\lib\\site-packages (0.982)\n",
      "Requirement already satisfied: typing-extensions>=3.10 in d:\\program_tool\\py39\\lib\\site-packages (from mypy) (3.10.0.2)\n",
      "Requirement already satisfied: tomli>=1.1.0 in d:\\program_tool\\py39\\lib\\site-packages (from mypy) (2.0.1)\n",
      "Requirement already satisfied: mypy-extensions>=0.4.3 in d:\\program_tool\\py39\\lib\\site-packages (from mypy) (0.4.3)\n"
     ]
    }
   ],
   "source": [
    "! pip install mypy"
   ]
  },
  {
   "cell_type": "code",
   "execution_count": 9,
   "id": "64410c9d-ca83-4d80-83d9-208d29b0bf6a",
   "metadata": {},
   "outputs": [
    {
     "name": "stdout",
     "output_type": "stream",
     "text": [
      "Success: no issues found in 1 source file\n"
     ]
    }
   ],
   "source": [
    "! mypy ./messages/no_hints/messages.py"
   ]
  },
  {
   "cell_type": "markdown",
   "id": "a61188a5-8395-48d9-b3ce-42aaa30504c5",
   "metadata": {},
   "source": [
    "此时Mypy没有发现任何问题。\n",
    "\n",
    "如果一个函数签名没有任何注解，Mypy默认会忽略它。下面，增加`pytest`单元测试，该代码在`messages_test.py`中：\n",
    "```py\n",
    "from pytest import mark\n",
    "\n",
    "from messages import show_count\n",
    "\n",
    "@mark.parametrize('qty, expected', [\n",
    "    (1, '1 part'),\n",
    "    (2, '2 parts'),\n",
    "])\n",
    "def test_show_count(qty, expected):\n",
    "    got = show_count(qty, 'part')\n",
    "    assert got == expected\n",
    "\n",
    "def test_show_count_zero():\n",
    "    got = show_count(0, 'part')\n",
    "    assert got == 'no parts'\n",
    "```\n",
    "\n",
    "下面开始增加类型注解。\n",
    "\n",
    "## 让Mypy更严格\n",
    "\n",
    "命令行可选项`--disallow-untyped-defs`使Mypy标记任何对其所有参数和返回值没有类型注解的函数定义。\n",
    "\n",
    "使用`--disallow-untyped-defs`在测试文件上产生三个error和一个note："
   ]
  },
  {
   "cell_type": "code",
   "execution_count": 13,
   "id": "27595697-867b-4572-83ef-ee620356142d",
   "metadata": {},
   "outputs": [
    {
     "name": "stdout",
     "output_type": "stream",
     "text": [
      "messages\\no_hints\\messages.py:1: error: Function is missing a type annotation\n",
      "messages\\no_hints\\messages_test.py:9: error: Function is missing a type annotation\n",
      "messages\\no_hints\\messages_test.py:13: error: Function is missing a return type annotation\n",
      "messages\\no_hints\\messages_test.py:13: note: Use \"-> None\" if function does not return a value\n",
      "Found 3 errors in 2 files (checked 1 source file)\n"
     ]
    }
   ],
   "source": [
    "! mypy  --disallow-untyped-defs ./messages/no_hints/messages_test.py"
   ]
  },
  {
   "cell_type": "markdown",
   "id": "07b57a4e-7816-4397-af7b-d1680be6e7ef",
   "metadata": {},
   "source": [
    "对于渐进类型的第一步，我倾向于使用另一个可选项：`--disallow-incomplete-defs`。初始时，它不会抱怨任何问题："
   ]
  },
  {
   "cell_type": "code",
   "execution_count": 14,
   "id": "38511ebd-4dd0-4257-8861-2662cc29be81",
   "metadata": {},
   "outputs": [
    {
     "name": "stdout",
     "output_type": "stream",
     "text": [
      "Success: no issues found in 1 source file\n"
     ]
    }
   ],
   "source": [
    "! mypy  --disallow-incomplete-defs ./messages/no_hints/messages_test.py"
   ]
  },
  {
   "cell_type": "markdown",
   "id": "18ffd0c4-dacd-449c-b382-21c51976ce68",
   "metadata": {},
   "source": [
    "接着，我可以仅为`message.py`中的`show_count`增加返回类型：\n",
    "```py\n",
    "def show_count(count, word) -> str:\n",
    "```\n",
    "这足以让Mypy查看它了。使用前面同样的命令行去检查`messages_test.py`会让Mypy再次查看`messages.py`："
   ]
  },
  {
   "cell_type": "code",
   "execution_count": 15,
   "id": "a2cf23f2-5cdd-462d-9491-0bd993e23482",
   "metadata": {},
   "outputs": [
    {
     "name": "stdout",
     "output_type": "stream",
     "text": [
      "messages\\no_hints\\messages.py:1: error: Function is missing a type annotation for one or more arguments\n",
      "Found 1 error in 1 file (checked 1 source file)\n"
     ]
    }
   ],
   "source": [
    "! mypy  --disallow-incomplete-defs ./messages/no_hints/messages_test.py"
   ]
  },
  {
   "cell_type": "markdown",
   "id": "95950816-4733-47d6-bcda-1a2f268216d9",
   "metadata": {},
   "source": [
    "现在我们可以逐渐为函数增加类型注解，而不会得到我们没有标注的告警。下面是能满足Mypy的完整带注解签名：\n",
    "```py\n",
    "def show_count(count: int, word: str) -> str:\n",
    "```"
   ]
  },
  {
   "cell_type": "code",
   "execution_count": 16,
   "id": "4998135e-13bf-426c-88ad-a9c371cd982a",
   "metadata": {},
   "outputs": [
    {
     "name": "stdout",
     "output_type": "stream",
     "text": [
      "Success: no issues found in 1 source file\n"
     ]
    }
   ],
   "source": [
    "! mypy  --disallow-incomplete-defs ./messages/no_hints/messages_test.py"
   ]
  },
  {
   "cell_type": "markdown",
   "id": "bfe1be5a-75bf-4d6f-9248-cae26c7cbb82",
   "metadata": {},
   "source": [
    "除了在命令行中使用可选项之外，还可以把你想要的可选项写到Mypy配置文件中。可以有全局设定和模块设定。\n",
    "下面是一个简单的`mypy.ini`例子：\n",
    "```\n",
    "[mypy]\n",
    "python_version = 3.9\n",
    "warn_unused_configs = True\n",
    "disallow_incomplete_defs = True\n",
    "```\n",
    "\n",
    "## 默认的参数值\n",
    "\n",
    "示例中的`show_count`函数只用于(英文)常规名词。如果复数不能通过附加's'来拼写，我们应该让用户提供复数形式，像这样：\n",
    "```py\n",
    ">>> show_count(3, 'mouse', 'mice')\n",
    "'3 mice'\n",
    "```\n",
    "\n",
    "让我们做一点\"类型驱动开发\"。首先，我们添加一个使用第三个参数的测试。不要忘记向测试函数中添加返回类型提示，否则Mypy将不会检查它。\n",
    "```py\n",
    "def test_irregular() -> None:\n",
    "    got = show_count(2, 'child', 'children')\n",
    "    assert got == '2 children'\n",
    "```\n",
    "\n"
   ]
  },
  {
   "cell_type": "code",
   "execution_count": 18,
   "id": "09b17db4-9fc8-453d-bde6-0792b59bde57",
   "metadata": {},
   "outputs": [
    {
     "name": "stdout",
     "output_type": "stream",
     "text": [
      "messages\\hints_2\\messages_test.py:21: error: Too many arguments for \"show_count\"\n",
      "Found 1 error in 1 file (checked 1 source file)\n"
     ]
    }
   ],
   "source": [
    "! mypy  ./messages/hints_2/messages_test.py"
   ]
  },
  {
   "cell_type": "markdown",
   "id": "c55dab91-e4a9-43d0-9100-d21937694622",
   "metadata": {},
   "source": [
    "现在我们编辑`show_count`，增加可选的`plural`参数：\n",
    "```py\n",
    "def show_count(count: int, singular: str, plural: str = '') -> str:\n",
    "    if count == 1:\n",
    "        return f'1 {singular}'\n",
    "    count_str = str(count) if count else 'no'\n",
    "    if not plural:\n",
    "        plural = singular + 's'\n",
    "    return f'{count_str} {plural}'\n",
    "```\n",
    "\n"
   ]
  },
  {
   "cell_type": "code",
   "execution_count": 19,
   "id": "ee08c0ea-14b7-4f54-99c6-98a17674c7f9",
   "metadata": {},
   "outputs": [
    {
     "name": "stdout",
     "output_type": "stream",
     "text": [
      "Success: no issues found in 1 source file\n"
     ]
    }
   ],
   "source": [
    "! mypy  ./messages/hints_2/messages_test.py"
   ]
  },
  {
   "cell_type": "markdown",
   "id": "e9bc131d-6df9-4dd7-8534-2f93fa03dd1a",
   "metadata": {},
   "source": [
    "现在Mypy就不会报错了。\n",
    "\n",
    "## 使用None作为默认值\n",
    "\n",
    "在上面，参数`plural`被注解为`str`，它的默认值为`''`，所以没有类型冲突。\n",
    "\n",
    "这种方法不错，但在其他情况下，`None`是更好的默认值。如果可选的参数需要一个可变类型，那么`None`是唯一合理的默认值。\n",
    "\n",
    "为了让`None`作为`plural`参数的默认值，新的签名变成：\n",
    "```py\n",
    "from typing import Optional\n",
    "\n",
    "def show_count(count: int, singular: str, plural: Optional[str] = None) -> str:\n",
    "```\n",
    "\n",
    "我们拆开来看：\n",
    "* `Optional[str]` 意味着`plural`可以为`str`或`None`\n",
    "* 你必须显示地提供默认值` = None`\n",
    "\n",
    "如果没有为`plural`赋予默认值，Python运行时会将它看成必传参数。记住：在运行时，忽略类型注解。\n",
    "\n",
    "注意我们需要从`typing`引入`Optional`。在导入类型时，最好使用`from typing import X`的语法来减少函数签名的长度。\n",
    "\n",
    "> `Optional`并不是一个很好的名称，因为它不会使参数成为可选的。使参数成为可选的原因是为该参数分配一个默认值。`Optional[str]`仅表示：此参数的类型可以是`str`或`None`T类型。\n",
    "\n",
    "# 类型被定义来支持操作\n",
    "\n",
    "实际上，将受支持的操作集合看成一种类型的定义特征更有用。\n",
    "\n",
    "比如，从可用的操作角度来看，在下面的函数中，`x`的有效类型是什么？\n",
    "```py\n",
    "def double(x):\n",
    "    return x * 2\n",
    "```\n",
    "\n",
    "`x`参数类型可能是数值(`int`、`complex`、`Fraction`和`numpy.uint32`等)，但也可能是一个序列(`str`、`tuple`、`list`和`array`)，一个N维的`numpy.array`，或其他实现或继承了`__mul__`方法能接受`int`参数的类型。\n",
    "\n",
    "然而，考虑下面注解的`double`方法。先忽略返回类型，我们关注于参数类型：\n",
    "```py\n",
    "from collections import abc\n",
    "def double(x: abc.Sequence):\n",
    "    return x * 2\n",
    "```\n",
    "\n",
    "类型检查器会拒绝该代码。如果你告诉Mypy `x`是类型`abc.Sequence`，它会标记`x * 2`为错误因为`abc.Sequence`没有实现或继承`__mul__`方法。在运行时，该代码可以在具体的序列，比如`str`、`tuple`、`list`、`array`等，以及数值上正常运行，因为运行时忽略类型注解。但类型检查器只关心显示声明的，而`abc.Sequence`没有`__mul__`。\n",
    "\n",
    "这就是本小节的标题是“类型被定义来支持操作”的原因。Python运行时接收任意类型作为`x`参数。`x * 2`可能正常执行，或抛出`TypeError`(如果`x`不支持该操作)。相比之下，Mypy会认为注解版本下`doulbe`中的`x * 2`是错误的，因为`x`的类型`abc.Sequence`不支持该操作。\n",
    "\n",
    "在渐进类型系统中，我们有两种不同的观点相互作用：\n",
    "* 鸭子类型(Duck typing) 这种观点被Smalltalk——首创的面向对象语言——以及Pyhton,JS,Ruby采纳。对象必须指定类型，但变量(包括参数)是无类型的。实际上，对象定义的类型不重要，重要的是它实际支持的操作。如果我们能调用`birdie.quack()`，那么`birdie`在该上下文中是鸭子。根据定义，只有在运行时尝试对对象进行操作时才强制鸭子类型。这比名义类型更灵活，但代价是在运行时允许更多的错误。\n",
    "* 名义类型(Nominal typing) 该观点被C++、Java和C#采纳，也被注解的Python支持。对象和变量都有类型。但对象只在运行时存在，然后类型检查器只关心由类型注解标注的变量(和参数)的源码。如果`Duck`是`Bird`的子类，你可以分配一个`Duck`实例到标记为`Bird`的参数`birdie`。但在函数体中，\n"
   ]
  },
  {
   "cell_type": "code",
   "execution_count": null,
   "id": "9e990250-86bc-43ea-8d54-a9a85611c474",
   "metadata": {},
   "outputs": [],
   "source": []
  }
 ],
 "metadata": {
  "kernelspec": {
   "display_name": "Python 3 (ipykernel)",
   "language": "python",
   "name": "python3"
  },
  "language_info": {
   "codemirror_mode": {
    "name": "ipython",
    "version": 3
   },
   "file_extension": ".py",
   "mimetype": "text/x-python",
   "name": "python",
   "nbconvert_exporter": "python",
   "pygments_lexer": "ipython3",
   "version": "3.9.13"
  }
 },
 "nbformat": 4,
 "nbformat_minor": 5
}
