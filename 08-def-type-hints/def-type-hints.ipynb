{
 "cells": [
  {
   "cell_type": "markdown",
   "id": "1ed270bf-83d6-460e-a15b-db76d960b7a4",
   "metadata": {},
   "source": [
    "# 引言\n",
    "\n",
    "本章关注于Python在函数签名中的类型注解(Type Hints)。在Python中引入了显式的类型注解，可以为函数参数、返回值、变量等添加类型提示。主要目的在于帮助开发工具通过静态检查发现代码中的Bug。\n",
    "\n",
    "# 新内容简介\n",
    "\n",
    "全新内容。\n",
    "\n",
    "由于静态类型系统的限制，PEP 484 引入了渐进类型系统(gradual type system)。\n",
    "\n",
    "# 什么是渐进类型\n",
    "\n",
    "PEP 484 引入了渐进类型系统。一个渐进类型系统：\n",
    "* 是可选的 默认情况下，类型检查器不应该为没有类型注解的代码发出告警。当类型检查器不能决定对象的类型时，会假设它为`Any`类型。`Any`类型被认为与所有其他类型兼容。\n",
    "* 不在运行时捕获类型错误 类型注解由静态类型检查器使用，IDE会发出告警。但它们不会防止不一致的值传递到函数或在运行时赋值给变量。\n",
    "* 不增强性能 类型注解提供的数据理论上允许在生成的字节码上优化，但这种优化未在任何Python运行时中实现。\n",
    "\n",
    "\n",
    "\n",
    "渐进类型最有用的特征在于注解总是可选的。\n",
    "\n",
    "在静态类型系统中，大多数类型约束很容易表达，但还有一些是笨重的、一些是难的，还有一小部分是不可能的。你很可能会编写一段优秀的Python代码，具有良好的测试覆盖率和测试通过率，但仍无法增加使类型检查器满意的类型注解。\n",
    "\n",
    "类型注解在所有级别上都是可选的：你的整个包可以没有类型注解，当你引入该包到使用类型注解的模块时可以静默类型检查器，也可以增加特殊的评论来类型检查器忽略代码中特定的行。\n",
    "\n",
    "# 渐进类型实战\n",
    "\n",
    "由一个简单的函数开始，然后逐渐增加类型注解。\n",
    "`messages.py`\n",
    "```py\n",
    "def show_count(count, word):\n",
    "    if count == 1:\n",
    "        return f'1 {word}'\n",
    "    count_str = str(count) if count else 'no'\n",
    "    return f'{count_str} {word}s'\n",
    "```\n"
   ]
  },
  {
   "cell_type": "code",
   "execution_count": 3,
   "id": "21eb8878-9817-46a8-a0df-e617bcdd0d30",
   "metadata": {},
   "outputs": [
    {
     "data": {
      "text/plain": [
       "'99 birds'"
      ]
     },
     "execution_count": 3,
     "metadata": {},
     "output_type": "execute_result"
    }
   ],
   "source": [
    "def show_count(count, word):\n",
    "    if count == 1:\n",
    "        return f'1 {word}'\n",
    "    count_str = str(count) if count else 'no'\n",
    "    return f'{count_str} {word}s'\n",
    "\n",
    "\n",
    "show_count(99, 'bird')"
   ]
  },
  {
   "cell_type": "code",
   "execution_count": 4,
   "id": "740e4902-e970-4fdf-9a37-9629489bd798",
   "metadata": {},
   "outputs": [
    {
     "data": {
      "text/plain": [
       "'1 bird'"
      ]
     },
     "execution_count": 4,
     "metadata": {},
     "output_type": "execute_result"
    }
   ],
   "source": [
    "show_count(1, 'bird')"
   ]
  },
  {
   "cell_type": "code",
   "execution_count": 5,
   "id": "7676af4a-b654-4e60-b71d-7339890e22c9",
   "metadata": {},
   "outputs": [
    {
     "data": {
      "text/plain": [
       "'no birds'"
      ]
     },
     "execution_count": 5,
     "metadata": {},
     "output_type": "execute_result"
    }
   ],
   "source": [
    "show_count(0, 'bird')"
   ]
  },
  {
   "cell_type": "markdown",
   "id": "f6f852f2-51bd-4c00-8c74-95953e790b37",
   "metadata": {},
   "source": [
    "## 由Mypy开始\n",
    "\n",
    "在`messages.py`上运行`mypy`命令来开始类型检查："
   ]
  },
  {
   "cell_type": "code",
   "execution_count": 10,
   "id": "d0dc32e8-48ba-40b2-a14d-b11139507294",
   "metadata": {},
   "outputs": [
    {
     "name": "stdout",
     "output_type": "stream",
     "text": [
      "Requirement already satisfied: mypy in d:\\program_tool\\py39\\lib\\site-packages (0.982)\n",
      "Requirement already satisfied: typing-extensions>=3.10 in d:\\program_tool\\py39\\lib\\site-packages (from mypy) (3.10.0.2)\n",
      "Requirement already satisfied: tomli>=1.1.0 in d:\\program_tool\\py39\\lib\\site-packages (from mypy) (2.0.1)\n",
      "Requirement already satisfied: mypy-extensions>=0.4.3 in d:\\program_tool\\py39\\lib\\site-packages (from mypy) (0.4.3)\n"
     ]
    }
   ],
   "source": [
    "! pip install mypy"
   ]
  },
  {
   "cell_type": "code",
   "execution_count": 9,
   "id": "64410c9d-ca83-4d80-83d9-208d29b0bf6a",
   "metadata": {},
   "outputs": [
    {
     "name": "stdout",
     "output_type": "stream",
     "text": [
      "Success: no issues found in 1 source file\n"
     ]
    }
   ],
   "source": [
    "! mypy ./messages/no_hints/messages.py"
   ]
  },
  {
   "cell_type": "markdown",
   "id": "a61188a5-8395-48d9-b3ce-42aaa30504c5",
   "metadata": {},
   "source": [
    "此时Mypy没有发现任何问题。\n",
    "\n",
    "如果一个函数签名没有任何注解，Mypy默认会忽略它。下面，增加`pytest`单元测试，该代码在`messages_test.py`中：\n",
    "```py\n",
    "from pytest import mark\n",
    "\n",
    "from messages import show_count\n",
    "\n",
    "@mark.parametrize('qty, expected', [\n",
    "    (1, '1 part'),\n",
    "    (2, '2 parts'),\n",
    "])\n",
    "def test_show_count(qty, expected):\n",
    "    got = show_count(qty, 'part')\n",
    "    assert got == expected\n",
    "\n",
    "def test_show_count_zero():\n",
    "    got = show_count(0, 'part')\n",
    "    assert got == 'no parts'\n",
    "```\n",
    "\n",
    "下面开始增加类型注解。\n",
    "\n",
    "## 让Mypy更严格\n",
    "\n",
    "命令行可选项`--disallow-untyped-defs`使Mypy标记任何对其所有参数和返回值没有类型注解的函数定义。\n",
    "\n",
    "使用`--disallow-untyped-defs`在测试文件上产生三个error和一个note："
   ]
  },
  {
   "cell_type": "code",
   "execution_count": 13,
   "id": "27595697-867b-4572-83ef-ee620356142d",
   "metadata": {},
   "outputs": [
    {
     "name": "stdout",
     "output_type": "stream",
     "text": [
      "messages\\no_hints\\messages.py:1: error: Function is missing a type annotation\n",
      "messages\\no_hints\\messages_test.py:9: error: Function is missing a type annotation\n",
      "messages\\no_hints\\messages_test.py:13: error: Function is missing a return type annotation\n",
      "messages\\no_hints\\messages_test.py:13: note: Use \"-> None\" if function does not return a value\n",
      "Found 3 errors in 2 files (checked 1 source file)\n"
     ]
    }
   ],
   "source": [
    "! mypy  --disallow-untyped-defs ./messages/no_hints/messages_test.py"
   ]
  },
  {
   "cell_type": "markdown",
   "id": "07b57a4e-7816-4397-af7b-d1680be6e7ef",
   "metadata": {},
   "source": [
    "对于渐进类型的第一步，我倾向于使用另一个可选项：`--disallow-incomplete-defs`。初始时，它不会抱怨任何问题："
   ]
  },
  {
   "cell_type": "code",
   "execution_count": 14,
   "id": "38511ebd-4dd0-4257-8861-2662cc29be81",
   "metadata": {},
   "outputs": [
    {
     "name": "stdout",
     "output_type": "stream",
     "text": [
      "Success: no issues found in 1 source file\n"
     ]
    }
   ],
   "source": [
    "! mypy  --disallow-incomplete-defs ./messages/no_hints/messages_test.py"
   ]
  },
  {
   "cell_type": "markdown",
   "id": "18ffd0c4-dacd-449c-b382-21c51976ce68",
   "metadata": {},
   "source": [
    "接着，我可以仅为`message.py`中的`show_count`增加返回类型：\n",
    "```py\n",
    "def show_count(count, word) -> str:\n",
    "```\n",
    "这足以让Mypy查看它了。使用前面同样的命令行去检查`messages_test.py`会让Mypy再次查看`messages.py`："
   ]
  },
  {
   "cell_type": "code",
   "execution_count": 15,
   "id": "a2cf23f2-5cdd-462d-9491-0bd993e23482",
   "metadata": {},
   "outputs": [
    {
     "name": "stdout",
     "output_type": "stream",
     "text": [
      "messages\\no_hints\\messages.py:1: error: Function is missing a type annotation for one or more arguments\n",
      "Found 1 error in 1 file (checked 1 source file)\n"
     ]
    }
   ],
   "source": [
    "! mypy  --disallow-incomplete-defs ./messages/no_hints/messages_test.py"
   ]
  },
  {
   "cell_type": "markdown",
   "id": "95950816-4733-47d6-bcda-1a2f268216d9",
   "metadata": {},
   "source": [
    "现在我们可以逐渐为函数增加类型注解，而不会得到我们没有标注的告警。下面是能满足Mypy的完整带注解签名：\n",
    "```py\n",
    "def show_count(count: int, word: str) -> str:\n",
    "```"
   ]
  },
  {
   "cell_type": "code",
   "execution_count": 16,
   "id": "4998135e-13bf-426c-88ad-a9c371cd982a",
   "metadata": {},
   "outputs": [
    {
     "name": "stdout",
     "output_type": "stream",
     "text": [
      "Success: no issues found in 1 source file\n"
     ]
    }
   ],
   "source": [
    "! mypy  --disallow-incomplete-defs ./messages/no_hints/messages_test.py"
   ]
  },
  {
   "cell_type": "markdown",
   "id": "bfe1be5a-75bf-4d6f-9248-cae26c7cbb82",
   "metadata": {},
   "source": [
    "除了在命令行中使用可选项之外，还可以把你想要的可选项写到Mypy配置文件中。可以有全局设定和模块设定。\n",
    "下面是一个简单的`mypy.ini`例子：\n",
    "```\n",
    "[mypy]\n",
    "python_version = 3.9\n",
    "warn_unused_configs = True\n",
    "disallow_incomplete_defs = True\n",
    "```\n",
    "\n",
    "## 默认的参数值\n",
    "\n",
    "示例中的`show_count`函数只用于(英文)常规名词。如果复数不能通过附加's'来拼写，我们应该让用户提供复数形式，像这样：\n",
    "```py\n",
    ">>> show_count(3, 'mouse', 'mice')\n",
    "'3 mice'\n",
    "```\n",
    "\n",
    "让我们做一点\"类型驱动开发\"。首先，我们添加一个使用第三个参数的测试。不要忘记向测试函数中添加返回类型提示，否则Mypy将不会检查它。\n",
    "```py\n",
    "def test_irregular() -> None:\n",
    "    got = show_count(2, 'child', 'children')\n",
    "    assert got == '2 children'\n",
    "```\n",
    "\n"
   ]
  },
  {
   "cell_type": "code",
   "execution_count": 18,
   "id": "09b17db4-9fc8-453d-bde6-0792b59bde57",
   "metadata": {},
   "outputs": [
    {
     "name": "stdout",
     "output_type": "stream",
     "text": [
      "messages\\hints_2\\messages_test.py:21: error: Too many arguments for \"show_count\"\n",
      "Found 1 error in 1 file (checked 1 source file)\n"
     ]
    }
   ],
   "source": [
    "! mypy  ./messages/hints_2/messages_test.py"
   ]
  },
  {
   "cell_type": "markdown",
   "id": "c55dab91-e4a9-43d0-9100-d21937694622",
   "metadata": {},
   "source": [
    "现在我们编辑`show_count`，增加可选的`plural`参数：\n",
    "```py\n",
    "def show_count(count: int, singular: str, plural: str = '') -> str:\n",
    "    if count == 1:\n",
    "        return f'1 {singular}'\n",
    "    count_str = str(count) if count else 'no'\n",
    "    if not plural:\n",
    "        plural = singular + 's'\n",
    "    return f'{count_str} {plural}'\n",
    "```\n",
    "\n"
   ]
  },
  {
   "cell_type": "code",
   "execution_count": 19,
   "id": "ee08c0ea-14b7-4f54-99c6-98a17674c7f9",
   "metadata": {},
   "outputs": [
    {
     "name": "stdout",
     "output_type": "stream",
     "text": [
      "Success: no issues found in 1 source file\n"
     ]
    }
   ],
   "source": [
    "! mypy  ./messages/hints_2/messages_test.py"
   ]
  },
  {
   "cell_type": "markdown",
   "id": "e9bc131d-6df9-4dd7-8534-2f93fa03dd1a",
   "metadata": {},
   "source": [
    "现在Mypy就不会报错了。\n",
    "\n",
    "## 使用None作为默认值\n",
    "\n",
    "在上面，参数`plural`被注解为`str`，它的默认值为`''`，所以没有类型冲突。\n",
    "\n",
    "这种方法不错，但在其他情况下，`None`是更好的默认值。如果可选的参数需要一个可变类型，那么`None`是唯一合理的默认值。\n",
    "\n",
    "为了让`None`作为`plural`参数的默认值，新的签名变成：\n",
    "```py\n",
    "from typing import Optional\n",
    "\n",
    "def show_count(count: int, singular: str, plural: Optional[str] = None) -> str:\n",
    "```\n",
    "\n",
    "我们拆开来看：\n",
    "* `Optional[str]` 意味着`plural`可以为`str`或`None`\n",
    "* 你必须显示地提供默认值` = None`\n",
    "\n",
    "如果没有为`plural`赋予默认值，Python运行时会将它看成必传参数。记住：在运行时，忽略类型注解。\n",
    "\n",
    "注意我们需要从`typing`引入`Optional`。在导入类型时，最好使用`from typing import X`的语法来减少函数签名的长度。\n",
    "\n",
    "> `Optional`并不是一个很好的名称，因为它不会使参数成为可选的。使参数成为可选的原因是为该参数分配一个默认值。`Optional[str]`仅表示：此参数的类型可以是`str`或`None`T类型。\n",
    "\n",
    "# 类型被定义来支持操作\n",
    "\n",
    "实际上，将受支持的操作集合看成一种类型的定义特征更有用。\n",
    "\n",
    "比如，从可用的操作角度来看，在下面的函数中，`x`的有效类型是什么？\n",
    "```py\n",
    "def double(x):\n",
    "    return x * 2\n",
    "```\n",
    "\n",
    "`x`参数类型可能是数值(`int`、`complex`、`Fraction`和`numpy.uint32`等)，但也可能是一个序列(`str`、`tuple`、`list`和`array`)，一个N维的`numpy.array`，或其他实现或继承了`__mul__`方法能接受`int`参数的类型。\n",
    "\n",
    "然而，考虑下面注解的`double`方法。先忽略返回类型，我们关注于参数类型：\n",
    "```py\n",
    "from collections import abc\n",
    "def double(x: abc.Sequence):\n",
    "    return x * 2\n",
    "```\n",
    "\n",
    "类型检查器会拒绝该代码。如果你告诉Mypy `x`是类型`abc.Sequence`，它会标记`x * 2`为错误因为`abc.Sequence`没有实现或继承`__mul__`方法。在运行时，该代码可以在具体的序列，比如`str`、`tuple`、`list`、`array`等，以及数值上正常运行，因为运行时忽略类型注解。但类型检查器只关心显示声明的，而`abc.Sequence`没有`__mul__`。\n",
    "\n",
    "这就是本小节的标题是“类型被定义来支持操作”的原因。Python运行时接收任意类型作为`x`参数。`x * 2`可能正常执行，或抛出`TypeError`(如果`x`不支持该操作)。相比之下，Mypy会认为注解版本下`doulbe`中的`x * 2`是错误的，因为`x`的类型`abc.Sequence`不支持该操作。\n",
    "\n",
    "在渐进类型系统中，我们有两种不同的观点相互作用：\n",
    "* 鸭子类型(Duck typing) 这种观点被Smalltalk——首创的面向对象语言——以及Pyhton,JS,Ruby采纳。对象必须指定类型，但变量(包括参数)是无类型的。实际上，对象定义的类型不重要，重要的是它实际支持的操作。如果我们能调用`birdie.quack()`，那么`birdie`在该上下文中是鸭子。根据定义，只有在运行时尝试对对象进行操作时才强制鸭子类型。这比名义类型更灵活，但代价是在运行时允许更多的错误。\n",
    "* 名义类型(Nominal typing) 该观点被C++、Java和C#采纳，也被注解的Python支持。对象和变量都有类型。但对象只在运行时存在，然后类型检查器只关心由类型注解标注的变量(和参数)的源码。如果`Duck`是`Bird`的子类，你可以分配一个`Duck`实例到标记为`Bird`的参数`birdie`。但在函数体中，类型检查器认为调用`birdie.quack()`是非法的，因为`birdie`名义上是`Bird`，而该类没有提供`.quack()`方法。在运行时的实际参数是否为`Duck`并不重要，因为名义类型化是静态强制的。类型检查器不会运行任何程序，只会读取源代码。这比鸭子类型更严格，鸭子类型可以早在构建pipeline时就可以捕获一些bug，甚至在IDE中输入代码时。\n",
    "\n",
    "下面的示例故意同时对比鸭子类型和名义类型，以及静态类型检查和运行时行为。\n",
    "`birds.py`:\n",
    "```py\n",
    "class Bird:\n",
    "    pass\n",
    "\n",
    "class Duck(Bird):  # Duck是Bird子类\n",
    "    def quack(self):\n",
    "        print('Quack!')\n",
    "\n",
    "def alert(birdie):  # alert没有类型注解，所以类型检查忽略它\n",
    "    birdie.quack()\n",
    "\n",
    "def alert_duck(birdie: Duck) -> None:  # alert_duck接收一个类型为Duck的参数\n",
    "    birdie.quack()\n",
    "\n",
    "def alert_bird(birdie: Bird) -> None:  # alert_bird接收一个类型为Bird的参数\n",
    "    birdie.quack()\n",
    "```\n",
    "用Mypy进行类型检查，我们可以看到一个错误：\n"
   ]
  },
  {
   "cell_type": "code",
   "execution_count": 1,
   "id": "9e990250-86bc-43ea-8d54-a9a85611c474",
   "metadata": {},
   "outputs": [
    {
     "name": "stdout",
     "output_type": "stream",
     "text": [
      "birds\\birds.py:15: error: \"Bird\" has no attribute \"quack\"\n",
      "Found 1 error in 1 file (checked 1 source file)\n"
     ]
    }
   ],
   "source": [
    "! mypy  ./birds/birds.py"
   ]
  },
  {
   "cell_type": "markdown",
   "id": "47ddfbcb-e350-4158-870c-ef93a62511e2",
   "metadata": {},
   "source": [
    "我们来分析源码，Mypy发现`alert_bird`是有问题的：类型注解声明`birdie`参数的类型为`Bird`，但函数体调用的是`birdie.quack()`——`Bird`类没有这样的方法。\n",
    "\n",
    "现在我们试着在`daffy.py`中使用`birds`模块：\n",
    "`daffy.py`:\n",
    "```py\n",
    "from birds import *\n",
    "\n",
    "daffy = Duck()\n",
    "alert(daffy)       # 有效调用，alert没有类型注解\n",
    "alert_duck(daffy)  # 有效调用，alert_duck接收Duck参数，daffy是Duck\n",
    "alert_bird(daffy)  # 有效调用，alert_bird接收Bird参数，daffy也是Bird——Duck的超类\n",
    "```\n",
    "\n",
    "在`daffy.py`上运行Mypy抛出同样的错误："
   ]
  },
  {
   "cell_type": "code",
   "execution_count": 2,
   "id": "6f7e324e-b6f5-40e5-b00e-2b7f5a93f752",
   "metadata": {},
   "outputs": [
    {
     "name": "stdout",
     "output_type": "stream",
     "text": [
      "birds\\birds.py:15: error: \"Bird\" has no attribute \"quack\"\n",
      "Found 1 error in 1 file (checked 1 source file)\n"
     ]
    }
   ],
   "source": [
    "! mypy  ./birds/daffy.py"
   ]
  },
  {
   "cell_type": "markdown",
   "id": "627ca975-2dd9-4e90-9ab3-841fd5a55714",
   "metadata": {},
   "source": [
    "但是Mypy认为`daffy.py`本身并没有什么问题：这三个函数调用没问题。\n",
    "现在，如果你运行`daffy.py`,你会得到："
   ]
  },
  {
   "cell_type": "code",
   "execution_count": 3,
   "id": "0f5b2dc7-5d7f-4031-a2a5-67fa96a43093",
   "metadata": {},
   "outputs": [
    {
     "name": "stdout",
     "output_type": "stream",
     "text": [
      "Quack!\n",
      "Quack!\n",
      "Quack!\n"
     ]
    }
   ],
   "source": [
    "! python ./birds/daffy.py"
   ]
  },
  {
   "cell_type": "markdown",
   "id": "4d7e4513-df5d-4265-afde-2fbef7d5534d",
   "metadata": {},
   "source": [
    "所有方法都没问题。\n",
    "在运行时，Python不会关心声明类型。它只用鸭子类型。Mypy在`alert_bird`上标记了一个错误，但通过`daffy`在运行时调用它却没问题。\n",
    "刚开始让很多Pythonistas惊讶：一个静态类型检查器有时会在我们知道可以执行的程序中发现错误。\n",
    "\n",
    "然而，如果几个月后你的任务是扩展这个`bird`的例子，你可能会感激Mypy。考虑一下这个`woody.py`模块，它也使用了`birds`：\n",
    "`woody.py`:\n",
    "```py\n",
    "from birds import *\n",
    "\n",
    "woody = Bird()\n",
    "alert(woody)\n",
    "alert_duck(woody)\n",
    "alert_bird(woody)\n",
    "```\n",
    "\n"
   ]
  },
  {
   "cell_type": "code",
   "execution_count": 5,
   "id": "e50a3d25-163e-48fc-a3ba-8f21d571081f",
   "metadata": {},
   "outputs": [
    {
     "name": "stdout",
     "output_type": "stream",
     "text": [
      "birds\\birds.py:15: error: \"Bird\" has no attribute \"quack\"\n",
      "birds\\woody.py:5: error: Argument 1 to \"alert_duck\" has incompatible type \"Bird\"; expected \"Duck\"\n",
      "Found 2 errors in 2 files (checked 1 source file)\n"
     ]
    }
   ],
   "source": [
    "! mypy  ./birds/woody.py"
   ]
  },
  {
   "cell_type": "markdown",
   "id": "6058d7f5-75d3-446f-a430-07534f91c591",
   "metadata": {},
   "source": [
    "Mypy发现了两个错误，第一个是在`birds.py`中：`alert_bird`内的`birdie.quack()`，我们之前见过。\n",
    "第二个是在`woody.py`中：`woody`是`Bird`的实例，所以调用`alert_duck(woody)`是无效的，因为该函数需要的是`Duck`。每个`Duck`都是`Bird`，但并不是每个`Bird`都是`Duck`。\n",
    "\n",
    "在运行时，`woody.py`中没有一个成功执行的。"
   ]
  },
  {
   "cell_type": "code",
   "execution_count": 11,
   "id": "f153213b-78c8-41d4-854e-7da37f15c3d9",
   "metadata": {},
   "outputs": [
    {
     "ename": "AttributeError",
     "evalue": "'Bird' object has no attribute 'quack'",
     "output_type": "error",
     "traceback": [
      "\u001b[1;31m---------------------------------------------------------------------------\u001b[0m",
      "\u001b[1;31mAttributeError\u001b[0m                            Traceback (most recent call last)",
      "Cell \u001b[1;32mIn [11], line 3\u001b[0m\n\u001b[0;32m      1\u001b[0m \u001b[38;5;28;01mfrom\u001b[39;00m \u001b[38;5;21;01mbirds\u001b[39;00m\u001b[38;5;21;01m.\u001b[39;00m\u001b[38;5;21;01mbirds\u001b[39;00m \u001b[38;5;28;01mimport\u001b[39;00m \u001b[38;5;241m*\u001b[39m\n\u001b[0;32m      2\u001b[0m woody \u001b[38;5;241m=\u001b[39m Bird()\n\u001b[1;32m----> 3\u001b[0m \u001b[43malert\u001b[49m\u001b[43m(\u001b[49m\u001b[43mwoody\u001b[49m\u001b[43m)\u001b[49m\n",
      "File \u001b[1;32mD:\\workspace\\fluent-python-2nd\\08-def-type-hints\\birds\\birds.py:9\u001b[0m, in \u001b[0;36malert\u001b[1;34m(birdie)\u001b[0m\n\u001b[0;32m      8\u001b[0m \u001b[38;5;28;01mdef\u001b[39;00m \u001b[38;5;21malert\u001b[39m(birdie):  \n\u001b[1;32m----> 9\u001b[0m     \u001b[43mbirdie\u001b[49m\u001b[38;5;241;43m.\u001b[39;49m\u001b[43mquack\u001b[49m()\n",
      "\u001b[1;31mAttributeError\u001b[0m: 'Bird' object has no attribute 'quack'"
     ]
    }
   ],
   "source": [
    "from birds.birds import *\n",
    "woody = Bird()\n",
    "alert(woody) # Mypy无法检测到此错误，因为alert中没有类型提示。"
   ]
  },
  {
   "cell_type": "code",
   "execution_count": 13,
   "id": "ba4265c1-90c6-4a60-a122-e083990bbb32",
   "metadata": {},
   "outputs": [
    {
     "ename": "AttributeError",
     "evalue": "'Bird' object has no attribute 'quack'",
     "output_type": "error",
     "traceback": [
      "\u001b[1;31m---------------------------------------------------------------------------\u001b[0m",
      "\u001b[1;31mAttributeError\u001b[0m                            Traceback (most recent call last)",
      "Cell \u001b[1;32mIn [13], line 1\u001b[0m\n\u001b[1;32m----> 1\u001b[0m \u001b[43malert_duck\u001b[49m\u001b[43m(\u001b[49m\u001b[43mwoody\u001b[49m\u001b[43m)\u001b[49m\n",
      "File \u001b[1;32mD:\\workspace\\fluent-python-2nd\\08-def-type-hints\\birds\\birds.py:12\u001b[0m, in \u001b[0;36malert_duck\u001b[1;34m(birdie)\u001b[0m\n\u001b[0;32m     11\u001b[0m \u001b[38;5;28;01mdef\u001b[39;00m \u001b[38;5;21malert_duck\u001b[39m(birdie: Duck) \u001b[38;5;241m-\u001b[39m\u001b[38;5;241m>\u001b[39m \u001b[38;5;28;01mNone\u001b[39;00m:  \n\u001b[1;32m---> 12\u001b[0m     \u001b[43mbirdie\u001b[49m\u001b[38;5;241;43m.\u001b[39;49m\u001b[43mquack\u001b[49m()\n",
      "\u001b[1;31mAttributeError\u001b[0m: 'Bird' object has no attribute 'quack'"
     ]
    }
   ],
   "source": [
    "alert_duck(woody) # Mypy报告了该问题：第一个参数的类型不兼容，期望Duck"
   ]
  },
  {
   "cell_type": "code",
   "execution_count": 14,
   "id": "40fd6814-7b50-49e9-9c4b-87a52bdce5dd",
   "metadata": {},
   "outputs": [
    {
     "ename": "AttributeError",
     "evalue": "'Bird' object has no attribute 'quack'",
     "output_type": "error",
     "traceback": [
      "\u001b[1;31m---------------------------------------------------------------------------\u001b[0m",
      "\u001b[1;31mAttributeError\u001b[0m                            Traceback (most recent call last)",
      "Cell \u001b[1;32mIn [14], line 1\u001b[0m\n\u001b[1;32m----> 1\u001b[0m \u001b[43malert_bird\u001b[49m\u001b[43m(\u001b[49m\u001b[43mwoody\u001b[49m\u001b[43m)\u001b[49m\n",
      "File \u001b[1;32mD:\\workspace\\fluent-python-2nd\\08-def-type-hints\\birds\\birds.py:15\u001b[0m, in \u001b[0;36malert_bird\u001b[1;34m(birdie)\u001b[0m\n\u001b[0;32m     14\u001b[0m \u001b[38;5;28;01mdef\u001b[39;00m \u001b[38;5;21malert_bird\u001b[39m(birdie: Bird) \u001b[38;5;241m-\u001b[39m\u001b[38;5;241m>\u001b[39m \u001b[38;5;28;01mNone\u001b[39;00m:  \n\u001b[1;32m---> 15\u001b[0m     \u001b[43mbirdie\u001b[49m\u001b[38;5;241;43m.\u001b[39;49m\u001b[43mquack\u001b[49m()\n",
      "\u001b[1;31mAttributeError\u001b[0m: 'Bird' object has no attribute 'quack'"
     ]
    }
   ],
   "source": [
    "alert_bird(woody) # Mypy告诉我们alert_bird的函数体是错误的：Bird没有属性quack"
   ]
  },
  {
   "cell_type": "markdown",
   "id": "9a5f05b5-361f-4d9b-9ed4-7f0025371a33",
   "metadata": {},
   "source": [
    "这个小实验表明，鸭子类型更容易理解，也更灵活，但允许不受支持的操作在运行时导致错误。标称输入在运行前检测错误，但有时会拒绝实际运行的代码——例如上面示例中的调用`allalert_bird(daffy)`。即使它有时可以工作，`alert_bird`函数的命名也是错误的：它的主体确实需要一个支持`.quack()`方法的对象，而`Bird`没有这个方法。\n",
    "\n",
    "在这个例子中，函数是单行的。但在实际代码中，它们可以更长；他们可以将`birdie`参数传递给更多的函数，而`birdie`参数的起源可能是许多函数调用，这使得很难查明运行时错误的原因。类型检查器可以防止在运行时发生许多这样的错误。\n",
    "\n",
    "# 注解可用的类型\n",
    "\n",
    "有很多Python类型可用在类型注解上，但这里有一些约束和建议。除此之外，`typing`模块引入了令人惊讶的特殊的具有语义的结构。\n",
    "\n",
    "## Any类型\n",
    "\n",
    "任何渐进类型系统的基石是`Any`类型，也被称为动态类型。当类型检查器看到未注解的函数：\n",
    "```py\n",
    "def double(x):\n",
    "    return x * 2\n",
    "```\n",
    "它会假设为：\n",
    "```py\n",
    "def double(x: Any) -> Any:\n",
    "    return x * 2\n",
    "```\n",
    "这意味着`x`和返回值可以是任何类型，包括不同的类型。`Any`被认为可以支持任何操作。\n",
    "\n",
    "`Any`与`object`对比，考虑下面的签名：\n",
    "```py\n",
    "def double(x: object) -> object:\n",
    "```\n",
    "该函数也支持任何类型的参数，因为所有类型都是`object`子类。\n",
    "\n",
    "然而，类型检查器会拒绝该函数。因为`object`不支持`__mul__`操作："
   ]
  },
  {
   "cell_type": "code",
   "execution_count": 15,
   "id": "8ed65134-7b06-4476-ae1e-5c7b7a3e0ae3",
   "metadata": {},
   "outputs": [
    {
     "name": "stdout",
     "output_type": "stream",
     "text": [
      "double\\double_object.py:2: error: Unsupported operand types for * (\"object\" and \"int\")\n",
      "Found 1 error in 1 file (checked 1 source file)\n"
     ]
    }
   ],
   "source": [
    "! mypy  ./double/double_object.py"
   ]
  },
  {
   "cell_type": "markdown",
   "id": "71eed5d3-31ce-4e6b-ac3b-40b0d835d9ce",
   "metadata": {},
   "source": [
    "更通用的类型具有更窄(narrower)的接口，比如，它们支持更少的操作。`object`比`abc.Sequence`实现的操作更少，而后者比`abc.MutableSequence`实现的更少。\n",
    "\n",
    "但`Any`是一个魔法类型，它位于类型层次结构的顶部和底部。它同时也是最通用的类型——所以一个参数`n: Any`支持任何类型的值——同时最具体的类型，支持任何可能的操作。至少，这是类型检查器理解的`Any`。\n",
    "\n",
    "当然，没有类型可以支持所有可能的操作，所以使用`Any`可以阻止类型检查器完成其核心任务：在程序崩溃和运行时异常之前检测潜在的非法操作。\n",
    "\n",
    "### 子类型vs一致\n",
    "传统的面向对象名义类型系统依赖子类型关系。给定一个类`T1`和一个子类`T2`，那么`T2`是`T1`的子类型。\n",
    "考虑下面的代码：\n",
    "\n",
    "```py\n",
    "class T1:\n",
    "    pass\n",
    "\n",
    "class T2(T1):\n",
    "     pass\n",
    "    \n",
    "def f1(p: T1) -> None:\n",
    "    pass\n",
    "\n",
    "o2 = T2()\n",
    "\n",
    "f1(o2) # OK\n",
    "```\n",
    "\n",
    "`f1(o2)`是里氏替代原则的应用。Barbara Liskov实际上定义的是关于支持的操作的子类型：如果`T2`类型的对象替换了`T1`类型的对象，并且该程序仍然正确地行为，则`T2`是`T1`的子类型。\n",
    "\n",
    "继续前面的代码，下面显示违背了里氏替代原则：\n",
    "```py\n",
    "def f2(p: T2) -> None:\n",
    "    pass\n",
    "\n",
    "o1 = T1()\n",
    "\n",
    "f2(o1) # 类型错误\n",
    "```\n",
    "\n",
    "从支持操作的角度来看，这是完全有意义的：作为子类，`T2`继承且必须支持`T1`的所有操作。所以一个`T2`的实例能用在任何期望为`T1`实例的地方。但反过来不一定成立：`T2`可能实现了额外的方法，所以`T1`的实例就可能无法应用到`T2`能用的地方。\n",
    "\n",
    "在渐进类型系统中，有另外一种关系：一致(consistent-with)，适用于子类型的适用范围，并对`Any`类型有特殊规定。\n",
    "\n",
    "一致的规则是：\n",
    "1. 给定类型`T1`和子类型`T2`，那么`T2`与`T1`是一致的。\n",
    "2. 所有的类型与`Any`都是一致的：你可以传递任何类型的对象到声明为`Any`类型的参数。\n",
    "3. `Any`与所有类型一致：你总可以传递`Any`类型到期望其他类型的参数。\n",
    "\n",
    "下面是解释规则2,3的代码：\n",
    "```py\n",
    "def f3(p: Any) -> None:\n",
    "    ...\n",
    "    \n",
    "o0 = object()\n",
    "o1 = T1()\n",
    "o2 = T2()\n",
    "f3(o0) #\n",
    "f3(o1) # all OK: rule #2\n",
    "f3(o2) #\n",
    "\n",
    "def f4(): # 隐式返回类型 : `Any`\n",
    "    ...\n",
    "o4 = f4() # 引用的类型: `Any`\n",
    "f1(o4) #\n",
    "f2(o4) # all OK: rule #3\n",
    "f3(o4) #\n",
    "```\n",
    "\n",
    "所有的渐进类型系统都需要一个像`Any`这样的通配符类型。\n",
    "\n",
    "\n",
    "## 简单类型和类\n",
    "\n",
    "简单类型像`int`,`float`,`str`和`bytes`可以直接用于类型注解。标准库中的具体类、外部包或用户定义的类也能用于类型注解。\n",
    "\n",
    "抽象类可用在类型注解。\n",
    "\n",
    "在类中，一致(consistent-with)像子类型那样定义：一个子类与所有它的父类一致。\n",
    "\n",
    "然而，实用优于纯粹，所以有一个重要的例外，如下所述。\n",
    "\n",
    "** `int`与`complex`一致\n",
    "\n",
    "内置类型`int`、`float`、`complex`类型之间不存在名义的子类型关系：它们是`object`的直接子类。但是PEP 484声明`int`与`float`是一致的，`float`与`complex`是一致的。它在实践中是有意义的：`int`实现了所有`float`执行的操作，且`int`实现其他操作——位操作，如`&`、`|`、`<<`等。最终的结果是： `int`与`complex`是一致的。对于`i = 3`，`i.rea`l是`3`，`i.imag`是`0`。\n",
    "\n",
    "## Optional和Union类型\n",
    "\n",
    "`Optional`解决了`None`作为默认值的问题：\n",
    "```py\n",
    "from typing import Optional\n",
    "def show_count(count: int, singular: str, plural: Optional[str] = None) -> str:\n",
    "```\n",
    "\n",
    "`Optional[str]`实际上是`Union[str, None]`的简写，后者一位置`plural`的类型可以是`str`或`None`。\n",
    "\n",
    "**在Python3.10中比`Optional`和`Union`更好的语法**\n",
    "\n",
    "在Python3.10中，我们可以写`str | bytes`而不是`Union[str, bytes]`。它更简介，且不需要从`typing`中引入`Optional`或`Union`。\n",
    "对比旧语法和新语法：\n",
    "```py\n",
    "plural: Optional[str] = None # 旧\n",
    "plural: str | None = None # 新\n",
    "```\n",
    "`|`操作符也能与`isintance`和`issubclass`一起用来构建第二个参数：`isinstance(x, int | str)`。\n",
    "\n",
    "\n",
    "内置函数`ord`的签名是`Union`的简单例子——它接收`str`或`bytes`，然后返回`int`:\n",
    "```py\n",
    "def ord(c: Union[str, bytes]) -> int: ...\n",
    "```\n",
    "还可以以`str`为参数，接收`str`或`float`:\n",
    "```py\n",
    "from typing import Union\n",
    "def parse_token(token: str) -> Union[str, float]:\n",
    "    try:\n",
    "        return float(token)\n",
    "    except ValueError:\n",
    "        return token\n",
    "```\n",
    "可以的话，不要创建返回`Union`类型的函数，因为它们给用户带来额外的负担——强制用户在运行时检查返回值类型。但上面的`parse_token`是一个合理的用例。\n",
    "\n",
    "`Union[]`至少需要两个类型。嵌套的`Union`类型与扁平的一样：\n",
    "```py\n",
    "Union[A, B, Union[C, D, E]]\n",
    "```\n",
    "与\n",
    "```py\n",
    "Union[A, B, C, D, E]\n",
    "```\n",
    "效果相同。\n",
    "\n",
    "`Union`对于它们之间不一致的类型更有用。比如：`Union[int, float]`是多余的，因为`int`与`float`是一致的。如果你只使用`float`来注释参数，那么它也会接受`int`值。\n",
    "\n",
    "## 泛型\n",
    "\n",
    "大多数Python集合都是异构的。例如，你可以在一个列表中混合不同类型的。但是，在实际中，这并不是很有用：如果你将对象放在集合中，你可能希望稍后对它们进行操作，通常这意味着它们必须至少共享一个常见的方法。\n",
    "\n",
    "泛型可以用类型参数来声明，以指定它们可以处理的元素的类型。\n",
    "\n",
    "比如，`list`能约束其中元素的类型，比如："
   ]
  },
  {
   "cell_type": "code",
   "execution_count": 19,
   "id": "e3d7bd32-b3a1-44a1-8f04-aedf01593016",
   "metadata": {},
   "outputs": [],
   "source": [
    "def tokenize(text: str) -> list[str]:\n",
    "    return text.upper().split()"
   ]
  },
  {
   "cell_type": "markdown",
   "id": "1ea8cfff-2a5c-4a1d-8fd1-acb8f29b7ccd",
   "metadata": {},
   "source": [
    "在Python≥3.9中，这意味着`tokenize`返回一个列表，其中的元素是`str`类型。\n",
    "注解`stuff: list`和`stuff: list[Any]`是一样的：`stuff`是任意类型的列表。\n",
    "\n",
    "PEP 585列出了标准库中的接收泛型注解的集合。下面的列表仅显示使用最简单的泛型类型注解，`container[item]`目录：\n",
    "\n",
    "* list \n",
    "* collections.deque \n",
    "* abc.Sequence \n",
    "* abc.MutableSequence\n",
    "* set \n",
    "* abc.Container\n",
    "* abc.Set \n",
    "* abc.MutableSet\n",
    "* frozenset \n",
    "* abc.Collection\n",
    "\n",
    "元组和映射支持更复杂的类型注解，我们后面再探讨。\n",
    "\n",
    "从Python3.10开始，没有好的方式去标注`array.array`，考虑`typecode`构造函数参数，它决定数组中存储的是整数还是浮点数。一个更难的问题是当为数组添加元素时如何检查整数的范围以防止溢出。比如，`typecode='B'`的数组只能存储从0到255的`int`值。因此，Python的静态类型系统并不能满足这个挑战。\n",
    "\n",
    "## 元组类型\n",
    "\n",
    "有三种方法来注解元组类型：\n",
    "* 元组作为记录(record)\n",
    "* 元组作为带有命名字段的记录\n",
    "* 元组作为不可变序列\n",
    "\n",
    "### 元组作为记录\n",
    "\n",
    "如果你把元组当成记录使用，使用元组内置并通过`[]`定义字段类型。\n",
    "\n",
    "比如，类型注解为`tuple[str, float, str]`来接收具有城市名、人口和国家的元组：` ('Shanghai', 24.28, 'China')`。\n",
    "\n",
    "考虑一个函数，它接受一对地理坐标并返回一个地理散列，使用如下：\n",
    "```py\n",
    ">>> shanghai = 31.2304, 121.4737\n",
    ">>> geohash(shanghai)\n",
    "'wtw3sjq6q'\n",
    "```\n",
    "\n",
    "下面显示`geohash`是如何定义的：\n"
   ]
  },
  {
   "cell_type": "code",
   "execution_count": 5,
   "id": "97bd3a6d-9d54-4adb-afa1-566ddabf24a8",
   "metadata": {},
   "outputs": [],
   "source": [
    "from geolib import geohash as gh # type: ignore  # 该注释阻止Mypy报告geolib包没有类型注解\n",
    "\n",
    "PRECISION = 9\n",
    "\n",
    "def geohash(lat_lon: tuple[float, float]) -> str:  # lat_lon参数注解为有两个float字段的元组\n",
    "    return gh.encode(*lat_lon, PRECISION)"
   ]
  },
  {
   "cell_type": "markdown",
   "id": "dfc606b1-b352-4405-90e1-497d9fb5fc74",
   "metadata": {},
   "source": [
    "### 元组作为带有命名字段的记录\n",
    "\n",
    "为了注解一个具有很多字段，或指定类型的元组，强烈建议使用`typing.NamedTuple`。\n"
   ]
  },
  {
   "cell_type": "code",
   "execution_count": 6,
   "id": "38e1beae-bcda-46de-9eac-0d1a2529760e",
   "metadata": {},
   "outputs": [],
   "source": [
    "from typing import NamedTuple\n",
    "from geolib import geohash as gh # type: ignore\n",
    "PRECISION = 9\n",
    "\n",
    "class Coordinate(NamedTuple):\n",
    "    lat: float\n",
    "    lon: float\n",
    "    \n",
    "def geohash(lat_lon: Coordinate) -> str:\n",
    "    return gh.encode(*lat_lon, PRECISION)"
   ]
  },
  {
   "cell_type": "markdown",
   "id": "65da9ad7-a1ec-4681-acb7-1e5e80af0bb5",
   "metadata": {},
   "source": [
    "`typing.NamedTuple`是用于元组子类的工厂，所以`Coordinate`与`tuple[float, float]`一致，但反过来不成立。毕竟，`Coordinate`有`NamedTuple`添加的额外方法，像`._asdict()`。\n",
    "\n",
    "实际上，这意味着传递一个`Coordiante`实例到下面定义的`display`函数是类型安全的："
   ]
  },
  {
   "cell_type": "code",
   "execution_count": 7,
   "id": "fb1a69ba-2dab-47f1-b21b-fc655e155f4b",
   "metadata": {},
   "outputs": [],
   "source": [
    "def display(lat_lon: tuple[float, float]) -> str:\n",
    "    lat, lon = lat_lon\n",
    "    ns = 'N' if lat >= 0 else 'S'\n",
    "    ew = 'E' if lon >= 0 else 'W'\n",
    "    return f'{abs(lat):0.1f}°{ns}, {abs(lon):0.1f}°{ew}'"
   ]
  },
  {
   "cell_type": "markdown",
   "id": "3a844c0f-8f51-4481-a78d-0689889bd074",
   "metadata": {},
   "source": [
    "### 元组作为不可变序列\n",
    "\n",
    "为了注解未指定长度作为不可变列表的元组，你必须指定单个类型，然后是`,`和`...`。\n",
    "\n",
    "比如，`tuple[int, ...]`是一个包含`int`元素的元组。\n",
    "\n",
    "`...`(省略)表示任何数量的(>=1)元素是可接受的。但没有办法为任意长度的元组指定不同类型的字段。\n",
    "\n",
    "注解`stuff: tuple[Any, ...]`和`stuff: tuple`是一样的：`stuff`是一个未定长度包含`Any`类型的元组。\n",
    "\n",
    "下面是一个`columnize`函数，将一个序列转换成未定长度的元组列表，作为表格中的rows和cells："
   ]
  },
  {
   "cell_type": "code",
   "execution_count": 8,
   "id": "b050fd52-4e49-4127-a805-a3bd43ba9772",
   "metadata": {},
   "outputs": [],
   "source": [
    "from collections.abc import Sequence\n",
    "\n",
    "def columnize(\n",
    "    sequence: Sequence[str], num_columns: int = 0\n",
    ") -> list[tuple[str, ...]]:\n",
    "    if num_columns == 0:\n",
    "        num_columns = round(len(sequence) ** 0.5)\n",
    "    num_rows, reminder = divmod(len(sequence), num_columns)\n",
    "    num_rows += bool(reminder)\n",
    "    return [tuple(sequence[i::num_rows]) for i in range(num_rows)]"
   ]
  },
  {
   "cell_type": "markdown",
   "id": "df97cab2-48f2-4915-9c8c-ff915502d9c1",
   "metadata": {},
   "source": [
    "这非常适合于展示列中的项，比如："
   ]
  },
  {
   "cell_type": "code",
   "execution_count": 9,
   "id": "7e7d116b-b1f2-4589-9e42-1f630e3b92d3",
   "metadata": {},
   "outputs": [
    {
     "data": {
      "text/plain": [
       "[('drake', 'koala', 'yak'),\n",
       " ('fawn', 'lynx', 'zapus'),\n",
       " ('heron', 'tahr'),\n",
       " ('ibex', 'xerus')]"
      ]
     },
     "execution_count": 9,
     "metadata": {},
     "output_type": "execute_result"
    }
   ],
   "source": [
    "animals = 'drake fawn heron ibex koala lynx tahr xerus yak zapus'.split()\n",
    "table = columnize(animals)\n",
    "table"
   ]
  },
  {
   "cell_type": "markdown",
   "id": "6244723a-a85c-456a-87fa-81f875c70aa8",
   "metadata": {},
   "source": [
    "## 泛型映射\n",
    "\n",
    "泛型映射类型被标注为`MappingType[KeyType, ValueType]`。在Python≥3.9中，内置的`dict`和`collections`以及`collections.abc`中的映射类型接受该注解。对于早期版本，你必须使用`typing.Dict`和其他`typing`模块中的映射类型。\n",
    "\n",
    "下面显示了一个返回反向索引的函数来按名称搜索Unicode字符的实际用法。"
   ]
  },
  {
   "cell_type": "code",
   "execution_count": 31,
   "id": "323a8421-e1e8-49ce-9ef1-b446da1e695c",
   "metadata": {},
   "outputs": [],
   "source": [
    "import sys\n",
    "import re\n",
    "import unicodedata\n",
    "from collections.abc import Iterator\n",
    "\n",
    "RE_WORD = re.compile(r'\\w+')\n",
    "STOP_CODE = sys.maxunicode + 1\n",
    "\n",
    "def tokenize(text: str) -> Iterator[str]:  # 这是一个生成器函数\n",
    "    \"\"\"return iterable of uppercased words\"\"\"\n",
    "    for match in RE_WORD.finditer(text):\n",
    "        yield match.group().upper()\n",
    "\n",
    "\n",
    "def name_index(start: int = 32, end: int = STOP_CODE) -> dict[str, set[str]]:\n",
    "    # 局部变量index被标注了，否则，Mypy会报告： Need type annotation for 'index' (hint: \"index: dict[<type>, <type>] = ...\")\n",
    "    index: dict[str, set[str]] = {}  \n",
    "    for char in (chr(i) for i in range(start, end)):\n",
    "        # 使用海象运算符保存if表达式中的unicodedata.name(char, '')的结果到name，并根据这个name来进行判断，如果为''，则条件为False\n",
    "        # unicodedata.name(char, '')返回char对应的名称，比如unicodedata.name('$')='DOLLAR SIGN'\n",
    "        if name := unicodedata.name(char, ''): \n",
    "            # 为名称进行分词\n",
    "            for word in tokenize(name):\n",
    "                index.setdefault(word, set()).add(char)\n",
    "    return index"
   ]
  },
  {
   "cell_type": "markdown",
   "id": "e5e2359e-521a-48a9-8652-a86b8566f6d3",
   "metadata": {},
   "source": [
    "给定开始和结束Unicode字符码，`name_index`返回一个`dict[str, set[str]]`，这是一个反向索引映射每个单词到一组名称中有该单词的字符。\n",
    "比如在索引ASCII字符从32到64后，下面是映射到单词'SIGN'和'DIGIT'的字符集，以及如何找到名为'DIGIT EIGHT'的字符。\n"
   ]
  },
  {
   "cell_type": "code",
   "execution_count": 32,
   "id": "f66c829e-df1d-4afa-8d84-97aa67af3338",
   "metadata": {},
   "outputs": [
    {
     "data": {
      "text/plain": [
       "{'#', '$', '%', '+', '<', '=', '>'}"
      ]
     },
     "execution_count": 32,
     "metadata": {},
     "output_type": "execute_result"
    }
   ],
   "source": [
    "index = name_index(32, 65)\n",
    "index['SIGN']"
   ]
  },
  {
   "cell_type": "code",
   "execution_count": 33,
   "id": "2670c747-6e90-4e78-9ae5-bbe1a5de3577",
   "metadata": {},
   "outputs": [
    {
     "data": {
      "text/plain": [
       "{'0', '1', '2', '3', '4', '5', '6', '7', '8', '9'}"
      ]
     },
     "execution_count": 33,
     "metadata": {},
     "output_type": "execute_result"
    }
   ],
   "source": [
    "index['DIGIT']"
   ]
  },
  {
   "cell_type": "code",
   "execution_count": 34,
   "id": "ad357de1-c40a-49aa-88ca-0735872af457",
   "metadata": {},
   "outputs": [
    {
     "data": {
      "text/plain": [
       "{'8'}"
      ]
     },
     "execution_count": 34,
     "metadata": {},
     "output_type": "execute_result"
    }
   ],
   "source": [
    "index['DIGIT'] & index['EIGHT']"
   ]
  },
  {
   "cell_type": "markdown",
   "id": "a1259dda-3f45-4f93-a2fd-86ea9293928b",
   "metadata": {},
   "source": [
    "## 抽象基类\n",
    "\n",
    "|  Collection   | 相应类型注解  |\n",
    "|  ----  | ----  |\n",
    "|  list | typing.List |\n",
    "|  set | typing.Set |\n",
    "| frozenset | typing.FrozenSet |\n",
    "| collections.deque | typing.Deque |\n",
    "| collections.abc.MutableSequence | typing.MutableSequence |\n",
    "|collections.abc.Sequence|typing.Sequence|\n",
    "| collections.abc.Set |typing.AbstractSet|\n",
    "|collections.abc.MutableSet|typing.MutableSet|\n",
    "\n",
    "上表是一些集合类型和它们对应的类型注解。\n",
    "理论上，一个函数应该接收这些抽象类型——或它们相等的`typing`类型注解，这会给调用者更多的灵活性。\n",
    "\n",
    "考虑下面的签名：\n",
    "```py\n",
    "from collections.abc import Mapping\n",
    "\n",
    "def name2hex(name: str, color_map: Mapping[str, int]) -> str:\n",
    "```\n",
    "\n",
    "使用`abc.Mapping`允许调用者使用`dict`、`defaultdict`、`ChainMap`、一个`UserDict`的子类，或任何其他继承了`Mapping`的子类。\n",
    "\n",
    "相反地，看下面这个签名：\n",
    "```py\n",
    "def name2hex(name: str, color_map: dict[str, int]) -> str:\n",
    "```\n",
    "现在`color_map`必须为`dict`或它的子类，比如`defaultDict`或`OrderedDict`。实际上，`collections.UserDict`子类不会通过`color_map`的类型检查。因为`UserDict`不是`dict`的子类。它们是兄弟关系，都继承自`abc.MutableMapping`。\n",
    "\n",
    "所以，通常来说在类型注解中使用`abc.Mapping`或`abc.MutableMapping`，而不是`dict`或`typing.Dict`更好。如果`name2hex`函数不需要修改给定的`color_map`，那么最准确的注解类型是`abc.Mapping`。这样，调用者不需要提供实现了像`setdefault`、`pop`和`update`方法的对象，它们仅来自`MutableMapping`接口。\n",
    "\n",
    "一个函数的返回值通常是具体对象，所以返回类型注解应该是具体类型：\n",
    "```py\n",
    "def tokenize(text: str) -> list[str]:\n",
    "    return text.upper().split()\n",
    "```\n",
    "\n",
    "Python文档关于`typing.List`描述的是：\n",
    "> `list`的泛型版本。用于注解返回类型。为了注解参数，最好使用抽象集合类型，如`Sequence`或`Iterable`。\n",
    "\n",
    "同样的描述出现在`typing.Dict`和`typing.Set`中。\n",
    "\n",
    "请记住，从Python 3.9开始，大多数来自`collections.abc`的抽象类和`collections`中的具体类，以及内置集合，都支持泛型类型注解标记，比如`collections.deque[str]`。\n",
    "\n",
    "我们下面讨论数字抽象类。\n",
    "\n",
    "### 数字塔的倒塌\n",
    "\n",
    "`numbers`包定义了所谓的数字塔(numeric tower)，该塔是抽象类的线性层次结构，`Number`位于顶层：\n",
    "* Number\n",
    "* Complex\n",
    "* Real\n",
    "* Rational\n",
    "* Integral\n",
    "\n",
    "这些抽象类非常适用于运行时类型检查，但它们不支持静态类型检查。PEP 484的\"Numeric Tower\"小节拒绝数字抽象类，并指出内置类型`complext`、`float`、`int`应该看成特例，如我们上面讨论的。\n",
    "\n",
    "实际上，如果你想标注数字参数用于静态类型检查，这里有一些选择：\n",
    "1. 使用具体类`int`、`float`或`complex`——如PEP 488建议的\n",
    "2. 定义一个联合类型，像`Union[float, Decimal, Fraction]`\n",
    "3. 如果你不想硬编码具体类，使用数字协议如`SupportsFloat`\n",
    "\n",
    "## Iterable\n",
    "\n",
    "上面引用的`typing.List`文档推荐`Sequence`和`Iterable`作为函数参数类型注解。\n",
    "\n",
    "一个`Iteralbe`参数的例子出现在`math.fsum`函数：\n",
    "```py\n",
    "def fsum(__seq: Iterable[float]) -> float:\n",
    "```\n",
    "\n",
    "下面是另一个使用`Iterable`参数的例子，产生是`tuple[str, str]`的项："
   ]
  },
  {
   "cell_type": "code",
   "execution_count": 5,
   "id": "61cc1b5c-64e0-4093-8ef1-33f354ef647e",
   "metadata": {},
   "outputs": [],
   "source": [
    "from collections.abc import Iterable\n",
    "\n",
    "FromTo = tuple[str, str] # FromTo是类型别名，为了可读性\n",
    "\n",
    "def zip_replace(text: str, changes: Iterable[FromTo]) -> str:  # changes需要是Iterable[FromTo]，即Iterable[tuple[str, str]]\n",
    "    for from_, to in changes:\n",
    "        text = text.replace(from_, to)\n",
    "    return text"
   ]
  },
  {
   "cell_type": "code",
   "execution_count": 7,
   "id": "b5c3f153-3969-41a2-a9fd-731bb05e1c59",
   "metadata": {},
   "outputs": [
    {
     "data": {
      "text/plain": [
       "'m4d sk1ll3d n00b p0wn3d l33t'"
      ]
     },
     "execution_count": 7,
     "metadata": {},
     "output_type": "execute_result"
    }
   ],
   "source": [
    "l33t = [('a', '4'), ('e', '3'), ('i', '1'), ('o', '0')]\n",
    "text = 'mad skilled noob powned leet'\n",
    "zip_replace(text, l33t)"
   ]
  },
  {
   "cell_type": "markdown",
   "id": "987ce641-88e6-4d8b-8f08-d423482a284f",
   "metadata": {},
   "source": [
    "> Python3.10中显示的类型别名(TypeAlias)\n",
    "> PEP613引入了一个特殊类型，`TypeAlias`使创建类型别名的分配更可读，更容易类型检查。\n",
    "\n",
    "### abc.Iterable vs abc.Sequence\n",
    "\n",
    "\n",
    "`math.fsum`和`zip_replace`必须迭代整个可迭代参数来返回一个结果。给定一个无限的可迭代对象，比如`itertools.cycle`生成器作为输入，这些函数会消耗所有的内存并导致Python进程崩溃。尽管存在这种潜在的危险，但现在在Python中，提供接受可迭代输入的函数是相当常见的，即使它们必须完全处理它才能返回结果。这使调用者可以选择提供输入数据作为生成器而不是一个预建的序列，如果输入项的数量很大，那么可能会节省大量的内存。\n",
    "\n",
    "另一方面，上面例子中的`columnize`函数需要一个`Sequence`参数而不是`Iterable`，因为它必须调用输入的`len()`。\n",
    "\n",
    "像`Sequence`、`Iterable`是最适合用于参数类型的。但作为返回类型太模糊了。一个函数应该更精确地描述它所返回的具体类型。\n",
    "\n",
    "与`Iterable`紧密关联的是`Iterator`类型，用于上面例子中的返回类型。\n",
    "\n",
    "## 参数化泛型和TypeVar\n",
    "\n",
    "一个参数化泛型(parameterized generic)是一种泛型类，写作`list[T]`，其中`T`是类型变量，会绑定到具体类型。这允许在结果类型上反映一个参数类型。\n",
    "\n",
    "下面定义了`sample`，一个函数接收两个参数：类型`T`的`Sequence`，和`int`。它返回同样`T`类型的元素列表。"
   ]
  },
  {
   "cell_type": "code",
   "execution_count": 8,
   "id": "185cf5ae-363d-4094-b595-0ae7b668dd14",
   "metadata": {},
   "outputs": [],
   "source": [
    "from collections.abc import Sequence\n",
    "from random import shuffle\n",
    "from typing import TypeVar\n",
    "\n",
    "T = TypeVar('T')\n",
    "\n",
    "def sample(population: Sequence[T], size: int) -> list[T]:\n",
    "    if size < 1:\n",
    "        raise ValueError('size must be >= 1')\n",
    "    result = list(population)\n",
    "    shuffle(result)\n",
    "    return result[:size]"
   ]
  },
  {
   "cell_type": "markdown",
   "id": "1726c412-21bb-444a-9a1e-cd8a156ea7ef",
   "metadata": {},
   "source": [
    "下面是两个为什么在`sample`中使用类型变量的例子：\n",
    "* 如果基于类型元组`tuple[int, ...]`调用——它与`Sequence[int]`一致——那么类型参数是`int`，所以返回类型是`list[int]`\n",
    "* 如果基于`str`调用——它与`Sequence[str]`一致——那么类型参数为`str`，所以返回类型是`list[str]`\n",
    "\n",
    "\n",
    "> 为什么需要TypeVar\n",
    "> PEP 484的作者希望通过添加`typing`模块而不改变语言中的任何其他东西来引入类型注解。通过聪明的元编程，他们可以使`[]`操作符处理像`Sequence[T]`这样的类。但是括号内的`T`变量的名称必须在某个地方定义——否则Python解释器需要深度更改以支持`[]`作为泛型类型符号的特殊使用。这就是为什么要`typing.TypeVar`构造函数：在当前命名空间中引入变量名。像Java、C#和TypeScript这样的语言不需要预先声明类型变量的名称，因此它们没有类似于Python的TypeVar类。\n",
    "\n",
    "另一个例子来自`statistics.mode`函数，返回序列中最常见的数据。\n"
   ]
  },
  {
   "cell_type": "code",
   "execution_count": 9,
   "id": "5f724c5c-b8ec-4823-9c8b-14248abf7712",
   "metadata": {},
   "outputs": [
    {
     "data": {
      "text/plain": [
       "3"
      ]
     },
     "execution_count": 9,
     "metadata": {},
     "output_type": "execute_result"
    }
   ],
   "source": [
    "from statistics import mode\n",
    "mode([1, 1, 2, 3, 3, 3, 3, 4])"
   ]
  },
  {
   "cell_type": "markdown",
   "id": "fecf0459-46f8-4c5e-b9af-62b7dc235d5c",
   "metadata": {},
   "source": [
    "如果没使用`TypeVar`，`mode`可能会有下面这样的签名："
   ]
  },
  {
   "cell_type": "code",
   "execution_count": 10,
   "id": "0913a16d-a2c5-46c3-8507-1ca6e309f15c",
   "metadata": {},
   "outputs": [],
   "source": [
    "from collections import Counter\n",
    "from collections.abc import Iterable\n",
    "\n",
    "def mode(data: Iterable[float]) -> float:\n",
    "    pairs = Counter(data).most_common(1)\n",
    "    if len(pairs) == 0:\n",
    "        raise ValueError('no mode for empty data')\n",
    "    return pairs[0][0]"
   ]
  },
  {
   "cell_type": "markdown",
   "id": "5ecb79ae-93ae-461e-916f-d25b4a0c9f84",
   "metadata": {},
   "source": [
    "很多使用`mode`的值都是`int`或`float`，但Python还有其他的数值类型。并且希望返回类型遵循给定的`Iterable`的元素类型。我们可以使用`TypeVar`来改进该签名。让我们从一个简单但错误的参数化签名开始：\n",
    "```py\n",
    "from collections.abc import Iterable\n",
    "from typing import TypeVar\n",
    "\n",
    "T = TypeVar('T')\n",
    "\n",
    "def mode(data: Iterable[T]) -> T:\n",
    "```\n",
    "\n",
    "当类型参数`T`首次出现在签名中时，它可以是任何类型。当它第二次出现时，它将意味着与第一个相同的类型。\n",
    "\n",
    "因此，每个可迭代对象都与`Iterable[T]`一致，包括`collections.Counter`不能处理的不可哈希类型的迭代对象。我们需要限制赋予给`T`的可能类型。我们将在接下来的两个小节中看到两种这样做的方法。\n",
    "\n",
    "### 受限的TypeVar\n",
    "\n",
    "`TypeVar`接受额外的位置参数来限制类型参数。我们可以改进`mode`的签名，以接受特定的数字类型，就像这样：\n",
    "\n",
    "```py\n",
    "from collections.abc import Iterable\n",
    "from decimal import Decimal\n",
    "from fractions import Fraction\n",
    "from typing import TypeVar\n",
    "\n",
    "NumberT = TypeVar('NumberT', float, Decimal, Fraction)\n",
    "\n",
    "def mode(data: Iterable[NumberT]) -> NumberT:\n",
    "```\n",
    "\n",
    "这比之前那个好多了，然而`statistics.mode`的文档包含这样的例子：\n",
    "```py\n",
    ">>> mode([\"red\", \"blue\", \"blue\", \"red\", \"green\", \"red\", \"red\"])\n",
    "'red'\n",
    "```\n",
    "\n",
    "很快，我们就可以将`str`添加到`NumberT`的定义中来适配：\n",
    "```py\n",
    "NumberT = TypeVar('NumberT', float, Decimal, Fraction, str)\n",
    "```\n",
    "\n",
    "这当然有效，但如果`NumberT`接受`str`，它的名字就严重错了。更重要的是，我们不能不断列出认识到的`mode`可以处理的新类型。我们可以利用`TypeVar`的另一个特性做得更好。\n",
    "\n",
    "### 绑定的TypeVar\n",
    "\n",
    "查看前面`mode`示例中的方法体，我们可以看到用`Counter`类进行排序的。`Counter`是基于dict的，因此可迭代的`data`的元素类型必须是可哈希的。\n",
    "\n",
    "首先，这样的签名看起来可以工作：\n",
    "```py\n",
    "from collections.abc import Iterable, Hashable\n",
    "\n",
    "def mode(data: Iterable[Hashable]) -> Hashable:\n",
    "```\n",
    "但现在的问题是返回项的类型是`Hashable`：一个只实现了`__hash__`方法的抽象类。所以类型检查器除了允许让我们对返回值调用`hash()`方法外，不能调用其他任何方法。这非常不好用。\n",
    "\n",
    "解决方法是使用另一个`TypeVar`的可选参数：`bound`关键字参数。它设定了可接受类型的上界。在下面的例子中，我们有`bound=Hashable`，这意味着类型参数可以是`Hashable`或它的任何子类。\n"
   ]
  },
  {
   "cell_type": "code",
   "execution_count": 11,
   "id": "830dc9e4-dacc-42cd-8258-073c2098cffe",
   "metadata": {},
   "outputs": [],
   "source": [
    "from collections import Counter\n",
    "from collections.abc import Iterable, Hashable\n",
    "from typing import TypeVar\n",
    "\n",
    "HashableT = TypeVar('HashableT', bound=Hashable)\n",
    "\n",
    "def mode(data: Iterable[HashableT]) -> HashableT:\n",
    "    pairs = Counter(data).most_common(1)\n",
    "    if len(pairs) == 0:\n",
    "        raise ValueError('no mode for empty data')\n",
    "    return pairs[0][0]"
   ]
  },
  {
   "cell_type": "markdown",
   "id": "ae93fb24-d27a-4381-967c-b973da72742e",
   "metadata": {},
   "source": [
    "### AnyStr预定义的类型变量\n",
    "\n",
    "`typing`模块包括一个名为`AnyStr`的预定义`TypeVar`。它的定义是这样的：`AnyStr=TypeVar(\"AnyStr\"，bytes，str)`。`AnyStr`用于许多接受字节或`str`的函数，并返回给定类型的值。\n",
    "\n",
    "## 静态协议\n",
    "\n",
    "`Protocol`类型，如PEP 544所描述，类似于Go中的接口：协议类型通过指定一个或多个方法来定义，并且类型检查器验证是否实现了协议类型需要的方法。\n",
    "\n",
    "在Python中，协议定义被写成一个`typing.Protocol`的子类。但是，实现协议的类不需要继承、注册或声明与定义该协议的类的任何关系。由类型检查器来查找可用的协议类型并强制它们的使用。\n",
    "\n",
    "这里有一个问题，可以通过`Protocol`和`TypeVar`来解决。假设你想要创建一个函数`top(it ,n)`，它返回可迭代`it`的最大的`n`个元素：\n",
    "```py\n",
    ">>> top([4, 1, 5, 2, 6, 7, 3], 3)\n",
    "[7, 6, 5]\n",
    ">>> l = 'mango pear apple kiwi banana'.split()\n",
    ">>> top(l, 3)\n",
    "['pear', 'mango', 'kiwi']\n",
    ">>>\n",
    ">>> l2 = [(len(s), s) for s in l]\n",
    ">>> l2\n",
    "[(5, 'mango'), (4, 'pear'), (5, 'apple'), (4, 'kiwi'), (6, 'banana')]\n",
    ">>> top(l2, 3)\n",
    "[(6, 'banana'), (5, 'mango'), (5, 'apple')]\n",
    "```\n",
    "\n",
    "一个参数化的泛型`top`实现可能如下所示：\n",
    "```py\n",
    "def top(series: Iterable[T], length: int) -> list[T]:\n",
    "    ordered = sorted(series, reverse=True)\n",
    "    return ordered[:length]\n",
    "```\n",
    "\n",
    "问题在于如何限制`T`，它不能是`Any`或`object`，因为`series`必须能在`sorted`中工作。`sorted`内置项实际上接受`Iterable[Any]`，但这是因为可选参数`key`接受一个函数，能从每个元素计算任意排序键。\n",
    "如果你给`sorted`一个普通对象列表，但不提供`key`参数，会发生什么？让我们尝试一下："
   ]
  },
  {
   "cell_type": "code",
   "execution_count": 12,
   "id": "3c87c1dd-b5ba-4325-9b50-c5e8f940e7ad",
   "metadata": {},
   "outputs": [
    {
     "data": {
      "text/plain": [
       "[<object at 0x2932d1e84b0>,\n",
       " <object at 0x2932d1e83e0>,\n",
       " <object at 0x2932d1e8410>,\n",
       " <object at 0x2932d1e83a0>]"
      ]
     },
     "execution_count": 12,
     "metadata": {},
     "output_type": "execute_result"
    }
   ],
   "source": [
    "l = [object() for _ in range(4)]\n",
    "l"
   ]
  },
  {
   "cell_type": "code",
   "execution_count": 13,
   "id": "e7f2bc4c-a362-442b-9026-3d4db8287f04",
   "metadata": {},
   "outputs": [
    {
     "ename": "TypeError",
     "evalue": "'<' not supported between instances of 'object' and 'object'",
     "output_type": "error",
     "traceback": [
      "\u001b[1;31m---------------------------------------------------------------------------\u001b[0m",
      "\u001b[1;31mTypeError\u001b[0m                                 Traceback (most recent call last)",
      "Cell \u001b[1;32mIn [13], line 1\u001b[0m\n\u001b[1;32m----> 1\u001b[0m \u001b[38;5;28;43msorted\u001b[39;49m\u001b[43m(\u001b[49m\u001b[43ml\u001b[49m\u001b[43m)\u001b[49m\n",
      "\u001b[1;31mTypeError\u001b[0m: '<' not supported between instances of 'object' and 'object'"
     ]
    }
   ],
   "source": [
    "sorted(l)"
   ]
  },
  {
   "cell_type": "markdown",
   "id": "54f32d38-ee28-4d9c-af56-0bdea43a4799",
   "metadata": {},
   "source": [
    "错误消息显示`sorted`在可迭代的元素上使用`<`操作符进行排序。这就够了吗？让我们来做另一个的实验："
   ]
  },
  {
   "cell_type": "code",
   "execution_count": 14,
   "id": "d09563b7-484d-4cf7-b163-7a47793ed2de",
   "metadata": {},
   "outputs": [],
   "source": [
    "class Spam:\n",
    "    def __init__(self, n): \n",
    "        self.n = n\n",
    "    def __lt__(self, other): \n",
    "        return self.n < other.n\n",
    "    def __repr__(self):\n",
    "        return f'Spam({self.n})'"
   ]
  },
  {
   "cell_type": "code",
   "execution_count": 15,
   "id": "483121eb-1577-49bf-a5fb-832cf4cb2dd9",
   "metadata": {},
   "outputs": [
    {
     "data": {
      "text/plain": [
       "[Spam(5), Spam(4), Spam(3), Spam(2), Spam(1)]"
      ]
     },
     "execution_count": 15,
     "metadata": {},
     "output_type": "execute_result"
    }
   ],
   "source": [
    "l = [Spam(n) for n in range(5, 0, -1)]\n",
    "l"
   ]
  },
  {
   "cell_type": "code",
   "execution_count": 16,
   "id": "f8c019ac-b2f7-4578-a8bd-f48c7aadc567",
   "metadata": {},
   "outputs": [
    {
     "data": {
      "text/plain": [
       "[Spam(1), Spam(2), Spam(3), Spam(4), Spam(5)]"
      ]
     },
     "execution_count": 16,
     "metadata": {},
     "output_type": "execute_result"
    }
   ],
   "source": [
    "sorted(l)"
   ]
  },
  {
   "cell_type": "markdown",
   "id": "7379ba48-e9e0-4e8a-beb2-46a6d23ba6da",
   "metadata": {},
   "source": [
    "这证实了这一点：我可以对`Spam`列表进行排序，因为`Spam`实现了支持`<`操作符的`__lt__`方法。\n",
    "\n",
    "因此，实现中的`T`类型参数应该限制于实现`__lt__`的类型。在前面，我们需要一个实现`__hash__`的类型参数，所以我们能够使用类型`Hashable`为类型参数的上界。但是现在在`typing`或`abc`中没有合适的类型来使用，所以我们需要创建它。先忙显示了新的`SupportsLessThan`，一个`Protocol`："
   ]
  },
  {
   "cell_type": "code",
   "execution_count": 2,
   "id": "4b97bf1b-df6d-4ed5-aa29-5fe6eb4f95d0",
   "metadata": {},
   "outputs": [],
   "source": [
    "from typing import Protocol, Any\n",
    "\n",
    "class SupportsLessThan(Protocol):  # 协议是typing.Protocol的子类\n",
    "    # 包含一个或多个方法定义，方法体中为 ...\n",
    "    def __lt__(self, other: Any) -> bool: \n",
    "        ..."
   ]
  },
  {
   "cell_type": "markdown",
   "id": "2e3fb06e-09e9-4b7e-bdc6-17b80703ef22",
   "metadata": {},
   "source": [
    "一个类型`T`与一个协议`P`一致，如果`T`实现了`P`中定义的所有方法，以及匹配的类型签名。\n",
    "\n",
    "给定`SupportsLessThan`，我们就可以定义可工作版的`top`。\n",
    "\n"
   ]
  },
  {
   "cell_type": "code",
   "execution_count": 3,
   "id": "15c7c42e-3a25-4273-9a5d-1e30312fe602",
   "metadata": {},
   "outputs": [],
   "source": [
    "from collections.abc import Iterable\n",
    "from typing import TypeVar\n",
    "\n",
    "LT = TypeVar('LT', bound=SupportsLessThan)\n",
    "\n",
    "def top(series: Iterable[LT], length: int) -> list[LT]:\n",
    "    ordered = sorted(series, reverse=True)\n",
    "    return ordered[:length]"
   ]
  },
  {
   "cell_type": "markdown",
   "id": "c64444a4-2641-47c4-b298-219305f59891",
   "metadata": {},
   "source": [
    "让我们测试驱动`top`，下面实现了测试代码。首先基于生成器表达式调用`top`，然后用`object`列表。基于`object`列表，期望一个`TypeError`异常。\n",
    "```py\n",
    "from collections.abc import Iterator\n",
    "from typing import TYPE_CHECKING  # TYPE_CHECKING在运行时为False，但类型检查器在类型检查时假装它为True\n",
    "\n",
    "import pytest\n",
    "\n",
    "from top import top\n",
    "\n",
    "@pytest.mark.parametrize('series, length, expected', [\n",
    "    ((1, 2, 3), 2, [3, 2]),\n",
    "    ((1, 2, 3), 3, [3, 2, 1]),\n",
    "    ((3, 3, 3), 1, [3]),\n",
    "])\n",
    "def test_top(\n",
    "    series: tuple[float, ...],\n",
    "    length: int,\n",
    "    expected: list[float],\n",
    ") -> None:\n",
    "    result = top(series, length)\n",
    "    assert expected == result\n",
    "\n",
    "def test_top_tuples() -> None:\n",
    "    fruit = 'mango pear apple kiwi banana'.split()\n",
    "    series: Iterator[tuple[int, str]] = (  # series变量的显示类型定义\n",
    "        (len(s), s) for s in fruit)\n",
    "    length = 3\n",
    "    expected = [(6, 'banana'), (5, 'mango'), (5, 'apple')]\n",
    "    result = top(series, length)\n",
    "    if TYPE_CHECKING:  # 只有测试时才运行下面三行代码\n",
    "        reveal_type(series)  # reveal_type不能在运行时调用，因为它不是一个常规函数，而是一个Mypy调试工具，不需要import\n",
    "        reveal_type(expected)\n",
    "        reveal_type(result)\n",
    "    assert result == expected\n",
    "\n",
    "# intentional type error\n",
    "def test_top_objects_error() -> None:\n",
    "    series = [object() for _ in range(4)]\n",
    "    if TYPE_CHECKING:\n",
    "        reveal_type(series)\n",
    "    with pytest.raises(TypeError) as excinfo:\n",
    "        top(series, 3)  # 该行会由Mppy标记为错误\n",
    "    assert \"'<' not supported\" in str(excinfo.value)\n",
    "```\n",
    "\n",
    "前面的测试通过了——但是无论`top.py`中有没有类型提示都会通过。更重要的是，如果我用Mypy检查该测试文件，我将看到`TypeVar`正在按照预期进行工作。请参见mypy命令输出:"
   ]
  },
  {
   "cell_type": "code",
   "execution_count": 8,
   "id": "e524a68d-9890-4489-875f-538f9438f3b0",
   "metadata": {},
   "outputs": [
    {
     "name": "stdout",
     "output_type": "stream",
     "text": [
      "comparable\\top_test.py:29: note: Revealed type is \"typing.Iterator[Tuple[builtins.int, builtins.str]]\"\n",
      "comparable\\top_test.py:30: note: Revealed type is \"builtins.list[Tuple[builtins.int, builtins.str]]\"\n",
      "comparable\\top_test.py:31: note: Revealed type is \"builtins.list[Tuple[builtins.int, builtins.str]]\"\n",
      "comparable\\top_test.py:38: note: Revealed type is \"builtins.list[builtins.object]\"\n",
      "comparable\\top_test.py:40: error: Value of type variable \"LT\" of \"top\" cannot be \"object\"\n",
      "Found 1 error in 1 file (checked 1 source file)\n"
     ]
    }
   ],
   "source": [
    "! mypy ./comparable/top_test.py"
   ]
  },
  {
   "cell_type": "markdown",
   "id": "1b35635f-790a-4cac-b7cb-2e53c76873e5",
   "metadata": {},
   "source": [
    "```py\n",
    "comparable\\top_test.py:29: note:\n",
    "    Revealed type is \"typing.Iterator[Tuple[builtins.int, builtins.str]]\" # 在test_top_tuples中，reveal_type(series)返回Iterator[Tuple[int, str]]\n",
    "comparable\\top_test.py:30: note: \n",
    "    Revealed type is \"builtins.list[Tuple[builtins.int, builtins.str]]\"\n",
    "comparable\\top_test.py:31: note: \n",
    "    Revealed type is \"builtins.list[Tuple[builtins.int, builtins.str]]\" # reveal_type(result)确定top返回的类型是 list[tuple[int, str]]\n",
    "comparable\\top_test.py:38: note: \n",
    "    Revealed type is \"builtins.list[builtins.object]\" \n",
    "comparable\\top_test.py:40: error: Value of type variable \"LT\" of \"top\" cannot be \"object\" # 检测到了故意触发的错误，series的元素类型必须是SupportLessThan\n",
    "Found 1 error in 1 file (checked 1 source file)\n",
    "```\n",
    "\n",
    "在抽象类上的协议类型的关键优势是类型不需要任何特殊声明而可以与一个协议类型一致。这允许我们可以创建一个利用预先存在类型的协议。在需要使用`SupportsLessThan`时，我们不需要继承或注册`str`，`tuple`，`float`，`set`等,只需要实现`__lt__`。而且类型检查器仍然能够完成它的工作，因为支持`SupportsLessThan`被显式地定义为一个协议——与鸭子类型中常见的隐式协议相反，后者对类型检查器是不可见的。\n",
    "\n",
    "## 可调用\n",
    "\n",
    "为了标注可回调参数或由高阶函数返回的可调用(callable)对象，`collections.abc`提供了`Callable`类型：\n",
    "```py\n",
    "Callable[[ParamType1, ParamType2], ReturnType]\n",
    "```\n",
    "参数列表`[ParamType1, ParamType2]`可以有0个或多个类型。下面是`repl`函数的例子：\n",
    "```py\n",
    "def repl(input_fn: Callable[[Any], str] = input]) -> None:\n",
    "```\n",
    "在使用时，`repl`函数使用Python的内建`input`读取用户的表达式。然而，但是，对于自动化测试或与其他输入源的集成，`repl`接收一个可选参数`input_fn`：一个具有同样参数和返回类型作为输入的可调用对象。\n",
    "```py\n",
    "def input(__prompt: Any = ...) -> str: ...\n",
    "```\n",
    "`input`签名与`Callable`类型注解一致：\n",
    "```py\n",
    "Callable[[Any], str]\n",
    "```\n",
    "没有可以用来注释可选参数类型或关键字参数类型的语法。`typing.Callable`文档说这些函数类型几乎捕获作为可回调类型。如果你需要一个类型注解来匹配具有灵活签名的函数，那么可以将整个参数列表用`...`替代：\n",
    "```py\n",
    "Callable[..., ReturnType]\n",
    "```\n",
    "\n",
    "泛型类型参数与类型层次结构的交互引入了一个新的类型概念：variance。\n",
    "\n",
    "### 可调用类型中的Variance\n",
    "\n",
    "\n",
    "有一个温度控制系统，具有一个简单的`update`函数。它通过调用`probe`函数来获取当前的温度，然后调用`display`显示温度。`probe`和`display`都作为参数传递。本示例的目的是对比两个`Callable`注解：一个有返回类型，另一个有参数类型。\n",
    "\n",
    "```py\n",
    "from collections.abc import Callable\n",
    "\n",
    "def update(  # update函数有两个可调用参数\n",
    "        probe: Callable[[], float],  # probe必须是无参且返回float的可调用对象\n",
    "        display: Callable[[float], None]  # display有一个float参数且返回None\n",
    "    ) -> None:\n",
    "    temperature = probe()\n",
    "    # imagine lots of control code here\n",
    "    display(temperature)\n",
    "\n",
    "def probe_ok() -> int:  # probe_ok与Callable[[], float]一致，因为返回int并没有违反期望的float\n",
    "    return 42\n",
    "\n",
    "def display_wrong(temperature: int) -> None:  # display_wrong与Callable[[float], None]不一致，因为无法保证期望int的函数能处理float，比如hex函数期望int但拒绝float\n",
    "    print(hex(temperature))\n",
    "\n",
    "update(probe_ok, display_wrong)  # type error  # Mypy标记该行，因为上面的原因\n",
    "\n",
    "def display_ok(temperature: complex) -> None:  # display_ok与Callable[[float], None]一致，因为接收complex的函数也能处理float\n",
    "    print(temperature)\n",
    "\n",
    "update(probe_ok, display_ok)  # OK  # Mypy不会报告错误\n",
    "```\n",
    "\n",
    "## NoReturn\n",
    "\n",
    "\n",
    "这是一个用于标记函数不会有返回的特殊类型。通常，它们的存在是为了抛出异常。在标准库中有几十个这样的函数。\n",
    "\n",
    "\n",
    "比如`sys.exit()`抛出`SystemExit`异常来终止Python进程。\n",
    "\n",
    "它在typeshed的签名如下：\n",
    "```py\n",
    "def exit(__status: object = ...) -> NoReturn: ...\n",
    "```\n",
    "\n",
    "`__status`是一个仅位置参数，并且有默认值。Stub文件不会写出默认值，而使用`...`替代。`__status`的类型是`object`，这意味着可能为`None`。\n",
    "\n",
    "# 注解仅位置参数和可变参数\n",
    "\n",
    "我们之前看到最后版本的`tag`如下：\n",
    "```py\n",
    "def tag(name, /, *content, class_=None, **attrs):\n",
    "```\n",
    "\n",
    "\n",
    "下面完全注释的，用几行编写——这是长签名的常见约定，用blue格式化程序的方式分隔：\n",
    "```py\n",
    "from typing import Optional\n",
    "\n",
    "def tag(\n",
    "    name: str,\n",
    "    /,\n",
    "    *content: str,\n",
    "    class_: Optional[str] = None,\n",
    "    **attrs: str,\n",
    ") -> str:\n",
    "```\n",
    "\n",
    "注意类型注释`*content: str`表示任意位置参数，同时这些参数的所有类型必须为`str`。函数体中`content`局部变量类型会是`tuple[str, ...]`。\n",
    "\n",
    "表示任意关键字参数的类型注解是`**attrs: str`，因此函数中`attrs`的类型是`dict[str, str]`。而对于类型注解`**attrs: float`，函数中的`attrs`的类型会是`dict[str, float]`。\n",
    "\n",
    "\n"
   ]
  }
 ],
 "metadata": {
  "kernelspec": {
   "display_name": "Python 3 (ipykernel)",
   "language": "python",
   "name": "python3"
  },
  "language_info": {
   "codemirror_mode": {
    "name": "ipython",
    "version": 3
   },
   "file_extension": ".py",
   "mimetype": "text/x-python",
   "name": "python",
   "nbconvert_exporter": "python",
   "pygments_lexer": "ipython3",
   "version": "3.10.0"
  }
 },
 "nbformat": 4,
 "nbformat_minor": 5
}
